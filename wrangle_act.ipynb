{
 "cells": [
  {
   "cell_type": "markdown",
   "metadata": {
    "extensions": {
     "jupyter_dashboards": {
      "version": 1,
      "views": {
       "grid_default": {
        "col": 0,
        "height": 4,
        "hidden": false,
        "row": 0,
        "width": 4
       },
       "report_default": {
        "hidden": false
       }
      }
     }
    }
   },
   "source": [
    "# Project: Wrangling and Analyze Data"
   ]
  },
  {
   "cell_type": "code",
   "execution_count": 1,
   "metadata": {},
   "outputs": [],
   "source": [
    "#load packages\n",
    "import pandas as pd\n",
    "import numpy as np\n",
    "import re\n",
    "\n",
    "import requests\n",
    "import os\n",
    "#import tweepy\n",
    "import json\n",
    "\n",
    "import matplotlib.pyplot as plt\n",
    "%matplotlib inline\n",
    "import seaborn as sb\n",
    "from wordcloud import WordCloud"
   ]
  },
  {
   "cell_type": "markdown",
   "metadata": {},
   "source": [
    "## Data Gathering\n",
    "In the cell below, gather **all** three pieces of data for this project and load them in the notebook. **Note:** the methods required to gather each data are different.\n",
    "1. Directly download the WeRateDogs Twitter archive data (twitter_archive_enhanced.csv)"
   ]
  },
  {
   "cell_type": "code",
   "execution_count": 2,
   "metadata": {
    "extensions": {
     "jupyter_dashboards": {
      "version": 1,
      "views": {
       "grid_default": {
        "hidden": true
       },
       "report_default": {
        "hidden": true
       }
      }
     }
    }
   },
   "outputs": [
    {
     "name": "stdout",
     "output_type": "stream",
     "text": [
      "(2356, 17)\n"
     ]
    },
    {
     "data": {
      "text/html": [
       "<div>\n",
       "<style scoped>\n",
       "    .dataframe tbody tr th:only-of-type {\n",
       "        vertical-align: middle;\n",
       "    }\n",
       "\n",
       "    .dataframe tbody tr th {\n",
       "        vertical-align: top;\n",
       "    }\n",
       "\n",
       "    .dataframe thead th {\n",
       "        text-align: right;\n",
       "    }\n",
       "</style>\n",
       "<table border=\"1\" class=\"dataframe\">\n",
       "  <thead>\n",
       "    <tr style=\"text-align: right;\">\n",
       "      <th></th>\n",
       "      <th>tweet_id</th>\n",
       "      <th>in_reply_to_status_id</th>\n",
       "      <th>in_reply_to_user_id</th>\n",
       "      <th>timestamp</th>\n",
       "      <th>source</th>\n",
       "      <th>text</th>\n",
       "      <th>retweeted_status_id</th>\n",
       "      <th>retweeted_status_user_id</th>\n",
       "      <th>retweeted_status_timestamp</th>\n",
       "      <th>expanded_urls</th>\n",
       "      <th>rating_numerator</th>\n",
       "      <th>rating_denominator</th>\n",
       "      <th>name</th>\n",
       "      <th>doggo</th>\n",
       "      <th>floofer</th>\n",
       "      <th>pupper</th>\n",
       "      <th>puppo</th>\n",
       "    </tr>\n",
       "  </thead>\n",
       "  <tbody>\n",
       "    <tr>\n",
       "      <th>522</th>\n",
       "      <td>809808892968534016</td>\n",
       "      <td>NaN</td>\n",
       "      <td>NaN</td>\n",
       "      <td>2016-12-16 17:14:20 +0000</td>\n",
       "      <td>&lt;a href=\"http://twitter.com/download/iphone\" r...</td>\n",
       "      <td>RT @dog_rates: This is Maximus. His face is st...</td>\n",
       "      <td>7.939622e+17</td>\n",
       "      <td>4.196984e+09</td>\n",
       "      <td>2016-11-02 23:45:19 +0000</td>\n",
       "      <td>https://twitter.com/dog_rates/status/793962221...</td>\n",
       "      <td>12</td>\n",
       "      <td>10</td>\n",
       "      <td>Maximus</td>\n",
       "      <td>NaN</td>\n",
       "      <td>NaN</td>\n",
       "      <td>NaN</td>\n",
       "      <td>NaN</td>\n",
       "    </tr>\n",
       "    <tr>\n",
       "      <th>382</th>\n",
       "      <td>827228250799742977</td>\n",
       "      <td>NaN</td>\n",
       "      <td>NaN</td>\n",
       "      <td>2017-02-02 18:52:38 +0000</td>\n",
       "      <td>&lt;a href=\"http://twitter.com/download/iphone\" r...</td>\n",
       "      <td>RT @dog_rates: This is Phil. He's an important...</td>\n",
       "      <td>6.946697e+17</td>\n",
       "      <td>4.196984e+09</td>\n",
       "      <td>2016-02-02 23:52:22 +0000</td>\n",
       "      <td>https://twitter.com/dog_rates/status/694669722...</td>\n",
       "      <td>12</td>\n",
       "      <td>10</td>\n",
       "      <td>Phil</td>\n",
       "      <td>NaN</td>\n",
       "      <td>NaN</td>\n",
       "      <td>NaN</td>\n",
       "      <td>NaN</td>\n",
       "    </tr>\n",
       "    <tr>\n",
       "      <th>370</th>\n",
       "      <td>828409743546925057</td>\n",
       "      <td>NaN</td>\n",
       "      <td>NaN</td>\n",
       "      <td>2017-02-06 01:07:28 +0000</td>\n",
       "      <td>&lt;a href=\"http://twitter.com/download/iphone\" r...</td>\n",
       "      <td>This is Mutt Ryan. He's quite confident at the...</td>\n",
       "      <td>NaN</td>\n",
       "      <td>NaN</td>\n",
       "      <td>NaN</td>\n",
       "      <td>https://twitter.com/dog_rates/status/828409743...</td>\n",
       "      <td>12</td>\n",
       "      <td>10</td>\n",
       "      <td>Mutt</td>\n",
       "      <td>NaN</td>\n",
       "      <td>NaN</td>\n",
       "      <td>NaN</td>\n",
       "      <td>NaN</td>\n",
       "    </tr>\n",
       "    <tr>\n",
       "      <th>104</th>\n",
       "      <td>872261713294495745</td>\n",
       "      <td>NaN</td>\n",
       "      <td>NaN</td>\n",
       "      <td>2017-06-07 01:19:32 +0000</td>\n",
       "      <td>&lt;a href=\"http://twitter.com/download/iphone\" r...</td>\n",
       "      <td>This is Harry. His ears are activated one at a...</td>\n",
       "      <td>NaN</td>\n",
       "      <td>NaN</td>\n",
       "      <td>NaN</td>\n",
       "      <td>https://twitter.com/dog_rates/status/872261713...</td>\n",
       "      <td>13</td>\n",
       "      <td>10</td>\n",
       "      <td>Harry</td>\n",
       "      <td>NaN</td>\n",
       "      <td>NaN</td>\n",
       "      <td>NaN</td>\n",
       "      <td>NaN</td>\n",
       "    </tr>\n",
       "    <tr>\n",
       "      <th>1157</th>\n",
       "      <td>724405726123311104</td>\n",
       "      <td>NaN</td>\n",
       "      <td>NaN</td>\n",
       "      <td>2016-04-25 01:12:38 +0000</td>\n",
       "      <td>&lt;a href=\"http://twitter.com/download/iphone\" r...</td>\n",
       "      <td>This is Ashleigh. She's having Coachella withd...</td>\n",
       "      <td>NaN</td>\n",
       "      <td>NaN</td>\n",
       "      <td>NaN</td>\n",
       "      <td>https://twitter.com/dog_rates/status/724405726...</td>\n",
       "      <td>10</td>\n",
       "      <td>10</td>\n",
       "      <td>Ashleigh</td>\n",
       "      <td>NaN</td>\n",
       "      <td>NaN</td>\n",
       "      <td>pupper</td>\n",
       "      <td>NaN</td>\n",
       "    </tr>\n",
       "  </tbody>\n",
       "</table>\n",
       "</div>"
      ],
      "text/plain": [
       "                tweet_id  in_reply_to_status_id  in_reply_to_user_id  \\\n",
       "522   809808892968534016                    NaN                  NaN   \n",
       "382   827228250799742977                    NaN                  NaN   \n",
       "370   828409743546925057                    NaN                  NaN   \n",
       "104   872261713294495745                    NaN                  NaN   \n",
       "1157  724405726123311104                    NaN                  NaN   \n",
       "\n",
       "                      timestamp  \\\n",
       "522   2016-12-16 17:14:20 +0000   \n",
       "382   2017-02-02 18:52:38 +0000   \n",
       "370   2017-02-06 01:07:28 +0000   \n",
       "104   2017-06-07 01:19:32 +0000   \n",
       "1157  2016-04-25 01:12:38 +0000   \n",
       "\n",
       "                                                 source  \\\n",
       "522   <a href=\"http://twitter.com/download/iphone\" r...   \n",
       "382   <a href=\"http://twitter.com/download/iphone\" r...   \n",
       "370   <a href=\"http://twitter.com/download/iphone\" r...   \n",
       "104   <a href=\"http://twitter.com/download/iphone\" r...   \n",
       "1157  <a href=\"http://twitter.com/download/iphone\" r...   \n",
       "\n",
       "                                                   text  retweeted_status_id  \\\n",
       "522   RT @dog_rates: This is Maximus. His face is st...         7.939622e+17   \n",
       "382   RT @dog_rates: This is Phil. He's an important...         6.946697e+17   \n",
       "370   This is Mutt Ryan. He's quite confident at the...                  NaN   \n",
       "104   This is Harry. His ears are activated one at a...                  NaN   \n",
       "1157  This is Ashleigh. She's having Coachella withd...                  NaN   \n",
       "\n",
       "      retweeted_status_user_id retweeted_status_timestamp  \\\n",
       "522               4.196984e+09  2016-11-02 23:45:19 +0000   \n",
       "382               4.196984e+09  2016-02-02 23:52:22 +0000   \n",
       "370                        NaN                        NaN   \n",
       "104                        NaN                        NaN   \n",
       "1157                       NaN                        NaN   \n",
       "\n",
       "                                          expanded_urls  rating_numerator  \\\n",
       "522   https://twitter.com/dog_rates/status/793962221...                12   \n",
       "382   https://twitter.com/dog_rates/status/694669722...                12   \n",
       "370   https://twitter.com/dog_rates/status/828409743...                12   \n",
       "104   https://twitter.com/dog_rates/status/872261713...                13   \n",
       "1157  https://twitter.com/dog_rates/status/724405726...                10   \n",
       "\n",
       "      rating_denominator      name doggo floofer  pupper puppo  \n",
       "522                   10   Maximus   NaN     NaN     NaN   NaN  \n",
       "382                   10      Phil   NaN     NaN     NaN   NaN  \n",
       "370                   10      Mutt   NaN     NaN     NaN   NaN  \n",
       "104                   10     Harry   NaN     NaN     NaN   NaN  \n",
       "1157                  10  Ashleigh   NaN     NaN  pupper   NaN  "
      ]
     },
     "execution_count": 2,
     "metadata": {},
     "output_type": "execute_result"
    }
   ],
   "source": [
    "#load twitter archive dataset into a data frame\n",
    "#read None values as NaN\n",
    "twitter_archive = pd.read_csv('data/twitter-archive-enhanced.csv', \n",
    "                              na_values={'name':['None'],\n",
    "                                         'doggo':['None'],\n",
    "                                         'floofer':['None'],\n",
    "                                         'pupper':['None'],\n",
    "                                         'puppo':['None']})\n",
    "print(twitter_archive.shape)\n",
    "twitter_archive.sample(5)"
   ]
  },
  {
   "cell_type": "code",
   "execution_count": 3,
   "metadata": {},
   "outputs": [],
   "source": [
    "#twitter_archive.timestamp.value_counts()"
   ]
  },
  {
   "cell_type": "markdown",
   "metadata": {},
   "source": [
    "2. Use the Requests library to download the tweet image prediction (image_predictions.tsv)"
   ]
  },
  {
   "cell_type": "code",
   "execution_count": 4,
   "metadata": {},
   "outputs": [],
   "source": [
    "#Create a request to get tweet image predictions\n",
    "url = 'https://d17h27t6h515a5.cloudfront.net/topher/2017/August/599fd2ad_image-predictions/image-predictions.tsv'\n",
    "response = requests.get(url)\n",
    "\n",
    "folder_name = 'data'"
   ]
  },
  {
   "cell_type": "code",
   "execution_count": 5,
   "metadata": {},
   "outputs": [],
   "source": [
    "#Access the contents in the response and write to file\n",
    "with open(os.path.join(folder_name, url.split('/')[-1]), mode = 'wb') as file:\n",
    "    file.write(response.content)"
   ]
  },
  {
   "cell_type": "code",
   "execution_count": 6,
   "metadata": {},
   "outputs": [
    {
     "name": "stdout",
     "output_type": "stream",
     "text": [
      "(2075, 12)\n"
     ]
    },
    {
     "data": {
      "text/html": [
       "<div>\n",
       "<style scoped>\n",
       "    .dataframe tbody tr th:only-of-type {\n",
       "        vertical-align: middle;\n",
       "    }\n",
       "\n",
       "    .dataframe tbody tr th {\n",
       "        vertical-align: top;\n",
       "    }\n",
       "\n",
       "    .dataframe thead th {\n",
       "        text-align: right;\n",
       "    }\n",
       "</style>\n",
       "<table border=\"1\" class=\"dataframe\">\n",
       "  <thead>\n",
       "    <tr style=\"text-align: right;\">\n",
       "      <th></th>\n",
       "      <th>tweet_id</th>\n",
       "      <th>jpg_url</th>\n",
       "      <th>img_num</th>\n",
       "      <th>p1</th>\n",
       "      <th>p1_conf</th>\n",
       "      <th>p1_dog</th>\n",
       "      <th>p2</th>\n",
       "      <th>p2_conf</th>\n",
       "      <th>p2_dog</th>\n",
       "      <th>p3</th>\n",
       "      <th>p3_conf</th>\n",
       "      <th>p3_dog</th>\n",
       "    </tr>\n",
       "  </thead>\n",
       "  <tbody>\n",
       "    <tr>\n",
       "      <th>0</th>\n",
       "      <td>666020888022790149</td>\n",
       "      <td>https://pbs.twimg.com/media/CT4udn0WwAA0aMy.jpg</td>\n",
       "      <td>1</td>\n",
       "      <td>Welsh_springer_spaniel</td>\n",
       "      <td>0.465074</td>\n",
       "      <td>True</td>\n",
       "      <td>collie</td>\n",
       "      <td>0.156665</td>\n",
       "      <td>True</td>\n",
       "      <td>Shetland_sheepdog</td>\n",
       "      <td>0.061428</td>\n",
       "      <td>True</td>\n",
       "    </tr>\n",
       "    <tr>\n",
       "      <th>1</th>\n",
       "      <td>666029285002620928</td>\n",
       "      <td>https://pbs.twimg.com/media/CT42GRgUYAA5iDo.jpg</td>\n",
       "      <td>1</td>\n",
       "      <td>redbone</td>\n",
       "      <td>0.506826</td>\n",
       "      <td>True</td>\n",
       "      <td>miniature_pinscher</td>\n",
       "      <td>0.074192</td>\n",
       "      <td>True</td>\n",
       "      <td>Rhodesian_ridgeback</td>\n",
       "      <td>0.072010</td>\n",
       "      <td>True</td>\n",
       "    </tr>\n",
       "    <tr>\n",
       "      <th>2</th>\n",
       "      <td>666033412701032449</td>\n",
       "      <td>https://pbs.twimg.com/media/CT4521TWwAEvMyu.jpg</td>\n",
       "      <td>1</td>\n",
       "      <td>German_shepherd</td>\n",
       "      <td>0.596461</td>\n",
       "      <td>True</td>\n",
       "      <td>malinois</td>\n",
       "      <td>0.138584</td>\n",
       "      <td>True</td>\n",
       "      <td>bloodhound</td>\n",
       "      <td>0.116197</td>\n",
       "      <td>True</td>\n",
       "    </tr>\n",
       "    <tr>\n",
       "      <th>3</th>\n",
       "      <td>666044226329800704</td>\n",
       "      <td>https://pbs.twimg.com/media/CT5Dr8HUEAA-lEu.jpg</td>\n",
       "      <td>1</td>\n",
       "      <td>Rhodesian_ridgeback</td>\n",
       "      <td>0.408143</td>\n",
       "      <td>True</td>\n",
       "      <td>redbone</td>\n",
       "      <td>0.360687</td>\n",
       "      <td>True</td>\n",
       "      <td>miniature_pinscher</td>\n",
       "      <td>0.222752</td>\n",
       "      <td>True</td>\n",
       "    </tr>\n",
       "    <tr>\n",
       "      <th>4</th>\n",
       "      <td>666049248165822465</td>\n",
       "      <td>https://pbs.twimg.com/media/CT5IQmsXIAAKY4A.jpg</td>\n",
       "      <td>1</td>\n",
       "      <td>miniature_pinscher</td>\n",
       "      <td>0.560311</td>\n",
       "      <td>True</td>\n",
       "      <td>Rottweiler</td>\n",
       "      <td>0.243682</td>\n",
       "      <td>True</td>\n",
       "      <td>Doberman</td>\n",
       "      <td>0.154629</td>\n",
       "      <td>True</td>\n",
       "    </tr>\n",
       "  </tbody>\n",
       "</table>\n",
       "</div>"
      ],
      "text/plain": [
       "             tweet_id                                          jpg_url  \\\n",
       "0  666020888022790149  https://pbs.twimg.com/media/CT4udn0WwAA0aMy.jpg   \n",
       "1  666029285002620928  https://pbs.twimg.com/media/CT42GRgUYAA5iDo.jpg   \n",
       "2  666033412701032449  https://pbs.twimg.com/media/CT4521TWwAEvMyu.jpg   \n",
       "3  666044226329800704  https://pbs.twimg.com/media/CT5Dr8HUEAA-lEu.jpg   \n",
       "4  666049248165822465  https://pbs.twimg.com/media/CT5IQmsXIAAKY4A.jpg   \n",
       "\n",
       "   img_num                      p1   p1_conf  p1_dog                  p2  \\\n",
       "0        1  Welsh_springer_spaniel  0.465074    True              collie   \n",
       "1        1                 redbone  0.506826    True  miniature_pinscher   \n",
       "2        1         German_shepherd  0.596461    True            malinois   \n",
       "3        1     Rhodesian_ridgeback  0.408143    True             redbone   \n",
       "4        1      miniature_pinscher  0.560311    True          Rottweiler   \n",
       "\n",
       "    p2_conf  p2_dog                   p3   p3_conf  p3_dog  \n",
       "0  0.156665    True    Shetland_sheepdog  0.061428    True  \n",
       "1  0.074192    True  Rhodesian_ridgeback  0.072010    True  \n",
       "2  0.138584    True           bloodhound  0.116197    True  \n",
       "3  0.360687    True   miniature_pinscher  0.222752    True  \n",
       "4  0.243682    True             Doberman  0.154629    True  "
      ]
     },
     "execution_count": 6,
     "metadata": {},
     "output_type": "execute_result"
    }
   ],
   "source": [
    "#load the contents into a data frame\n",
    "image_predictions = pd.read_csv('data/image-predictions.tsv', sep='\\t')\n",
    "print(image_predictions.shape)\n",
    "image_predictions.head()"
   ]
  },
  {
   "cell_type": "markdown",
   "metadata": {},
   "source": [
    "3. Use the Tweepy library to query additional data via the Twitter API (tweet_json.txt)"
   ]
  },
  {
   "cell_type": "markdown",
   "metadata": {},
   "source": [
    "Gather each tweet's __retweet count__ and __favorite count__"
   ]
  },
  {
   "cell_type": "code",
   "execution_count": 7,
   "metadata": {},
   "outputs": [],
   "source": [
    "#create an empty dictionary\n",
    "tweet_dict = {}"
   ]
  },
  {
   "cell_type": "code",
   "execution_count": 8,
   "metadata": {},
   "outputs": [],
   "source": [
    "#read the tweets text file line by line and add favorite_count and retweet_count to data frame\n",
    "count = 0\n",
    "with open('data/tweet-json.txt', 'r') as file:\n",
    "    #for every line in tweet text file, get the json\n",
    "    for line in file:\n",
    "        tweets_json = json.loads(line)\n",
    "        \n",
    "        #retrieve favorite_count and retweet_count\n",
    "        tweet_id = tweets_json['id']\n",
    "        favorites = tweets_json['favorite_count']\n",
    "        retweets = tweets_json['retweet_count']\n",
    "        \n",
    "        #append to dictionary\n",
    "        tweet_dict[count] = (tweet_id, favorites, retweets)\n",
    "        count = count + 1  \n",
    "\n",
    "#file.close()    "
   ]
  },
  {
   "cell_type": "code",
   "execution_count": 9,
   "metadata": {},
   "outputs": [],
   "source": [
    "#print(tweet_id)\n",
    "#print(favorites)\n",
    "#print(retweets)\n",
    "#print(type(tweet_dict))"
   ]
  },
  {
   "cell_type": "code",
   "execution_count": 10,
   "metadata": {},
   "outputs": [],
   "source": [
    "#print(tweet_dict)"
   ]
  },
  {
   "cell_type": "code",
   "execution_count": 11,
   "metadata": {},
   "outputs": [
    {
     "data": {
      "text/html": [
       "<div>\n",
       "<style scoped>\n",
       "    .dataframe tbody tr th:only-of-type {\n",
       "        vertical-align: middle;\n",
       "    }\n",
       "\n",
       "    .dataframe tbody tr th {\n",
       "        vertical-align: top;\n",
       "    }\n",
       "\n",
       "    .dataframe thead th {\n",
       "        text-align: right;\n",
       "    }\n",
       "</style>\n",
       "<table border=\"1\" class=\"dataframe\">\n",
       "  <thead>\n",
       "    <tr style=\"text-align: right;\">\n",
       "      <th></th>\n",
       "      <th>0</th>\n",
       "      <th>1</th>\n",
       "      <th>2</th>\n",
       "      <th>3</th>\n",
       "      <th>4</th>\n",
       "      <th>5</th>\n",
       "      <th>6</th>\n",
       "      <th>7</th>\n",
       "      <th>8</th>\n",
       "      <th>9</th>\n",
       "      <th>...</th>\n",
       "      <th>2344</th>\n",
       "      <th>2345</th>\n",
       "      <th>2346</th>\n",
       "      <th>2347</th>\n",
       "      <th>2348</th>\n",
       "      <th>2349</th>\n",
       "      <th>2350</th>\n",
       "      <th>2351</th>\n",
       "      <th>2352</th>\n",
       "      <th>2353</th>\n",
       "    </tr>\n",
       "  </thead>\n",
       "  <tbody>\n",
       "    <tr>\n",
       "      <th>0</th>\n",
       "      <td>892420643555336193</td>\n",
       "      <td>892177421306343426</td>\n",
       "      <td>891815181378084864</td>\n",
       "      <td>891689557279858688</td>\n",
       "      <td>891327558926688256</td>\n",
       "      <td>891087950875897856</td>\n",
       "      <td>890971913173991426</td>\n",
       "      <td>890729181411237888</td>\n",
       "      <td>890609185150312448</td>\n",
       "      <td>890240255349198849</td>\n",
       "      <td>...</td>\n",
       "      <td>666058600524156928</td>\n",
       "      <td>666057090499244032</td>\n",
       "      <td>666055525042405380</td>\n",
       "      <td>666051853826850816</td>\n",
       "      <td>666050758794694657</td>\n",
       "      <td>666049248165822465</td>\n",
       "      <td>666044226329800704</td>\n",
       "      <td>666033412701032449</td>\n",
       "      <td>666029285002620928</td>\n",
       "      <td>666020888022790149</td>\n",
       "    </tr>\n",
       "    <tr>\n",
       "      <th>1</th>\n",
       "      <td>39467</td>\n",
       "      <td>33819</td>\n",
       "      <td>25461</td>\n",
       "      <td>42908</td>\n",
       "      <td>41048</td>\n",
       "      <td>20562</td>\n",
       "      <td>12041</td>\n",
       "      <td>56848</td>\n",
       "      <td>28226</td>\n",
       "      <td>32467</td>\n",
       "      <td>...</td>\n",
       "      <td>115</td>\n",
       "      <td>304</td>\n",
       "      <td>448</td>\n",
       "      <td>1253</td>\n",
       "      <td>136</td>\n",
       "      <td>111</td>\n",
       "      <td>311</td>\n",
       "      <td>128</td>\n",
       "      <td>132</td>\n",
       "      <td>2535</td>\n",
       "    </tr>\n",
       "    <tr>\n",
       "      <th>2</th>\n",
       "      <td>8853</td>\n",
       "      <td>6514</td>\n",
       "      <td>4328</td>\n",
       "      <td>8964</td>\n",
       "      <td>9774</td>\n",
       "      <td>3261</td>\n",
       "      <td>2158</td>\n",
       "      <td>16716</td>\n",
       "      <td>4429</td>\n",
       "      <td>7711</td>\n",
       "      <td>...</td>\n",
       "      <td>61</td>\n",
       "      <td>146</td>\n",
       "      <td>261</td>\n",
       "      <td>879</td>\n",
       "      <td>60</td>\n",
       "      <td>41</td>\n",
       "      <td>147</td>\n",
       "      <td>47</td>\n",
       "      <td>48</td>\n",
       "      <td>532</td>\n",
       "    </tr>\n",
       "  </tbody>\n",
       "</table>\n",
       "<p>3 rows × 2354 columns</p>\n",
       "</div>"
      ],
      "text/plain": [
       "                 0                   1                   2     \\\n",
       "0  892420643555336193  892177421306343426  891815181378084864   \n",
       "1               39467               33819               25461   \n",
       "2                8853                6514                4328   \n",
       "\n",
       "                 3                   4                   5     \\\n",
       "0  891689557279858688  891327558926688256  891087950875897856   \n",
       "1               42908               41048               20562   \n",
       "2                8964                9774                3261   \n",
       "\n",
       "                 6                   7                   8     \\\n",
       "0  890971913173991426  890729181411237888  890609185150312448   \n",
       "1               12041               56848               28226   \n",
       "2                2158               16716                4429   \n",
       "\n",
       "                 9     ...                2344                2345  \\\n",
       "0  890240255349198849  ...  666058600524156928  666057090499244032   \n",
       "1               32467  ...                 115                 304   \n",
       "2                7711  ...                  61                 146   \n",
       "\n",
       "                 2346                2347                2348  \\\n",
       "0  666055525042405380  666051853826850816  666050758794694657   \n",
       "1                 448                1253                 136   \n",
       "2                 261                 879                  60   \n",
       "\n",
       "                 2349                2350                2351  \\\n",
       "0  666049248165822465  666044226329800704  666033412701032449   \n",
       "1                 111                 311                 128   \n",
       "2                  41                 147                  47   \n",
       "\n",
       "                 2352                2353  \n",
       "0  666029285002620928  666020888022790149  \n",
       "1                 132                2535  \n",
       "2                  48                 532  \n",
       "\n",
       "[3 rows x 2354 columns]"
      ]
     },
     "execution_count": 11,
     "metadata": {},
     "output_type": "execute_result"
    }
   ],
   "source": [
    "#create dataframe from dict\n",
    "tweet_counts_df = pd.DataFrame(tweet_dict)\n",
    "tweet_counts_df.head()"
   ]
  },
  {
   "cell_type": "code",
   "execution_count": 12,
   "metadata": {},
   "outputs": [],
   "source": [
    "#writing rows 0,1,2 as columns\n",
    "tweet_counts_df = tweet_counts_df.transpose()"
   ]
  },
  {
   "cell_type": "code",
   "execution_count": 13,
   "metadata": {},
   "outputs": [
    {
     "data": {
      "text/html": [
       "<div>\n",
       "<style scoped>\n",
       "    .dataframe tbody tr th:only-of-type {\n",
       "        vertical-align: middle;\n",
       "    }\n",
       "\n",
       "    .dataframe tbody tr th {\n",
       "        vertical-align: top;\n",
       "    }\n",
       "\n",
       "    .dataframe thead th {\n",
       "        text-align: right;\n",
       "    }\n",
       "</style>\n",
       "<table border=\"1\" class=\"dataframe\">\n",
       "  <thead>\n",
       "    <tr style=\"text-align: right;\">\n",
       "      <th></th>\n",
       "      <th>0</th>\n",
       "      <th>1</th>\n",
       "      <th>2</th>\n",
       "    </tr>\n",
       "  </thead>\n",
       "  <tbody>\n",
       "    <tr>\n",
       "      <th>2344</th>\n",
       "      <td>666058600524156928</td>\n",
       "      <td>115</td>\n",
       "      <td>61</td>\n",
       "    </tr>\n",
       "    <tr>\n",
       "      <th>2345</th>\n",
       "      <td>666057090499244032</td>\n",
       "      <td>304</td>\n",
       "      <td>146</td>\n",
       "    </tr>\n",
       "    <tr>\n",
       "      <th>2346</th>\n",
       "      <td>666055525042405380</td>\n",
       "      <td>448</td>\n",
       "      <td>261</td>\n",
       "    </tr>\n",
       "    <tr>\n",
       "      <th>2347</th>\n",
       "      <td>666051853826850816</td>\n",
       "      <td>1253</td>\n",
       "      <td>879</td>\n",
       "    </tr>\n",
       "    <tr>\n",
       "      <th>2348</th>\n",
       "      <td>666050758794694657</td>\n",
       "      <td>136</td>\n",
       "      <td>60</td>\n",
       "    </tr>\n",
       "    <tr>\n",
       "      <th>2349</th>\n",
       "      <td>666049248165822465</td>\n",
       "      <td>111</td>\n",
       "      <td>41</td>\n",
       "    </tr>\n",
       "    <tr>\n",
       "      <th>2350</th>\n",
       "      <td>666044226329800704</td>\n",
       "      <td>311</td>\n",
       "      <td>147</td>\n",
       "    </tr>\n",
       "    <tr>\n",
       "      <th>2351</th>\n",
       "      <td>666033412701032449</td>\n",
       "      <td>128</td>\n",
       "      <td>47</td>\n",
       "    </tr>\n",
       "    <tr>\n",
       "      <th>2352</th>\n",
       "      <td>666029285002620928</td>\n",
       "      <td>132</td>\n",
       "      <td>48</td>\n",
       "    </tr>\n",
       "    <tr>\n",
       "      <th>2353</th>\n",
       "      <td>666020888022790149</td>\n",
       "      <td>2535</td>\n",
       "      <td>532</td>\n",
       "    </tr>\n",
       "  </tbody>\n",
       "</table>\n",
       "</div>"
      ],
      "text/plain": [
       "                       0     1    2\n",
       "2344  666058600524156928   115   61\n",
       "2345  666057090499244032   304  146\n",
       "2346  666055525042405380   448  261\n",
       "2347  666051853826850816  1253  879\n",
       "2348  666050758794694657   136   60\n",
       "2349  666049248165822465   111   41\n",
       "2350  666044226329800704   311  147\n",
       "2351  666033412701032449   128   47\n",
       "2352  666029285002620928   132   48\n",
       "2353  666020888022790149  2535  532"
      ]
     },
     "execution_count": 13,
     "metadata": {},
     "output_type": "execute_result"
    }
   ],
   "source": [
    "tweet_counts_df.tail(10)"
   ]
  },
  {
   "cell_type": "markdown",
   "metadata": {},
   "source": [
    "_________________"
   ]
  },
  {
   "cell_type": "markdown",
   "metadata": {
    "extensions": {
     "jupyter_dashboards": {
      "version": 1,
      "views": {
       "grid_default": {
        "col": 4,
        "height": 4,
        "hidden": false,
        "row": 28,
        "width": 4
       },
       "report_default": {
        "hidden": false
       }
      }
     }
    }
   },
   "source": [
    "## Assessing Data"
   ]
  },
  {
   "cell_type": "code",
   "execution_count": 14,
   "metadata": {},
   "outputs": [],
   "source": [
    "#Create function for getting summary of data using pandas methods\n",
    "def wrangle(df):\n",
    "    \n",
    "    #print the shape of the dataframe\n",
    "    print(\"shape: {}\".format(df.shape))\n",
    "    \n",
    "    #print the number of duplicate rows in the dataframe\n",
    "    print(\"# duplicate rows: {}\".format(df.duplicated().sum()))\n",
    "    \n",
    "    #print the maximum number of null values in the dataframe\n",
    "    print(\"# null values: {}\".format(df.isnull().sum().max()))\n",
    "    \n",
    "    #print the number of unique values\n",
    "    print(\"unique non null values:\")\n",
    "    print(df.nunique())\n",
    "    \n",
    "    #print the data frame information\n",
    "    print(df.info())"
   ]
  },
  {
   "cell_type": "code",
   "execution_count": 15,
   "metadata": {},
   "outputs": [
    {
     "name": "stdout",
     "output_type": "stream",
     "text": [
      "shape: (2356, 17)\n",
      "# duplicate rows: 0\n",
      "# null values: 2346\n",
      "unique non null values:\n",
      "tweet_id                      2356\n",
      "in_reply_to_status_id           77\n",
      "in_reply_to_user_id             31\n",
      "timestamp                     2356\n",
      "source                           4\n",
      "text                          2356\n",
      "retweeted_status_id            181\n",
      "retweeted_status_user_id        25\n",
      "retweeted_status_timestamp     181\n",
      "expanded_urls                 2218\n",
      "rating_numerator                40\n",
      "rating_denominator              18\n",
      "name                           956\n",
      "doggo                            1\n",
      "floofer                          1\n",
      "pupper                           1\n",
      "puppo                            1\n",
      "dtype: int64\n",
      "<class 'pandas.core.frame.DataFrame'>\n",
      "RangeIndex: 2356 entries, 0 to 2355\n",
      "Data columns (total 17 columns):\n",
      " #   Column                      Non-Null Count  Dtype  \n",
      "---  ------                      --------------  -----  \n",
      " 0   tweet_id                    2356 non-null   int64  \n",
      " 1   in_reply_to_status_id       78 non-null     float64\n",
      " 2   in_reply_to_user_id         78 non-null     float64\n",
      " 3   timestamp                   2356 non-null   object \n",
      " 4   source                      2356 non-null   object \n",
      " 5   text                        2356 non-null   object \n",
      " 6   retweeted_status_id         181 non-null    float64\n",
      " 7   retweeted_status_user_id    181 non-null    float64\n",
      " 8   retweeted_status_timestamp  181 non-null    object \n",
      " 9   expanded_urls               2297 non-null   object \n",
      " 10  rating_numerator            2356 non-null   int64  \n",
      " 11  rating_denominator          2356 non-null   int64  \n",
      " 12  name                        1611 non-null   object \n",
      " 13  doggo                       97 non-null     object \n",
      " 14  floofer                     10 non-null     object \n",
      " 15  pupper                      257 non-null    object \n",
      " 16  puppo                       30 non-null     object \n",
      "dtypes: float64(4), int64(3), object(10)\n",
      "memory usage: 313.0+ KB\n",
      "None\n"
     ]
    }
   ],
   "source": [
    "#twitter archive data summary\n",
    "wrangle(twitter_archive)"
   ]
  },
  {
   "cell_type": "code",
   "execution_count": 16,
   "metadata": {},
   "outputs": [
    {
     "data": {
      "text/plain": [
       "tweet_id                         0\n",
       "in_reply_to_status_id         2278\n",
       "in_reply_to_user_id           2278\n",
       "timestamp                        0\n",
       "source                           0\n",
       "text                             0\n",
       "retweeted_status_id           2175\n",
       "retweeted_status_user_id      2175\n",
       "retweeted_status_timestamp    2175\n",
       "expanded_urls                   59\n",
       "rating_numerator                 0\n",
       "rating_denominator               0\n",
       "name                           745\n",
       "doggo                         2259\n",
       "floofer                       2346\n",
       "pupper                        2099\n",
       "puppo                         2326\n",
       "dtype: int64"
      ]
     },
     "execution_count": 16,
     "metadata": {},
     "output_type": "execute_result"
    }
   ],
   "source": [
    "twitter_archive.isnull().sum()"
   ]
  },
  {
   "cell_type": "code",
   "execution_count": 17,
   "metadata": {},
   "outputs": [
    {
     "data": {
      "text/plain": [
       "21"
      ]
     },
     "execution_count": 17,
     "metadata": {},
     "output_type": "execute_result"
    }
   ],
   "source": [
    "#number of invalid rating denominators i.e that are not 10\n",
    "twitter_archive.query('rating_denominator > 10 or rating_denominator == 0').rating_denominator.value_counts().sum()"
   ]
  },
  {
   "cell_type": "code",
   "execution_count": 18,
   "metadata": {},
   "outputs": [
    {
     "data": {
      "text/plain": [
       "181"
      ]
     },
     "execution_count": 18,
     "metadata": {},
     "output_type": "execute_result"
    }
   ],
   "source": [
    "#number of tweets that are retweets\n",
    "twitter_archive.retweeted_status_id.value_counts().sum()"
   ]
  },
  {
   "cell_type": "code",
   "execution_count": 19,
   "metadata": {},
   "outputs": [
    {
     "data": {
      "text/plain": [
       "78"
      ]
     },
     "execution_count": 19,
     "metadata": {},
     "output_type": "execute_result"
    }
   ],
   "source": [
    "#number of tweets that are replies\n",
    "mask = twitter_archive[twitter_archive.in_reply_to_status_id.notnull()].index\n",
    "mask.value_counts().sum()"
   ]
  },
  {
   "cell_type": "markdown",
   "metadata": {},
   "source": [
    "77 tweets are replies. 1 row with tweet id = 669353438988365824 is not a reply.(row id 2169)"
   ]
  },
  {
   "cell_type": "code",
   "execution_count": 20,
   "metadata": {
    "scrolled": true
   },
   "outputs": [
    {
     "data": {
      "text/html": [
       "<div>\n",
       "<style scoped>\n",
       "    .dataframe tbody tr th:only-of-type {\n",
       "        vertical-align: middle;\n",
       "    }\n",
       "\n",
       "    .dataframe tbody tr th {\n",
       "        vertical-align: top;\n",
       "    }\n",
       "\n",
       "    .dataframe thead th {\n",
       "        text-align: right;\n",
       "    }\n",
       "</style>\n",
       "<table border=\"1\" class=\"dataframe\">\n",
       "  <thead>\n",
       "    <tr style=\"text-align: right;\">\n",
       "      <th></th>\n",
       "      <th>tweet_id</th>\n",
       "      <th>in_reply_to_status_id</th>\n",
       "      <th>in_reply_to_user_id</th>\n",
       "      <th>timestamp</th>\n",
       "      <th>source</th>\n",
       "      <th>text</th>\n",
       "      <th>retweeted_status_id</th>\n",
       "      <th>retweeted_status_user_id</th>\n",
       "      <th>retweeted_status_timestamp</th>\n",
       "      <th>expanded_urls</th>\n",
       "      <th>rating_numerator</th>\n",
       "      <th>rating_denominator</th>\n",
       "      <th>name</th>\n",
       "      <th>doggo</th>\n",
       "      <th>floofer</th>\n",
       "      <th>pupper</th>\n",
       "      <th>puppo</th>\n",
       "    </tr>\n",
       "  </thead>\n",
       "  <tbody>\n",
       "    <tr>\n",
       "      <th>2169</th>\n",
       "      <td>669353438988365824</td>\n",
       "      <td>6.678065e+17</td>\n",
       "      <td>4.196984e+09</td>\n",
       "      <td>2015-11-25 03:14:30 +0000</td>\n",
       "      <td>&lt;a href=\"http://twitter.com/download/iphone\" r...</td>\n",
       "      <td>This is Tessa. She is also very pleased after ...</td>\n",
       "      <td>NaN</td>\n",
       "      <td>NaN</td>\n",
       "      <td>NaN</td>\n",
       "      <td>https://twitter.com/dog_rates/status/669353438...</td>\n",
       "      <td>10</td>\n",
       "      <td>10</td>\n",
       "      <td>Tessa</td>\n",
       "      <td>NaN</td>\n",
       "      <td>NaN</td>\n",
       "      <td>NaN</td>\n",
       "      <td>NaN</td>\n",
       "    </tr>\n",
       "    <tr>\n",
       "      <th>2189</th>\n",
       "      <td>668967877119254528</td>\n",
       "      <td>6.689207e+17</td>\n",
       "      <td>2.143566e+07</td>\n",
       "      <td>2015-11-24 01:42:25 +0000</td>\n",
       "      <td>&lt;a href=\"http://twitter.com/download/iphone\" r...</td>\n",
       "      <td>12/10 good shit Bubka\\n@wane15</td>\n",
       "      <td>NaN</td>\n",
       "      <td>NaN</td>\n",
       "      <td>NaN</td>\n",
       "      <td>NaN</td>\n",
       "      <td>12</td>\n",
       "      <td>10</td>\n",
       "      <td>NaN</td>\n",
       "      <td>NaN</td>\n",
       "      <td>NaN</td>\n",
       "      <td>NaN</td>\n",
       "      <td>NaN</td>\n",
       "    </tr>\n",
       "    <tr>\n",
       "      <th>2298</th>\n",
       "      <td>667070482143944705</td>\n",
       "      <td>6.670655e+17</td>\n",
       "      <td>4.196984e+09</td>\n",
       "      <td>2015-11-18 20:02:51 +0000</td>\n",
       "      <td>&lt;a href=\"http://twitter.com/download/iphone\" r...</td>\n",
       "      <td>After much debate this dog is being upgraded t...</td>\n",
       "      <td>NaN</td>\n",
       "      <td>NaN</td>\n",
       "      <td>NaN</td>\n",
       "      <td>NaN</td>\n",
       "      <td>10</td>\n",
       "      <td>10</td>\n",
       "      <td>NaN</td>\n",
       "      <td>NaN</td>\n",
       "      <td>NaN</td>\n",
       "      <td>NaN</td>\n",
       "      <td>NaN</td>\n",
       "    </tr>\n",
       "  </tbody>\n",
       "</table>\n",
       "</div>"
      ],
      "text/plain": [
       "                tweet_id  in_reply_to_status_id  in_reply_to_user_id  \\\n",
       "2169  669353438988365824           6.678065e+17         4.196984e+09   \n",
       "2189  668967877119254528           6.689207e+17         2.143566e+07   \n",
       "2298  667070482143944705           6.670655e+17         4.196984e+09   \n",
       "\n",
       "                      timestamp  \\\n",
       "2169  2015-11-25 03:14:30 +0000   \n",
       "2189  2015-11-24 01:42:25 +0000   \n",
       "2298  2015-11-18 20:02:51 +0000   \n",
       "\n",
       "                                                 source  \\\n",
       "2169  <a href=\"http://twitter.com/download/iphone\" r...   \n",
       "2189  <a href=\"http://twitter.com/download/iphone\" r...   \n",
       "2298  <a href=\"http://twitter.com/download/iphone\" r...   \n",
       "\n",
       "                                                   text  retweeted_status_id  \\\n",
       "2169  This is Tessa. She is also very pleased after ...                  NaN   \n",
       "2189                     12/10 good shit Bubka\\n@wane15                  NaN   \n",
       "2298  After much debate this dog is being upgraded t...                  NaN   \n",
       "\n",
       "      retweeted_status_user_id retweeted_status_timestamp  \\\n",
       "2169                       NaN                        NaN   \n",
       "2189                       NaN                        NaN   \n",
       "2298                       NaN                        NaN   \n",
       "\n",
       "                                          expanded_urls  rating_numerator  \\\n",
       "2169  https://twitter.com/dog_rates/status/669353438...                10   \n",
       "2189                                                NaN                12   \n",
       "2298                                                NaN                10   \n",
       "\n",
       "      rating_denominator   name doggo floofer pupper puppo  \n",
       "2169                  10  Tessa   NaN     NaN    NaN   NaN  \n",
       "2189                  10    NaN   NaN     NaN    NaN   NaN  \n",
       "2298                  10    NaN   NaN     NaN    NaN   NaN  "
      ]
     },
     "execution_count": 20,
     "metadata": {},
     "output_type": "execute_result"
    }
   ],
   "source": [
    "#tweets that are replies\n",
    "reply_mask = twitter_archive.in_reply_to_user_id.notnull()\n",
    "twitter_archive[reply_mask].tail(3)"
   ]
  },
  {
   "cell_type": "code",
   "execution_count": 21,
   "metadata": {},
   "outputs": [
    {
     "name": "stdout",
     "output_type": "stream",
     "text": [
      "shape: (2075, 12)\n",
      "# duplicate rows: 0\n",
      "# null values: 0\n",
      "unique non null values:\n",
      "tweet_id    2075\n",
      "jpg_url     2009\n",
      "img_num        4\n",
      "p1           378\n",
      "p1_conf     2006\n",
      "p1_dog         2\n",
      "p2           405\n",
      "p2_conf     2004\n",
      "p2_dog         2\n",
      "p3           408\n",
      "p3_conf     2006\n",
      "p3_dog         2\n",
      "dtype: int64\n",
      "<class 'pandas.core.frame.DataFrame'>\n",
      "RangeIndex: 2075 entries, 0 to 2074\n",
      "Data columns (total 12 columns):\n",
      " #   Column    Non-Null Count  Dtype  \n",
      "---  ------    --------------  -----  \n",
      " 0   tweet_id  2075 non-null   int64  \n",
      " 1   jpg_url   2075 non-null   object \n",
      " 2   img_num   2075 non-null   int64  \n",
      " 3   p1        2075 non-null   object \n",
      " 4   p1_conf   2075 non-null   float64\n",
      " 5   p1_dog    2075 non-null   bool   \n",
      " 6   p2        2075 non-null   object \n",
      " 7   p2_conf   2075 non-null   float64\n",
      " 8   p2_dog    2075 non-null   bool   \n",
      " 9   p3        2075 non-null   object \n",
      " 10  p3_conf   2075 non-null   float64\n",
      " 11  p3_dog    2075 non-null   bool   \n",
      "dtypes: bool(3), float64(3), int64(2), object(4)\n",
      "memory usage: 152.1+ KB\n",
      "None\n"
     ]
    }
   ],
   "source": [
    "#image predictions data summary\n",
    "wrangle(image_predictions)"
   ]
  },
  {
   "cell_type": "code",
   "execution_count": 22,
   "metadata": {},
   "outputs": [],
   "source": [
    "#image_predictions.to_csv('image_predictions.csv')"
   ]
  },
  {
   "cell_type": "code",
   "execution_count": 23,
   "metadata": {},
   "outputs": [
    {
     "data": {
      "text/html": [
       "<div>\n",
       "<style scoped>\n",
       "    .dataframe tbody tr th:only-of-type {\n",
       "        vertical-align: middle;\n",
       "    }\n",
       "\n",
       "    .dataframe tbody tr th {\n",
       "        vertical-align: top;\n",
       "    }\n",
       "\n",
       "    .dataframe thead th {\n",
       "        text-align: right;\n",
       "    }\n",
       "</style>\n",
       "<table border=\"1\" class=\"dataframe\">\n",
       "  <thead>\n",
       "    <tr style=\"text-align: right;\">\n",
       "      <th></th>\n",
       "      <th>tweet_id</th>\n",
       "      <th>jpg_url</th>\n",
       "      <th>img_num</th>\n",
       "      <th>p1</th>\n",
       "      <th>p1_conf</th>\n",
       "      <th>p1_dog</th>\n",
       "      <th>p2</th>\n",
       "      <th>p2_conf</th>\n",
       "      <th>p2_dog</th>\n",
       "      <th>p3</th>\n",
       "      <th>p3_conf</th>\n",
       "      <th>p3_dog</th>\n",
       "    </tr>\n",
       "  </thead>\n",
       "  <tbody>\n",
       "    <tr>\n",
       "      <th>0</th>\n",
       "      <td>666020888022790149</td>\n",
       "      <td>https://pbs.twimg.com/media/CT4udn0WwAA0aMy.jpg</td>\n",
       "      <td>1</td>\n",
       "      <td>Welsh_springer_spaniel</td>\n",
       "      <td>0.465074</td>\n",
       "      <td>True</td>\n",
       "      <td>collie</td>\n",
       "      <td>0.156665</td>\n",
       "      <td>True</td>\n",
       "      <td>Shetland_sheepdog</td>\n",
       "      <td>0.061428</td>\n",
       "      <td>True</td>\n",
       "    </tr>\n",
       "    <tr>\n",
       "      <th>1</th>\n",
       "      <td>666029285002620928</td>\n",
       "      <td>https://pbs.twimg.com/media/CT42GRgUYAA5iDo.jpg</td>\n",
       "      <td>1</td>\n",
       "      <td>redbone</td>\n",
       "      <td>0.506826</td>\n",
       "      <td>True</td>\n",
       "      <td>miniature_pinscher</td>\n",
       "      <td>0.074192</td>\n",
       "      <td>True</td>\n",
       "      <td>Rhodesian_ridgeback</td>\n",
       "      <td>0.072010</td>\n",
       "      <td>True</td>\n",
       "    </tr>\n",
       "    <tr>\n",
       "      <th>2</th>\n",
       "      <td>666033412701032449</td>\n",
       "      <td>https://pbs.twimg.com/media/CT4521TWwAEvMyu.jpg</td>\n",
       "      <td>1</td>\n",
       "      <td>German_shepherd</td>\n",
       "      <td>0.596461</td>\n",
       "      <td>True</td>\n",
       "      <td>malinois</td>\n",
       "      <td>0.138584</td>\n",
       "      <td>True</td>\n",
       "      <td>bloodhound</td>\n",
       "      <td>0.116197</td>\n",
       "      <td>True</td>\n",
       "    </tr>\n",
       "    <tr>\n",
       "      <th>3</th>\n",
       "      <td>666044226329800704</td>\n",
       "      <td>https://pbs.twimg.com/media/CT5Dr8HUEAA-lEu.jpg</td>\n",
       "      <td>1</td>\n",
       "      <td>Rhodesian_ridgeback</td>\n",
       "      <td>0.408143</td>\n",
       "      <td>True</td>\n",
       "      <td>redbone</td>\n",
       "      <td>0.360687</td>\n",
       "      <td>True</td>\n",
       "      <td>miniature_pinscher</td>\n",
       "      <td>0.222752</td>\n",
       "      <td>True</td>\n",
       "    </tr>\n",
       "    <tr>\n",
       "      <th>4</th>\n",
       "      <td>666049248165822465</td>\n",
       "      <td>https://pbs.twimg.com/media/CT5IQmsXIAAKY4A.jpg</td>\n",
       "      <td>1</td>\n",
       "      <td>miniature_pinscher</td>\n",
       "      <td>0.560311</td>\n",
       "      <td>True</td>\n",
       "      <td>Rottweiler</td>\n",
       "      <td>0.243682</td>\n",
       "      <td>True</td>\n",
       "      <td>Doberman</td>\n",
       "      <td>0.154629</td>\n",
       "      <td>True</td>\n",
       "    </tr>\n",
       "  </tbody>\n",
       "</table>\n",
       "</div>"
      ],
      "text/plain": [
       "             tweet_id                                          jpg_url  \\\n",
       "0  666020888022790149  https://pbs.twimg.com/media/CT4udn0WwAA0aMy.jpg   \n",
       "1  666029285002620928  https://pbs.twimg.com/media/CT42GRgUYAA5iDo.jpg   \n",
       "2  666033412701032449  https://pbs.twimg.com/media/CT4521TWwAEvMyu.jpg   \n",
       "3  666044226329800704  https://pbs.twimg.com/media/CT5Dr8HUEAA-lEu.jpg   \n",
       "4  666049248165822465  https://pbs.twimg.com/media/CT5IQmsXIAAKY4A.jpg   \n",
       "\n",
       "   img_num                      p1   p1_conf  p1_dog                  p2  \\\n",
       "0        1  Welsh_springer_spaniel  0.465074    True              collie   \n",
       "1        1                 redbone  0.506826    True  miniature_pinscher   \n",
       "2        1         German_shepherd  0.596461    True            malinois   \n",
       "3        1     Rhodesian_ridgeback  0.408143    True             redbone   \n",
       "4        1      miniature_pinscher  0.560311    True          Rottweiler   \n",
       "\n",
       "    p2_conf  p2_dog                   p3   p3_conf  p3_dog  \n",
       "0  0.156665    True    Shetland_sheepdog  0.061428    True  \n",
       "1  0.074192    True  Rhodesian_ridgeback  0.072010    True  \n",
       "2  0.138584    True           bloodhound  0.116197    True  \n",
       "3  0.360687    True   miniature_pinscher  0.222752    True  \n",
       "4  0.243682    True             Doberman  0.154629    True  "
      ]
     },
     "execution_count": 23,
     "metadata": {},
     "output_type": "execute_result"
    }
   ],
   "source": [
    "image_predictions.head()"
   ]
  },
  {
   "cell_type": "code",
   "execution_count": 24,
   "metadata": {},
   "outputs": [
    {
     "name": "stdout",
     "output_type": "stream",
     "text": [
      "shape: (2354, 3)\n",
      "# duplicate rows: 0\n",
      "# null values: 0\n",
      "unique non null values:\n",
      "0    2354\n",
      "1    2007\n",
      "2    1724\n",
      "dtype: int64\n",
      "<class 'pandas.core.frame.DataFrame'>\n",
      "Int64Index: 2354 entries, 0 to 2353\n",
      "Data columns (total 3 columns):\n",
      " #   Column  Non-Null Count  Dtype\n",
      "---  ------  --------------  -----\n",
      " 0   0       2354 non-null   int64\n",
      " 1   1       2354 non-null   int64\n",
      " 2   2       2354 non-null   int64\n",
      "dtypes: int64(3)\n",
      "memory usage: 138.1 KB\n",
      "None\n"
     ]
    }
   ],
   "source": [
    "#tweet_counts_df data summary\n",
    "wrangle(tweet_counts_df)"
   ]
  },
  {
   "cell_type": "markdown",
   "metadata": {},
   "source": [
    "### Quality issues\n",
    "\n",
    "`twitter_archive:`\n",
    "1.  missing retweeted_status_id, retweeted_status_user_id and retweeted_status_timestamp stored as NaN\n",
    "\n",
    "2.  missing in_reply_to_status_id, in_reply_to_user_id stored as NaN\n",
    "\n",
    "3.  some tweets are not dog ratings\n",
    "\n",
    "4.  some dogs are missing names\n",
    "\n",
    "5.  dog stages have missing values\n",
    "\n",
    "6.  timestamp and retweeted_status_timestamp stored as string\n",
    "\n",
    "7.  21 tweets have an invalid denominator rating\n",
    "\n",
    "\n",
    "`tweet_counts_df:`\n",
    "\n",
    "8.  column names are not meaningful "
   ]
  },
  {
   "cell_type": "markdown",
   "metadata": {
    "extensions": {
     "jupyter_dashboards": {
      "version": 1,
      "views": {
       "grid_default": {
        "col": 0,
        "height": 7,
        "hidden": false,
        "row": 40,
        "width": 12
       },
       "report_default": {
        "hidden": false
       }
      }
     }
    }
   },
   "source": [
    "### Tidiness issues\n",
    "9.  `twitter_archive:` doggo, floofer, pupper, puppo(dog stages) stored as columns while they are not variables\n",
    "\n",
    "\n",
    "10.  `image_predictions:` Columns index 3-11 are structured as columns."
   ]
  },
  {
   "cell_type": "markdown",
   "metadata": {},
   "source": [
    "_________"
   ]
  },
  {
   "cell_type": "markdown",
   "metadata": {
    "extensions": {
     "jupyter_dashboards": {
      "version": 1,
      "views": {
       "grid_default": {
        "col": 4,
        "height": 4,
        "hidden": false,
        "row": 32,
        "width": 4
       },
       "report_default": {
        "hidden": false
       }
      }
     }
    }
   },
   "source": [
    "## Cleaning Data\n",
    "In this section, clean **all** of the issues you documented while assessing. \n",
    "\n",
    "**Note:** Make a copy of the original data before cleaning. Cleaning includes merging individual pieces of data according to the rules of [tidy data](https://cran.r-project.org/web/packages/tidyr/vignettes/tidy-data.html). The result should be a high-quality and tidy master pandas DataFrame (or DataFrames, if appropriate)."
   ]
  },
  {
   "cell_type": "code",
   "execution_count": 25,
   "metadata": {},
   "outputs": [],
   "source": [
    "#TO DELETE: Start with completeness i.e. cleaning missing values. Reference: Lesson 4.9\n",
    "#Address Tidiness After Structural Issues and Before Content Issues. Reference: Lesson 4.12\n",
    "#Lastly, clean for quality.  Reference: Lesson 4.15"
   ]
  },
  {
   "cell_type": "code",
   "execution_count": 26,
   "metadata": {},
   "outputs": [],
   "source": [
    "# Make copies of original pieces of data\n",
    "twitter_archive_clean = twitter_archive.copy()\n",
    "image_predictions_clean = image_predictions.copy()\n",
    "tweet_counts_clean = tweet_counts_df.copy()"
   ]
  },
  {
   "cell_type": "markdown",
   "metadata": {},
   "source": [
    "### Issue #1:`twitter_archive:` missing values in  retweet columns"
   ]
  },
  {
   "cell_type": "markdown",
   "metadata": {},
   "source": [
    "#### Define:\n",
    "- remove rows with which have a retweeted_status_id\n",
    "- remove retweets columns as they are not relevant"
   ]
  },
  {
   "cell_type": "markdown",
   "metadata": {},
   "source": [
    "#### Code"
   ]
  },
  {
   "cell_type": "code",
   "execution_count": 27,
   "metadata": {},
   "outputs": [],
   "source": [
    "#drop rows with a retweeted_status_id\n",
    "retweets_ids = twitter_archive_clean[twitter_archive_clean.retweeted_status_id.notnull()].index\n",
    "twitter_archive_clean.drop(retweets_ids, axis = 0, inplace = True)"
   ]
  },
  {
   "cell_type": "code",
   "execution_count": 28,
   "metadata": {},
   "outputs": [],
   "source": [
    "#drop the retweet columns\n",
    "twitter_archive_clean.drop(['retweeted_status_id','retweeted_status_user_id','retweeted_status_timestamp'],axis = 1, \n",
    "                           inplace = True)"
   ]
  },
  {
   "cell_type": "markdown",
   "metadata": {},
   "source": [
    "#### Test"
   ]
  },
  {
   "cell_type": "code",
   "execution_count": 29,
   "metadata": {},
   "outputs": [
    {
     "data": {
      "text/plain": [
       "(2175, 14)"
      ]
     },
     "execution_count": 29,
     "metadata": {},
     "output_type": "execute_result"
    }
   ],
   "source": [
    "twitter_archive_clean.shape"
   ]
  },
  {
   "cell_type": "code",
   "execution_count": 30,
   "metadata": {},
   "outputs": [
    {
     "name": "stdout",
     "output_type": "stream",
     "text": [
      "<class 'pandas.core.frame.DataFrame'>\n",
      "Int64Index: 2175 entries, 0 to 2355\n",
      "Data columns (total 14 columns):\n",
      " #   Column                 Non-Null Count  Dtype  \n",
      "---  ------                 --------------  -----  \n",
      " 0   tweet_id               2175 non-null   int64  \n",
      " 1   in_reply_to_status_id  78 non-null     float64\n",
      " 2   in_reply_to_user_id    78 non-null     float64\n",
      " 3   timestamp              2175 non-null   object \n",
      " 4   source                 2175 non-null   object \n",
      " 5   text                   2175 non-null   object \n",
      " 6   expanded_urls          2117 non-null   object \n",
      " 7   rating_numerator       2175 non-null   int64  \n",
      " 8   rating_denominator     2175 non-null   int64  \n",
      " 9   name                   1495 non-null   object \n",
      " 10  doggo                  87 non-null     object \n",
      " 11  floofer                10 non-null     object \n",
      " 12  pupper                 234 non-null    object \n",
      " 13  puppo                  25 non-null     object \n",
      "dtypes: float64(2), int64(3), object(9)\n",
      "memory usage: 254.9+ KB\n"
     ]
    }
   ],
   "source": [
    "#looking at the data summary\n",
    "twitter_archive_clean.info()"
   ]
  },
  {
   "cell_type": "markdown",
   "metadata": {},
   "source": [
    "    181 rows dropped and 3 columns dropped on twitter archive dataset. missing retweeted_status_id, retweeted_status_user_id and retweeted_status_timestamp is resolved "
   ]
  },
  {
   "cell_type": "markdown",
   "metadata": {},
   "source": [
    "### Issue #2:`twitter_archive:` missing values in reply columns"
   ]
  },
  {
   "cell_type": "markdown",
   "metadata": {
    "collapsed": true,
    "extensions": {
     "jupyter_dashboards": {
      "version": 1,
      "views": {
       "grid_default": {
        "hidden": true
       },
       "report_default": {
        "hidden": true
       }
      }
     }
    }
   },
   "source": [
    "#### Define\n",
    "- remove rows with an in_reply_to_status_id. __Limitation: row id = 2169 is actually a dog but it is now excluded__\n",
    "- remove columns in_reply_to_status_id and in_reply_to_user_id"
   ]
  },
  {
   "cell_type": "markdown",
   "metadata": {},
   "source": [
    "#### Code"
   ]
  },
  {
   "cell_type": "code",
   "execution_count": 31,
   "metadata": {},
   "outputs": [],
   "source": [
    "#drop rows with a in_reply_to_status_id\n",
    "reply_ids =  twitter_archive_clean[twitter_archive_clean.in_reply_to_status_id.notnull()].index\n",
    "twitter_archive_clean.drop(reply_ids, axis = 0, inplace = True)"
   ]
  },
  {
   "cell_type": "code",
   "execution_count": 32,
   "metadata": {},
   "outputs": [],
   "source": [
    "#drop the tweet replies columns\n",
    "twitter_archive_clean.drop(['in_reply_to_status_id','in_reply_to_user_id'], axis = 1, inplace = True)"
   ]
  },
  {
   "cell_type": "markdown",
   "metadata": {},
   "source": [
    "#### Test"
   ]
  },
  {
   "cell_type": "code",
   "execution_count": 33,
   "metadata": {
    "scrolled": true
   },
   "outputs": [
    {
     "data": {
      "text/plain": [
       "(2097, 12)"
      ]
     },
     "execution_count": 33,
     "metadata": {},
     "output_type": "execute_result"
    }
   ],
   "source": [
    "twitter_archive_clean.shape"
   ]
  },
  {
   "cell_type": "code",
   "execution_count": 34,
   "metadata": {},
   "outputs": [
    {
     "name": "stdout",
     "output_type": "stream",
     "text": [
      "<class 'pandas.core.frame.DataFrame'>\n",
      "Int64Index: 2097 entries, 0 to 2355\n",
      "Data columns (total 12 columns):\n",
      " #   Column              Non-Null Count  Dtype \n",
      "---  ------              --------------  ----- \n",
      " 0   tweet_id            2097 non-null   int64 \n",
      " 1   timestamp           2097 non-null   object\n",
      " 2   source              2097 non-null   object\n",
      " 3   text                2097 non-null   object\n",
      " 4   expanded_urls       2094 non-null   object\n",
      " 5   rating_numerator    2097 non-null   int64 \n",
      " 6   rating_denominator  2097 non-null   int64 \n",
      " 7   name                1494 non-null   object\n",
      " 8   doggo               83 non-null     object\n",
      " 9   floofer             10 non-null     object\n",
      " 10  pupper              230 non-null    object\n",
      " 11  puppo               24 non-null     object\n",
      "dtypes: int64(3), object(9)\n",
      "memory usage: 213.0+ KB\n"
     ]
    }
   ],
   "source": [
    "#looking at the data summary\n",
    "twitter_archive_clean.info()"
   ]
  },
  {
   "cell_type": "markdown",
   "metadata": {},
   "source": [
    "    77 rows dropped and missing values on in_reply_to_status_id and in_reply_to_user_id resolved. Limitation: tweet with name 'Tessa' will not be included in analysis. There are now 3 missing expanded urls"
   ]
  },
  {
   "cell_type": "markdown",
   "metadata": {},
   "source": [
    "### Issue #3:`twitter_archive:` some tweets are not dog ratings"
   ]
  },
  {
   "cell_type": "markdown",
   "metadata": {
    "collapsed": true,
    "extensions": {
     "jupyter_dashboards": {
      "version": 1,
      "views": {
       "grid_default": {
        "hidden": true
       },
       "report_default": {
        "hidden": true
       }
      }
     }
    }
   },
   "source": [
    "#### Define\n",
    "- remove rows with text that contains ('We rate dogs','we only rate dogs', 'this is not'). These are not dogs."
   ]
  },
  {
   "cell_type": "markdown",
   "metadata": {},
   "source": [
    "#### Code"
   ]
  },
  {
   "cell_type": "code",
   "execution_count": 35,
   "metadata": {},
   "outputs": [],
   "source": [
    "#drop rows which are not dog ratings based on tweet containing 'We only rate dogs'\n",
    "index_not_dogs1 = twitter_archive_clean[twitter_archive_clean['text'].str.find('We only rate dogs') > 0].index\n",
    "twitter_archive_clean.drop(index_not_dogs1, axis = 0, inplace = True)"
   ]
  },
  {
   "cell_type": "code",
   "execution_count": 36,
   "metadata": {},
   "outputs": [],
   "source": [
    "#drop rows which are not dog ratings based on tweet containing 'We only rate dogs'\n",
    "index_not_dogs2 = twitter_archive_clean[twitter_archive_clean['text'].str.find('We only rate dogs') > 0].index\n",
    "twitter_archive_clean.drop(index_not_dogs2, axis = 0, inplace = True)"
   ]
  },
  {
   "cell_type": "code",
   "execution_count": 37,
   "metadata": {
    "scrolled": false
   },
   "outputs": [],
   "source": [
    "#drop rows which are not dog ratings based on tweet containing 'This is not'\n",
    "index_not_dogs3 = twitter_archive_clean[twitter_archive_clean['text'].str.find('This is not') > 0].index\n",
    "twitter_archive_clean.drop(index_not_dogs3, axis = 0, inplace = True)"
   ]
  },
  {
   "cell_type": "code",
   "execution_count": 38,
   "metadata": {},
   "outputs": [],
   "source": [
    "#twitter_archive_clean = twitter_archive_clean[twitter_archive_clean.index == 375 or twitter_archive_clean.index == 707 or twitter_archive_clean.index == 1445]"
   ]
  },
  {
   "cell_type": "markdown",
   "metadata": {},
   "source": [
    "#### Test"
   ]
  },
  {
   "cell_type": "code",
   "execution_count": 39,
   "metadata": {
    "scrolled": true
   },
   "outputs": [
    {
     "name": "stdout",
     "output_type": "stream",
     "text": [
      "<class 'pandas.core.frame.DataFrame'>\n",
      "Int64Index: 2064 entries, 0 to 2355\n",
      "Data columns (total 12 columns):\n",
      " #   Column              Non-Null Count  Dtype \n",
      "---  ------              --------------  ----- \n",
      " 0   tweet_id            2064 non-null   int64 \n",
      " 1   timestamp           2064 non-null   object\n",
      " 2   source              2064 non-null   object\n",
      " 3   text                2064 non-null   object\n",
      " 4   expanded_urls       2061 non-null   object\n",
      " 5   rating_numerator    2064 non-null   int64 \n",
      " 6   rating_denominator  2064 non-null   int64 \n",
      " 7   name                1481 non-null   object\n",
      " 8   doggo               83 non-null     object\n",
      " 9   floofer             10 non-null     object\n",
      " 10  pupper              230 non-null    object\n",
      " 11  puppo               24 non-null     object\n",
      "dtypes: int64(3), object(9)\n",
      "memory usage: 209.6+ KB\n"
     ]
    }
   ],
   "source": [
    "#looking at the data summary\n",
    "twitter_archive_clean.info()"
   ]
  },
  {
   "cell_type": "markdown",
   "metadata": {},
   "source": [
    "### Issue #4:`twitter_archive:` some dogs are missing names."
   ]
  },
  {
   "cell_type": "markdown",
   "metadata": {
    "collapsed": true,
    "extensions": {
     "jupyter_dashboards": {
      "version": 1,
      "views": {
       "grid_default": {
        "hidden": true
       },
       "report_default": {
        "hidden": true
       }
      }
     }
    }
   },
   "source": [
    "#### Define\n",
    "- Extract some names from the text columns i.e. extract text after 'Named ' and 'Name is '\n",
    "- replace all NaN names with the most frequent name __'a'__"
   ]
  },
  {
   "cell_type": "markdown",
   "metadata": {},
   "source": [
    "#### Code"
   ]
  },
  {
   "cell_type": "code",
   "execution_count": 40,
   "metadata": {},
   "outputs": [
    {
     "name": "stdout",
     "output_type": "stream",
     "text": [
      "<class 'pandas.core.frame.DataFrame'>\n",
      "Int64Index: 2064 entries, 0 to 2355\n",
      "Data columns (total 12 columns):\n",
      " #   Column              Non-Null Count  Dtype \n",
      "---  ------              --------------  ----- \n",
      " 0   tweet_id            2064 non-null   int64 \n",
      " 1   timestamp           2064 non-null   object\n",
      " 2   source              2064 non-null   object\n",
      " 3   text                2064 non-null   object\n",
      " 4   expanded_urls       2061 non-null   object\n",
      " 5   rating_numerator    2064 non-null   int64 \n",
      " 6   rating_denominator  2064 non-null   int64 \n",
      " 7   name                1481 non-null   object\n",
      " 8   doggo               83 non-null     object\n",
      " 9   floofer             10 non-null     object\n",
      " 10  pupper              230 non-null    object\n",
      " 11  puppo               24 non-null     object\n",
      "dtypes: int64(3), object(9)\n",
      "memory usage: 209.6+ KB\n"
     ]
    }
   ],
   "source": [
    "twitter_archive_clean.info()"
   ]
  },
  {
   "cell_type": "code",
   "execution_count": 41,
   "metadata": {},
   "outputs": [],
   "source": [
    "def replace_names(df, col1, col2, pattern):\n",
    "    \n",
    "    for tweet_id in df.index: \n",
    "        \n",
    "        #key for tweet_id and name\n",
    "        tweet_name_id = df.loc[tweet_id, col1]\n",
    "        #key for tweet_id and text\n",
    "        tweet_text_id = df.loc[tweet_id, col2]\n",
    "\n",
    "        #change the value in x to unknown if not in list1\n",
    "        if 'named ' in tweet_text_id:\n",
    "            x = pattern.search(tweet_text_id)\n",
    "            if x != None:\n",
    "                df.loc[tweet_id, col1] = x.group().strip('named ')\n",
    "        elif 'name is ' in tweet_text_id: \n",
    "            x = pattern.search(tweet_text_id)\n",
    "            if x != None:\n",
    "                df.loc[tweet_id, col1] = x.group().strip('name is ')\n",
    "            "
   ]
  },
  {
   "cell_type": "code",
   "execution_count": 42,
   "metadata": {},
   "outputs": [],
   "source": [
    "named_regex =re.compile(r'named ([a-zA-Z]+)')\n",
    "name_is_regex =re.compile(r'name is ([a-zA-Z]+)')\n",
    "replace_names(twitter_archive_clean, 'name','text', name_is_regex)\n",
    "replace_names(twitter_archive_clean, 'name','text', named_regex)"
   ]
  },
  {
   "cell_type": "code",
   "execution_count": 43,
   "metadata": {},
   "outputs": [
    {
     "data": {
      "text/plain": [
       "count     1489\n",
       "unique     974\n",
       "top          a\n",
       "freq        29\n",
       "Name: name, dtype: object"
      ]
     },
     "execution_count": 43,
     "metadata": {},
     "output_type": "execute_result"
    }
   ],
   "source": [
    "#most frequent name\n",
    "twitter_archive_clean.name.describe()"
   ]
  },
  {
   "cell_type": "code",
   "execution_count": 44,
   "metadata": {},
   "outputs": [],
   "source": [
    "#replace all NaN with the most frequent name\n",
    "twitter_archive_clean.name.fillna('a', inplace = True)"
   ]
  },
  {
   "cell_type": "markdown",
   "metadata": {},
   "source": [
    "#### Test"
   ]
  },
  {
   "cell_type": "code",
   "execution_count": 45,
   "metadata": {
    "scrolled": true
   },
   "outputs": [
    {
     "data": {
      "text/plain": [
       "tweet_id                 0\n",
       "timestamp                0\n",
       "source                   0\n",
       "text                     0\n",
       "expanded_urls            3\n",
       "rating_numerator         0\n",
       "rating_denominator       0\n",
       "name                     0\n",
       "doggo                 1981\n",
       "floofer               2054\n",
       "pupper                1834\n",
       "puppo                 2040\n",
       "dtype: int64"
      ]
     },
     "execution_count": 45,
     "metadata": {},
     "output_type": "execute_result"
    }
   ],
   "source": [
    "#looking at the data summary\n",
    "twitter_archive_clean.isnull().sum()"
   ]
  },
  {
   "cell_type": "code",
   "execution_count": 46,
   "metadata": {},
   "outputs": [],
   "source": [
    "#list(twitter_archive_clean.loc[twitter_archive_clean.text.str.contains('name is ')].name)"
   ]
  },
  {
   "cell_type": "markdown",
   "metadata": {},
   "source": [
    "### Issue #9:`twitter_archive:` doggo, floofer, pupper, puppo(dog stages) stored as columns while they are not variables"
   ]
  },
  {
   "cell_type": "markdown",
   "metadata": {
    "collapsed": true,
    "extensions": {
     "jupyter_dashboards": {
      "version": 1,
      "views": {
       "grid_default": {
        "hidden": true
       },
       "report_default": {
        "hidden": true
       }
      }
     }
    }
   },
   "source": [
    "#### Define\n",
    "- Replace NaNs with an empty string\n",
    "- Transform dog stages columns so that they are observations\n",
    "- replace 'doggopupper' with 'puppo' because a puppo can be a dog with a both pupper and doggo tendencies\n",
    "- replace 'doggopuppo' with 'doggo' because a doggo and puppo dog have doggo tendencies\n"
   ]
  },
  {
   "cell_type": "markdown",
   "metadata": {},
   "source": [
    "#### Code"
   ]
  },
  {
   "cell_type": "code",
   "execution_count": 47,
   "metadata": {},
   "outputs": [],
   "source": [
    "#replace nan with empty string using fillna\n",
    "twitter_archive_clean['doggo'].fillna(' ', inplace = True)\n",
    "twitter_archive_clean['floofer'].fillna(' ', inplace = True)\n",
    "twitter_archive_clean['pupper'].fillna(' ', inplace = True)\n",
    "twitter_archive_clean['puppo'].fillna(' ', inplace = True)"
   ]
  },
  {
   "cell_type": "code",
   "execution_count": 48,
   "metadata": {},
   "outputs": [],
   "source": [
    "#Create a new column called dog_stages, cocatenate columns and strip spaces\n",
    "twitter_archive_clean['dog_stages'] = twitter_archive_clean.apply(lambda r: (str(r['doggo'].strip()) + \n",
    "                                                                             str(r['floofer'].strip()) + \n",
    "                                                                             str(r['pupper'].strip()) + \n",
    "                                                                             str(r['puppo'].strip())) , axis = 1)"
   ]
  },
  {
   "cell_type": "code",
   "execution_count": 49,
   "metadata": {},
   "outputs": [
    {
     "name": "stdout",
     "output_type": "stream",
     "text": [
      "<class 'pandas.core.frame.DataFrame'>\n",
      "Int64Index: 2064 entries, 0 to 2355\n",
      "Data columns (total 13 columns):\n",
      " #   Column              Non-Null Count  Dtype \n",
      "---  ------              --------------  ----- \n",
      " 0   tweet_id            2064 non-null   int64 \n",
      " 1   timestamp           2064 non-null   object\n",
      " 2   source              2064 non-null   object\n",
      " 3   text                2064 non-null   object\n",
      " 4   expanded_urls       2061 non-null   object\n",
      " 5   rating_numerator    2064 non-null   int64 \n",
      " 6   rating_denominator  2064 non-null   int64 \n",
      " 7   name                2064 non-null   object\n",
      " 8   doggo               2064 non-null   object\n",
      " 9   floofer             2064 non-null   object\n",
      " 10  pupper              2064 non-null   object\n",
      " 11  puppo               2064 non-null   object\n",
      " 12  dog_stages          2064 non-null   object\n",
      "dtypes: int64(3), object(10)\n",
      "memory usage: 290.3+ KB\n"
     ]
    }
   ],
   "source": [
    "twitter_archive_clean.info()"
   ]
  },
  {
   "cell_type": "code",
   "execution_count": 50,
   "metadata": {
    "scrolled": false
   },
   "outputs": [
    {
     "data": {
      "text/plain": [
       "array(['', 'doggo', 'puppo', 'pupper', 'floofer', 'doggopuppo',\n",
       "       'doggofloofer', 'doggopupper'], dtype=object)"
      ]
     },
     "execution_count": 50,
     "metadata": {},
     "output_type": "execute_result"
    }
   ],
   "source": [
    "#some dogs have 2 stages\n",
    "twitter_archive_clean.dog_stages.unique()"
   ]
  },
  {
   "cell_type": "code",
   "execution_count": 51,
   "metadata": {},
   "outputs": [],
   "source": [
    "#resolve dogs with two stages\n",
    "#replace 'doggopupper' with 'puppo' \n",
    "#replace 'doggopuppo' with 'doggo' \n",
    "\n",
    "twitter_archive_clean.replace(to_replace=\"doggopuppo\",value=\"doggo\", inplace=True)\n",
    "twitter_archive_clean.replace(to_replace=\"doggopupper\",value=\"puppo\", inplace=True)\n",
    "twitter_archive_clean.replace(to_replace=\"doggofloofer\",value=\"doggo\", inplace=True)"
   ]
  },
  {
   "cell_type": "code",
   "execution_count": 52,
   "metadata": {
    "scrolled": true
   },
   "outputs": [],
   "source": [
    "#drop columns doggo, floofer, pupper, puppo\n",
    "twitter_archive_clean.drop(['doggo','floofer','pupper','puppo'], axis = 1, inplace = True)"
   ]
  },
  {
   "cell_type": "code",
   "execution_count": 53,
   "metadata": {},
   "outputs": [],
   "source": [
    "#TO DELETE:twitter_archive_clean.to_csv('melted2.csv')"
   ]
  },
  {
   "cell_type": "markdown",
   "metadata": {},
   "source": [
    "#### Test"
   ]
  },
  {
   "cell_type": "code",
   "execution_count": 54,
   "metadata": {},
   "outputs": [
    {
     "data": {
      "text/html": [
       "<div>\n",
       "<style scoped>\n",
       "    .dataframe tbody tr th:only-of-type {\n",
       "        vertical-align: middle;\n",
       "    }\n",
       "\n",
       "    .dataframe tbody tr th {\n",
       "        vertical-align: top;\n",
       "    }\n",
       "\n",
       "    .dataframe thead th {\n",
       "        text-align: right;\n",
       "    }\n",
       "</style>\n",
       "<table border=\"1\" class=\"dataframe\">\n",
       "  <thead>\n",
       "    <tr style=\"text-align: right;\">\n",
       "      <th></th>\n",
       "      <th>tweet_id</th>\n",
       "      <th>timestamp</th>\n",
       "      <th>source</th>\n",
       "      <th>text</th>\n",
       "      <th>expanded_urls</th>\n",
       "      <th>rating_numerator</th>\n",
       "      <th>rating_denominator</th>\n",
       "      <th>name</th>\n",
       "      <th>dog_stages</th>\n",
       "    </tr>\n",
       "  </thead>\n",
       "  <tbody>\n",
       "    <tr>\n",
       "      <th>1727</th>\n",
       "      <td>679877062409191424</td>\n",
       "      <td>2015-12-24 04:11:37 +0000</td>\n",
       "      <td>&lt;a href=\"http://twitter.com/download/iphone\" r...</td>\n",
       "      <td>Meet Penelope. She's a bacon frise. Total babe...</td>\n",
       "      <td>https://twitter.com/dog_rates/status/679877062...</td>\n",
       "      <td>5</td>\n",
       "      <td>10</td>\n",
       "      <td>Penelope</td>\n",
       "      <td></td>\n",
       "    </tr>\n",
       "    <tr>\n",
       "      <th>1559</th>\n",
       "      <td>688547210804498433</td>\n",
       "      <td>2016-01-17 02:23:42 +0000</td>\n",
       "      <td>&lt;a href=\"http://twitter.com/download/iphone\" r...</td>\n",
       "      <td>This is Frönq. He got caught stealing a waffle...</td>\n",
       "      <td>https://twitter.com/dog_rates/status/688547210...</td>\n",
       "      <td>9</td>\n",
       "      <td>10</td>\n",
       "      <td>Frönq</td>\n",
       "      <td></td>\n",
       "    </tr>\n",
       "    <tr>\n",
       "      <th>135</th>\n",
       "      <td>866450705531457537</td>\n",
       "      <td>2017-05-22 00:28:40 +0000</td>\n",
       "      <td>&lt;a href=\"http://twitter.com/download/iphone\" r...</td>\n",
       "      <td>This is Jamesy. He gives a kiss to every other...</td>\n",
       "      <td>https://twitter.com/dog_rates/status/866450705...</td>\n",
       "      <td>13</td>\n",
       "      <td>10</td>\n",
       "      <td>Jamesy</td>\n",
       "      <td>pupper</td>\n",
       "    </tr>\n",
       "    <tr>\n",
       "      <th>1946</th>\n",
       "      <td>673705679337693185</td>\n",
       "      <td>2015-12-07 03:28:45 +0000</td>\n",
       "      <td>&lt;a href=\"http://twitter.com/download/iphone\" r...</td>\n",
       "      <td>This is Dot. He found out you only pretended t...</td>\n",
       "      <td>https://twitter.com/dog_rates/status/673705679...</td>\n",
       "      <td>8</td>\n",
       "      <td>10</td>\n",
       "      <td>Dot</td>\n",
       "      <td></td>\n",
       "    </tr>\n",
       "    <tr>\n",
       "      <th>1602</th>\n",
       "      <td>685973236358713344</td>\n",
       "      <td>2016-01-09 23:55:38 +0000</td>\n",
       "      <td>&lt;a href=\"http://twitter.com/download/iphone\" r...</td>\n",
       "      <td>This is Lorelei. She's contemplating her exist...</td>\n",
       "      <td>https://twitter.com/dog_rates/status/685973236...</td>\n",
       "      <td>11</td>\n",
       "      <td>10</td>\n",
       "      <td>Lorelei</td>\n",
       "      <td></td>\n",
       "    </tr>\n",
       "    <tr>\n",
       "      <th>2206</th>\n",
       "      <td>668631377374486528</td>\n",
       "      <td>2015-11-23 03:25:17 +0000</td>\n",
       "      <td>&lt;a href=\"http://twitter.com/download/iphone\" r...</td>\n",
       "      <td>Meet Zeek. He is a grey Cumulonimbus. Zeek is ...</td>\n",
       "      <td>https://twitter.com/dog_rates/status/668631377...</td>\n",
       "      <td>5</td>\n",
       "      <td>10</td>\n",
       "      <td>Zeek</td>\n",
       "      <td></td>\n",
       "    </tr>\n",
       "    <tr>\n",
       "      <th>869</th>\n",
       "      <td>761745352076779520</td>\n",
       "      <td>2016-08-06 02:06:59 +0000</td>\n",
       "      <td>&lt;a href=\"http://twitter.com/download/iphone\" r...</td>\n",
       "      <td>Guys.. we only rate dogs. Pls don't send any m...</td>\n",
       "      <td>https://twitter.com/dog_rates/status/761745352...</td>\n",
       "      <td>11</td>\n",
       "      <td>10</td>\n",
       "      <td>a</td>\n",
       "      <td></td>\n",
       "    </tr>\n",
       "    <tr>\n",
       "      <th>913</th>\n",
       "      <td>757400162377592832</td>\n",
       "      <td>2016-07-25 02:20:45 +0000</td>\n",
       "      <td>&lt;a href=\"http://twitter.com/download/iphone\" r...</td>\n",
       "      <td>She walks herself up and down the train to be ...</td>\n",
       "      <td>https://twitter.com/dog_rates/status/757400162...</td>\n",
       "      <td>13</td>\n",
       "      <td>10</td>\n",
       "      <td>a</td>\n",
       "      <td></td>\n",
       "    </tr>\n",
       "    <tr>\n",
       "      <th>2011</th>\n",
       "      <td>672245253877968896</td>\n",
       "      <td>2015-12-03 02:45:32 +0000</td>\n",
       "      <td>&lt;a href=\"http://twitter.com/download/iphone\" r...</td>\n",
       "      <td>Meet Snickers. He's adorable. Also comes in t-...</td>\n",
       "      <td>https://twitter.com/dog_rates/status/672245253...</td>\n",
       "      <td>12</td>\n",
       "      <td>10</td>\n",
       "      <td>Snickers</td>\n",
       "      <td></td>\n",
       "    </tr>\n",
       "    <tr>\n",
       "      <th>1928</th>\n",
       "      <td>674045139690631169</td>\n",
       "      <td>2015-12-08 01:57:39 +0000</td>\n",
       "      <td>&lt;a href=\"http://twitter.com/download/iphone\" r...</td>\n",
       "      <td>Herd of wild dogs here. Not sure what they're ...</td>\n",
       "      <td>https://twitter.com/dog_rates/status/674045139...</td>\n",
       "      <td>3</td>\n",
       "      <td>10</td>\n",
       "      <td>a</td>\n",
       "      <td></td>\n",
       "    </tr>\n",
       "  </tbody>\n",
       "</table>\n",
       "</div>"
      ],
      "text/plain": [
       "                tweet_id                  timestamp  \\\n",
       "1727  679877062409191424  2015-12-24 04:11:37 +0000   \n",
       "1559  688547210804498433  2016-01-17 02:23:42 +0000   \n",
       "135   866450705531457537  2017-05-22 00:28:40 +0000   \n",
       "1946  673705679337693185  2015-12-07 03:28:45 +0000   \n",
       "1602  685973236358713344  2016-01-09 23:55:38 +0000   \n",
       "2206  668631377374486528  2015-11-23 03:25:17 +0000   \n",
       "869   761745352076779520  2016-08-06 02:06:59 +0000   \n",
       "913   757400162377592832  2016-07-25 02:20:45 +0000   \n",
       "2011  672245253877968896  2015-12-03 02:45:32 +0000   \n",
       "1928  674045139690631169  2015-12-08 01:57:39 +0000   \n",
       "\n",
       "                                                 source  \\\n",
       "1727  <a href=\"http://twitter.com/download/iphone\" r...   \n",
       "1559  <a href=\"http://twitter.com/download/iphone\" r...   \n",
       "135   <a href=\"http://twitter.com/download/iphone\" r...   \n",
       "1946  <a href=\"http://twitter.com/download/iphone\" r...   \n",
       "1602  <a href=\"http://twitter.com/download/iphone\" r...   \n",
       "2206  <a href=\"http://twitter.com/download/iphone\" r...   \n",
       "869   <a href=\"http://twitter.com/download/iphone\" r...   \n",
       "913   <a href=\"http://twitter.com/download/iphone\" r...   \n",
       "2011  <a href=\"http://twitter.com/download/iphone\" r...   \n",
       "1928  <a href=\"http://twitter.com/download/iphone\" r...   \n",
       "\n",
       "                                                   text  \\\n",
       "1727  Meet Penelope. She's a bacon frise. Total babe...   \n",
       "1559  This is Frönq. He got caught stealing a waffle...   \n",
       "135   This is Jamesy. He gives a kiss to every other...   \n",
       "1946  This is Dot. He found out you only pretended t...   \n",
       "1602  This is Lorelei. She's contemplating her exist...   \n",
       "2206  Meet Zeek. He is a grey Cumulonimbus. Zeek is ...   \n",
       "869   Guys.. we only rate dogs. Pls don't send any m...   \n",
       "913   She walks herself up and down the train to be ...   \n",
       "2011  Meet Snickers. He's adorable. Also comes in t-...   \n",
       "1928  Herd of wild dogs here. Not sure what they're ...   \n",
       "\n",
       "                                          expanded_urls  rating_numerator  \\\n",
       "1727  https://twitter.com/dog_rates/status/679877062...                 5   \n",
       "1559  https://twitter.com/dog_rates/status/688547210...                 9   \n",
       "135   https://twitter.com/dog_rates/status/866450705...                13   \n",
       "1946  https://twitter.com/dog_rates/status/673705679...                 8   \n",
       "1602  https://twitter.com/dog_rates/status/685973236...                11   \n",
       "2206  https://twitter.com/dog_rates/status/668631377...                 5   \n",
       "869   https://twitter.com/dog_rates/status/761745352...                11   \n",
       "913   https://twitter.com/dog_rates/status/757400162...                13   \n",
       "2011  https://twitter.com/dog_rates/status/672245253...                12   \n",
       "1928  https://twitter.com/dog_rates/status/674045139...                 3   \n",
       "\n",
       "      rating_denominator      name dog_stages  \n",
       "1727                  10  Penelope             \n",
       "1559                  10     Frönq             \n",
       "135                   10    Jamesy     pupper  \n",
       "1946                  10       Dot             \n",
       "1602                  10   Lorelei             \n",
       "2206                  10      Zeek             \n",
       "869                   10         a             \n",
       "913                   10         a             \n",
       "2011                  10  Snickers             \n",
       "1928                  10         a             "
      ]
     },
     "execution_count": 54,
     "metadata": {},
     "output_type": "execute_result"
    }
   ],
   "source": [
    "twitter_archive_clean.sample(10)"
   ]
  },
  {
   "cell_type": "code",
   "execution_count": 55,
   "metadata": {
    "scrolled": true
   },
   "outputs": [
    {
     "data": {
      "text/plain": [
       "(2064, 9)"
      ]
     },
     "execution_count": 55,
     "metadata": {},
     "output_type": "execute_result"
    }
   ],
   "source": [
    "twitter_archive_clean.shape"
   ]
  },
  {
   "cell_type": "code",
   "execution_count": 56,
   "metadata": {},
   "outputs": [
    {
     "data": {
      "text/plain": [
       "array(['', 'doggo', 'puppo', 'pupper', 'floofer'], dtype=object)"
      ]
     },
     "execution_count": 56,
     "metadata": {},
     "output_type": "execute_result"
    }
   ],
   "source": [
    "twitter_archive_clean.dog_stages.unique()"
   ]
  },
  {
   "cell_type": "markdown",
   "metadata": {},
   "source": [
    "### Issue #5:`twitter_archive:` dog stages have missing values"
   ]
  },
  {
   "cell_type": "markdown",
   "metadata": {
    "collapsed": true,
    "extensions": {
     "jupyter_dashboards": {
      "version": 1,
      "views": {
       "grid_default": {
        "hidden": true
       },
       "report_default": {
        "hidden": true
       }
      }
     }
    }
   },
   "source": [
    "#### Define\n",
    "- most dog stags have missing values stored as empty string. Replace with second most frequent dog stage\n",
    "\n",
    "OR\n",
    "\n",
    "- Extract some dog stage from the text columns i.e. extract 'doggo', 'floofer','floof', 'pupper' or 'pup' "
   ]
  },
  {
   "cell_type": "code",
   "execution_count": 57,
   "metadata": {},
   "outputs": [],
   "source": [
    "#extract dog stage from text\n",
    "for row_id in twitter_archive_clean.index: \n",
    "    \n",
    "    #key for id and name\n",
    "    dog_stage_id = twitter_archive_clean.loc[row_id, 'dog_stages']\n",
    "    #key for id and text\n",
    "    dog_text_id = twitter_archive_clean.loc[row_id,'text']\n",
    "    pattern = re.compile(r'pupper|puppers|doggo|pup|floofer|pups|Pup|puppo|floof')\n",
    "    \n",
    "    y = pattern.search(dog_text_id)\n",
    "    if y != None:\n",
    "        twitter_archive_clean.loc[row_id, 'dog_stages'] = y.group()\n",
    "#df.loc[tweet_id, col1] = x.group().strip('name is ')"
   ]
  },
  {
   "cell_type": "code",
   "execution_count": 58,
   "metadata": {},
   "outputs": [],
   "source": [
    "#replace pup,pups or Pup with pupper dog state\n",
    "twitter_archive_clean.replace(to_replace=\"pup\",value=\"puppo\", inplace=True)\n",
    "twitter_archive_clean.replace(to_replace=\"pups\",value=\"puppo\", inplace=True)\n",
    "twitter_archive_clean.replace(to_replace=\"Pup\",value=\"puppo\", inplace=True)\n",
    "twitter_archive_clean.replace(to_replace=\"floof\",value=\"floofer\", inplace=True)"
   ]
  },
  {
   "cell_type": "markdown",
   "metadata": {},
   "source": [
    "#### Test"
   ]
  },
  {
   "cell_type": "code",
   "execution_count": 59,
   "metadata": {
    "scrolled": true
   },
   "outputs": [
    {
     "data": {
      "text/plain": [
       "(2064, 9)"
      ]
     },
     "execution_count": 59,
     "metadata": {},
     "output_type": "execute_result"
    }
   ],
   "source": [
    "twitter_archive_clean.shape"
   ]
  },
  {
   "cell_type": "code",
   "execution_count": 60,
   "metadata": {},
   "outputs": [
    {
     "data": {
      "text/plain": [
       "array(['', 'puppo', 'pupper', 'doggo', 'floofer'], dtype=object)"
      ]
     },
     "execution_count": 60,
     "metadata": {},
     "output_type": "execute_result"
    }
   ],
   "source": [
    "twitter_archive_clean.dog_stages.unique()"
   ]
  },
  {
   "cell_type": "markdown",
   "metadata": {},
   "source": [
    "### Issue #10:`image_predictions:` Columns index 3-11 are structured as columns. Each variable is not a column. Meaningless column names"
   ]
  },
  {
   "cell_type": "markdown",
   "metadata": {
    "collapsed": true,
    "extensions": {
     "jupyter_dashboards": {
      "version": 1,
      "views": {
       "grid_default": {
        "hidden": true
       },
       "report_default": {
        "hidden": true
       }
      }
     }
    }
   },
   "source": [
    "#### Define\n",
    "- transfrom ['p1','p2','p3'] columns to rows with tweet_id as index, store into new dataframe\n",
    "- transfrom ['p1_dog','p2_dog','p3_dog'] columns to rows with tweet_id as index, store into new dataframe\n",
    "- transfrom ['p1_conf','p2_conf','p3_conf'] columns to rows with tweet_id as index, store into new dataframe\n",
    "- combine all the above dataframe to form 1 image_predictions_clean dataframe\n",
    "- renaming columns while tranforming so that image_predictions_clean has meaningful column names\n",
    "- strip the letter 'p' in p1, p2 and p3 and convert those columns to data type integer"
   ]
  },
  {
   "cell_type": "code",
   "execution_count": 61,
   "metadata": {},
   "outputs": [
    {
     "name": "stdout",
     "output_type": "stream",
     "text": [
      "(6225, 3)\n"
     ]
    },
    {
     "data": {
      "text/html": [
       "<div>\n",
       "<style scoped>\n",
       "    .dataframe tbody tr th:only-of-type {\n",
       "        vertical-align: middle;\n",
       "    }\n",
       "\n",
       "    .dataframe tbody tr th {\n",
       "        vertical-align: top;\n",
       "    }\n",
       "\n",
       "    .dataframe thead th {\n",
       "        text-align: right;\n",
       "    }\n",
       "</style>\n",
       "<table border=\"1\" class=\"dataframe\">\n",
       "  <thead>\n",
       "    <tr style=\"text-align: right;\">\n",
       "      <th></th>\n",
       "      <th>tweet_id</th>\n",
       "      <th>prediction_num</th>\n",
       "      <th>breed_name</th>\n",
       "    </tr>\n",
       "  </thead>\n",
       "  <tbody>\n",
       "    <tr>\n",
       "      <th>0</th>\n",
       "      <td>666020888022790149</td>\n",
       "      <td>p1</td>\n",
       "      <td>Welsh_springer_spaniel</td>\n",
       "    </tr>\n",
       "    <tr>\n",
       "      <th>1</th>\n",
       "      <td>666029285002620928</td>\n",
       "      <td>p1</td>\n",
       "      <td>redbone</td>\n",
       "    </tr>\n",
       "    <tr>\n",
       "      <th>2</th>\n",
       "      <td>666033412701032449</td>\n",
       "      <td>p1</td>\n",
       "      <td>German_shepherd</td>\n",
       "    </tr>\n",
       "    <tr>\n",
       "      <th>3</th>\n",
       "      <td>666044226329800704</td>\n",
       "      <td>p1</td>\n",
       "      <td>Rhodesian_ridgeback</td>\n",
       "    </tr>\n",
       "    <tr>\n",
       "      <th>4</th>\n",
       "      <td>666049248165822465</td>\n",
       "      <td>p1</td>\n",
       "      <td>miniature_pinscher</td>\n",
       "    </tr>\n",
       "  </tbody>\n",
       "</table>\n",
       "</div>"
      ],
      "text/plain": [
       "             tweet_id prediction_num              breed_name\n",
       "0  666020888022790149             p1  Welsh_springer_spaniel\n",
       "1  666029285002620928             p1                 redbone\n",
       "2  666033412701032449             p1         German_shepherd\n",
       "3  666044226329800704             p1     Rhodesian_ridgeback\n",
       "4  666049248165822465             p1      miniature_pinscher"
      ]
     },
     "execution_count": 61,
     "metadata": {},
     "output_type": "execute_result"
    }
   ],
   "source": [
    "#melt the predictions number and dog type columns\n",
    "image_predictions_clean_a = pd.melt(image_predictions_clean, id_vars =['tweet_id'], \n",
    "                                    value_vars =['p1','p2','p3'],\n",
    "                                    var_name = 'prediction_num',\n",
    "                                    value_name='breed_name')\n",
    "print(image_predictions_clean_a.shape)\n",
    "image_predictions_clean_a.head()"
   ]
  },
  {
   "cell_type": "code",
   "execution_count": 62,
   "metadata": {},
   "outputs": [
    {
     "name": "stdout",
     "output_type": "stream",
     "text": [
      "(6225, 3)\n"
     ]
    },
    {
     "data": {
      "text/html": [
       "<div>\n",
       "<style scoped>\n",
       "    .dataframe tbody tr th:only-of-type {\n",
       "        vertical-align: middle;\n",
       "    }\n",
       "\n",
       "    .dataframe tbody tr th {\n",
       "        vertical-align: top;\n",
       "    }\n",
       "\n",
       "    .dataframe thead th {\n",
       "        text-align: right;\n",
       "    }\n",
       "</style>\n",
       "<table border=\"1\" class=\"dataframe\">\n",
       "  <thead>\n",
       "    <tr style=\"text-align: right;\">\n",
       "      <th></th>\n",
       "      <th>tweet_id</th>\n",
       "      <th>is_dog_num</th>\n",
       "      <th>is_dog</th>\n",
       "    </tr>\n",
       "  </thead>\n",
       "  <tbody>\n",
       "    <tr>\n",
       "      <th>0</th>\n",
       "      <td>666020888022790149</td>\n",
       "      <td>p1_dog</td>\n",
       "      <td>True</td>\n",
       "    </tr>\n",
       "    <tr>\n",
       "      <th>1</th>\n",
       "      <td>666029285002620928</td>\n",
       "      <td>p1_dog</td>\n",
       "      <td>True</td>\n",
       "    </tr>\n",
       "    <tr>\n",
       "      <th>2</th>\n",
       "      <td>666033412701032449</td>\n",
       "      <td>p1_dog</td>\n",
       "      <td>True</td>\n",
       "    </tr>\n",
       "    <tr>\n",
       "      <th>3</th>\n",
       "      <td>666044226329800704</td>\n",
       "      <td>p1_dog</td>\n",
       "      <td>True</td>\n",
       "    </tr>\n",
       "    <tr>\n",
       "      <th>4</th>\n",
       "      <td>666049248165822465</td>\n",
       "      <td>p1_dog</td>\n",
       "      <td>True</td>\n",
       "    </tr>\n",
       "  </tbody>\n",
       "</table>\n",
       "</div>"
      ],
      "text/plain": [
       "             tweet_id is_dog_num  is_dog\n",
       "0  666020888022790149     p1_dog    True\n",
       "1  666029285002620928     p1_dog    True\n",
       "2  666033412701032449     p1_dog    True\n",
       "3  666044226329800704     p1_dog    True\n",
       "4  666049248165822465     p1_dog    True"
      ]
     },
     "execution_count": 62,
     "metadata": {},
     "output_type": "execute_result"
    }
   ],
   "source": [
    "#melt the columns that indicate whether an image is a dog or not\n",
    "image_predictions_clean_b = pd.melt(image_predictions_clean, id_vars =['tweet_id'], \n",
    "                                    value_vars =['p1_dog','p2_dog','p3_dog'], \n",
    "                                    var_name = 'is_dog_num', \n",
    "                                    value_name='is_dog')\n",
    "print(image_predictions_clean_b.shape)\n",
    "image_predictions_clean_b.head()"
   ]
  },
  {
   "cell_type": "code",
   "execution_count": 63,
   "metadata": {
    "scrolled": true
   },
   "outputs": [
    {
     "name": "stdout",
     "output_type": "stream",
     "text": [
      "(6225, 3)\n"
     ]
    },
    {
     "data": {
      "text/html": [
       "<div>\n",
       "<style scoped>\n",
       "    .dataframe tbody tr th:only-of-type {\n",
       "        vertical-align: middle;\n",
       "    }\n",
       "\n",
       "    .dataframe tbody tr th {\n",
       "        vertical-align: top;\n",
       "    }\n",
       "\n",
       "    .dataframe thead th {\n",
       "        text-align: right;\n",
       "    }\n",
       "</style>\n",
       "<table border=\"1\" class=\"dataframe\">\n",
       "  <thead>\n",
       "    <tr style=\"text-align: right;\">\n",
       "      <th></th>\n",
       "      <th>tweet_id</th>\n",
       "      <th>confidence_num</th>\n",
       "      <th>prediction_confidence</th>\n",
       "    </tr>\n",
       "  </thead>\n",
       "  <tbody>\n",
       "    <tr>\n",
       "      <th>0</th>\n",
       "      <td>666020888022790149</td>\n",
       "      <td>p1_conf</td>\n",
       "      <td>0.465074</td>\n",
       "    </tr>\n",
       "    <tr>\n",
       "      <th>1</th>\n",
       "      <td>666029285002620928</td>\n",
       "      <td>p1_conf</td>\n",
       "      <td>0.506826</td>\n",
       "    </tr>\n",
       "    <tr>\n",
       "      <th>2</th>\n",
       "      <td>666033412701032449</td>\n",
       "      <td>p1_conf</td>\n",
       "      <td>0.596461</td>\n",
       "    </tr>\n",
       "    <tr>\n",
       "      <th>3</th>\n",
       "      <td>666044226329800704</td>\n",
       "      <td>p1_conf</td>\n",
       "      <td>0.408143</td>\n",
       "    </tr>\n",
       "    <tr>\n",
       "      <th>4</th>\n",
       "      <td>666049248165822465</td>\n",
       "      <td>p1_conf</td>\n",
       "      <td>0.560311</td>\n",
       "    </tr>\n",
       "  </tbody>\n",
       "</table>\n",
       "</div>"
      ],
      "text/plain": [
       "             tweet_id confidence_num  prediction_confidence\n",
       "0  666020888022790149        p1_conf               0.465074\n",
       "1  666029285002620928        p1_conf               0.506826\n",
       "2  666033412701032449        p1_conf               0.596461\n",
       "3  666044226329800704        p1_conf               0.408143\n",
       "4  666049248165822465        p1_conf               0.560311"
      ]
     },
     "execution_count": 63,
     "metadata": {},
     "output_type": "execute_result"
    }
   ],
   "source": [
    "#melt the predictions confidence columns\n",
    "image_predictions_clean_c = pd.melt(image_predictions_clean, id_vars =['tweet_id'], \n",
    "                                    value_vars =['p1_conf','p2_conf','p3_conf'], \n",
    "                                    var_name = 'confidence_num', \n",
    "                                    value_name='prediction_confidence')\n",
    "print(image_predictions_clean_c.shape)\n",
    "image_predictions_clean_c.head()"
   ]
  },
  {
   "cell_type": "code",
   "execution_count": 64,
   "metadata": {},
   "outputs": [
    {
     "data": {
      "text/html": [
       "<div>\n",
       "<style scoped>\n",
       "    .dataframe tbody tr th:only-of-type {\n",
       "        vertical-align: middle;\n",
       "    }\n",
       "\n",
       "    .dataframe tbody tr th {\n",
       "        vertical-align: top;\n",
       "    }\n",
       "\n",
       "    .dataframe thead th {\n",
       "        text-align: right;\n",
       "    }\n",
       "</style>\n",
       "<table border=\"1\" class=\"dataframe\">\n",
       "  <thead>\n",
       "    <tr style=\"text-align: right;\">\n",
       "      <th></th>\n",
       "      <th>tweet_id</th>\n",
       "      <th>prediction_num</th>\n",
       "      <th>breed_name</th>\n",
       "      <th>is_dog</th>\n",
       "      <th>prediction_confidence</th>\n",
       "    </tr>\n",
       "  </thead>\n",
       "  <tbody>\n",
       "    <tr>\n",
       "      <th>0</th>\n",
       "      <td>666020888022790149</td>\n",
       "      <td>p1</td>\n",
       "      <td>Welsh_springer_spaniel</td>\n",
       "      <td>True</td>\n",
       "      <td>0.465074</td>\n",
       "    </tr>\n",
       "    <tr>\n",
       "      <th>1</th>\n",
       "      <td>666029285002620928</td>\n",
       "      <td>p1</td>\n",
       "      <td>redbone</td>\n",
       "      <td>True</td>\n",
       "      <td>0.506826</td>\n",
       "    </tr>\n",
       "    <tr>\n",
       "      <th>2</th>\n",
       "      <td>666033412701032449</td>\n",
       "      <td>p1</td>\n",
       "      <td>German_shepherd</td>\n",
       "      <td>True</td>\n",
       "      <td>0.596461</td>\n",
       "    </tr>\n",
       "    <tr>\n",
       "      <th>3</th>\n",
       "      <td>666044226329800704</td>\n",
       "      <td>p1</td>\n",
       "      <td>Rhodesian_ridgeback</td>\n",
       "      <td>True</td>\n",
       "      <td>0.408143</td>\n",
       "    </tr>\n",
       "    <tr>\n",
       "      <th>4</th>\n",
       "      <td>666049248165822465</td>\n",
       "      <td>p1</td>\n",
       "      <td>miniature_pinscher</td>\n",
       "      <td>True</td>\n",
       "      <td>0.560311</td>\n",
       "    </tr>\n",
       "    <tr>\n",
       "      <th>...</th>\n",
       "      <td>...</td>\n",
       "      <td>...</td>\n",
       "      <td>...</td>\n",
       "      <td>...</td>\n",
       "      <td>...</td>\n",
       "    </tr>\n",
       "    <tr>\n",
       "      <th>6220</th>\n",
       "      <td>891327558926688256</td>\n",
       "      <td>p3</td>\n",
       "      <td>German_short-haired_pointer</td>\n",
       "      <td>True</td>\n",
       "      <td>0.175219</td>\n",
       "    </tr>\n",
       "    <tr>\n",
       "      <th>6221</th>\n",
       "      <td>891689557279858688</td>\n",
       "      <td>p3</td>\n",
       "      <td>spatula</td>\n",
       "      <td>False</td>\n",
       "      <td>0.040836</td>\n",
       "    </tr>\n",
       "    <tr>\n",
       "      <th>6222</th>\n",
       "      <td>891815181378084864</td>\n",
       "      <td>p3</td>\n",
       "      <td>kelpie</td>\n",
       "      <td>True</td>\n",
       "      <td>0.031379</td>\n",
       "    </tr>\n",
       "    <tr>\n",
       "      <th>6223</th>\n",
       "      <td>892177421306343426</td>\n",
       "      <td>p3</td>\n",
       "      <td>papillon</td>\n",
       "      <td>True</td>\n",
       "      <td>0.068957</td>\n",
       "    </tr>\n",
       "    <tr>\n",
       "      <th>6224</th>\n",
       "      <td>892420643555336193</td>\n",
       "      <td>p3</td>\n",
       "      <td>banana</td>\n",
       "      <td>False</td>\n",
       "      <td>0.076110</td>\n",
       "    </tr>\n",
       "  </tbody>\n",
       "</table>\n",
       "<p>6225 rows × 5 columns</p>\n",
       "</div>"
      ],
      "text/plain": [
       "                tweet_id prediction_num                   breed_name  is_dog  \\\n",
       "0     666020888022790149             p1       Welsh_springer_spaniel    True   \n",
       "1     666029285002620928             p1                      redbone    True   \n",
       "2     666033412701032449             p1              German_shepherd    True   \n",
       "3     666044226329800704             p1          Rhodesian_ridgeback    True   \n",
       "4     666049248165822465             p1           miniature_pinscher    True   \n",
       "...                  ...            ...                          ...     ...   \n",
       "6220  891327558926688256             p3  German_short-haired_pointer    True   \n",
       "6221  891689557279858688             p3                      spatula   False   \n",
       "6222  891815181378084864             p3                       kelpie    True   \n",
       "6223  892177421306343426             p3                     papillon    True   \n",
       "6224  892420643555336193             p3                       banana   False   \n",
       "\n",
       "      prediction_confidence  \n",
       "0                  0.465074  \n",
       "1                  0.506826  \n",
       "2                  0.596461  \n",
       "3                  0.408143  \n",
       "4                  0.560311  \n",
       "...                     ...  \n",
       "6220               0.175219  \n",
       "6221               0.040836  \n",
       "6222               0.031379  \n",
       "6223               0.068957  \n",
       "6224               0.076110  \n",
       "\n",
       "[6225 rows x 5 columns]"
      ]
     },
     "execution_count": 64,
     "metadata": {},
     "output_type": "execute_result"
    }
   ],
   "source": [
    "#combine all the relevant columns to form 1 dataframe\n",
    "image_predictions_clean = pd.concat([image_predictions_clean_a[['tweet_id','prediction_num','breed_name']], \n",
    "                                     image_predictions_clean_b['is_dog'],\n",
    "                                     image_predictions_clean_c['prediction_confidence']], \n",
    "                                    axis=1)\n",
    "image_predictions_clean"
   ]
  },
  {
   "cell_type": "code",
   "execution_count": 65,
   "metadata": {},
   "outputs": [],
   "source": [
    "#strip the letter 'p' in p1, p2 and p3 and convert those columns to data type integer\n",
    "image_predictions_clean.prediction_num = image_predictions_clean.prediction_num.str.strip('p').astype(int)"
   ]
  },
  {
   "cell_type": "code",
   "execution_count": 66,
   "metadata": {},
   "outputs": [],
   "source": [
    "#Remove rows that are not dogs\n",
    "image_predictions_clean = image_predictions_clean.query('is_dog == True')"
   ]
  },
  {
   "cell_type": "markdown",
   "metadata": {},
   "source": [
    "#### Test"
   ]
  },
  {
   "cell_type": "code",
   "execution_count": 67,
   "metadata": {},
   "outputs": [
    {
     "data": {
      "text/html": [
       "<div>\n",
       "<style scoped>\n",
       "    .dataframe tbody tr th:only-of-type {\n",
       "        vertical-align: middle;\n",
       "    }\n",
       "\n",
       "    .dataframe tbody tr th {\n",
       "        vertical-align: top;\n",
       "    }\n",
       "\n",
       "    .dataframe thead th {\n",
       "        text-align: right;\n",
       "    }\n",
       "</style>\n",
       "<table border=\"1\" class=\"dataframe\">\n",
       "  <thead>\n",
       "    <tr style=\"text-align: right;\">\n",
       "      <th></th>\n",
       "      <th>tweet_id</th>\n",
       "      <th>prediction_num</th>\n",
       "      <th>breed_name</th>\n",
       "      <th>is_dog</th>\n",
       "      <th>prediction_confidence</th>\n",
       "    </tr>\n",
       "  </thead>\n",
       "  <tbody>\n",
       "    <tr>\n",
       "      <th>2443</th>\n",
       "      <td>672968025906282496</td>\n",
       "      <td>2</td>\n",
       "      <td>miniature_poodle</td>\n",
       "      <td>True</td>\n",
       "      <td>0.160273</td>\n",
       "    </tr>\n",
       "    <tr>\n",
       "      <th>4500</th>\n",
       "      <td>672488522314567680</td>\n",
       "      <td>3</td>\n",
       "      <td>Appenzeller</td>\n",
       "      <td>True</td>\n",
       "      <td>0.077798</td>\n",
       "    </tr>\n",
       "    <tr>\n",
       "      <th>6178</th>\n",
       "      <td>882627270321602560</td>\n",
       "      <td>3</td>\n",
       "      <td>Cardigan</td>\n",
       "      <td>True</td>\n",
       "      <td>0.107699</td>\n",
       "    </tr>\n",
       "    <tr>\n",
       "      <th>5074</th>\n",
       "      <td>702321140488925184</td>\n",
       "      <td>3</td>\n",
       "      <td>Old_English_sheepdog</td>\n",
       "      <td>True</td>\n",
       "      <td>0.043763</td>\n",
       "    </tr>\n",
       "    <tr>\n",
       "      <th>5250</th>\n",
       "      <td>720775346191278080</td>\n",
       "      <td>3</td>\n",
       "      <td>giant_schnauzer</td>\n",
       "      <td>True</td>\n",
       "      <td>0.079067</td>\n",
       "    </tr>\n",
       "    <tr>\n",
       "      <th>5197</th>\n",
       "      <td>713177543487135744</td>\n",
       "      <td>3</td>\n",
       "      <td>Great_Dane</td>\n",
       "      <td>True</td>\n",
       "      <td>0.025874</td>\n",
       "    </tr>\n",
       "    <tr>\n",
       "      <th>2795</th>\n",
       "      <td>685943807276412928</td>\n",
       "      <td>2</td>\n",
       "      <td>toy_terrier</td>\n",
       "      <td>True</td>\n",
       "      <td>0.114512</td>\n",
       "    </tr>\n",
       "    <tr>\n",
       "      <th>1494</th>\n",
       "      <td>783334639985389568</td>\n",
       "      <td>1</td>\n",
       "      <td>Cardigan</td>\n",
       "      <td>True</td>\n",
       "      <td>0.593858</td>\n",
       "    </tr>\n",
       "    <tr>\n",
       "      <th>3323</th>\n",
       "      <td>747816857231626240</td>\n",
       "      <td>2</td>\n",
       "      <td>Chihuahua</td>\n",
       "      <td>True</td>\n",
       "      <td>0.029053</td>\n",
       "    </tr>\n",
       "    <tr>\n",
       "      <th>2816</th>\n",
       "      <td>687317306314240000</td>\n",
       "      <td>2</td>\n",
       "      <td>Maltese_dog</td>\n",
       "      <td>True</td>\n",
       "      <td>0.091025</td>\n",
       "    </tr>\n",
       "  </tbody>\n",
       "</table>\n",
       "</div>"
      ],
      "text/plain": [
       "                tweet_id  prediction_num            breed_name  is_dog  \\\n",
       "2443  672968025906282496               2      miniature_poodle    True   \n",
       "4500  672488522314567680               3           Appenzeller    True   \n",
       "6178  882627270321602560               3              Cardigan    True   \n",
       "5074  702321140488925184               3  Old_English_sheepdog    True   \n",
       "5250  720775346191278080               3       giant_schnauzer    True   \n",
       "5197  713177543487135744               3            Great_Dane    True   \n",
       "2795  685943807276412928               2           toy_terrier    True   \n",
       "1494  783334639985389568               1              Cardigan    True   \n",
       "3323  747816857231626240               2             Chihuahua    True   \n",
       "2816  687317306314240000               2           Maltese_dog    True   \n",
       "\n",
       "      prediction_confidence  \n",
       "2443               0.160273  \n",
       "4500               0.077798  \n",
       "6178               0.107699  \n",
       "5074               0.043763  \n",
       "5250               0.079067  \n",
       "5197               0.025874  \n",
       "2795               0.114512  \n",
       "1494               0.593858  \n",
       "3323               0.029053  \n",
       "2816               0.091025  "
      ]
     },
     "execution_count": 67,
     "metadata": {},
     "output_type": "execute_result"
    }
   ],
   "source": [
    "image_predictions_clean.sample(10)"
   ]
  },
  {
   "cell_type": "code",
   "execution_count": 68,
   "metadata": {},
   "outputs": [
    {
     "name": "stdout",
     "output_type": "stream",
     "text": [
      "(4584, 5)\n",
      "<class 'pandas.core.frame.DataFrame'>\n",
      "Int64Index: 4584 entries, 0 to 6223\n",
      "Data columns (total 5 columns):\n",
      " #   Column                 Non-Null Count  Dtype  \n",
      "---  ------                 --------------  -----  \n",
      " 0   tweet_id               4584 non-null   int64  \n",
      " 1   prediction_num         4584 non-null   int32  \n",
      " 2   breed_name             4584 non-null   object \n",
      " 3   is_dog                 4584 non-null   bool   \n",
      " 4   prediction_confidence  4584 non-null   float64\n",
      "dtypes: bool(1), float64(1), int32(1), int64(1), object(1)\n",
      "memory usage: 165.6+ KB\n"
     ]
    }
   ],
   "source": [
    "#looking at the data summary\n",
    "print(image_predictions_clean.shape)\n",
    "image_predictions_clean.info()"
   ]
  },
  {
   "cell_type": "code",
   "execution_count": 69,
   "metadata": {},
   "outputs": [],
   "source": [
    "#replace dashes with underscores for these breed names. \n",
    "image_predictions_clean = image_predictions_clean.replace(\"flat-coated_retriever\",\"flat_coated_retriever\")\n",
    "image_predictions_clean = image_predictions_clean.replace(\"black-and-tan_coonhound\",\"black_and_tan_coonhound\")\n",
    "#soft-coated_wheaten_terrier"
   ]
  },
  {
   "cell_type": "markdown",
   "metadata": {},
   "source": [
    "### Issue #6:`twitter_archive:` timestamp stored as string"
   ]
  },
  {
   "cell_type": "markdown",
   "metadata": {
    "collapsed": true,
    "extensions": {
     "jupyter_dashboards": {
      "version": 1,
      "views": {
       "grid_default": {
        "hidden": true
       },
       "report_default": {
        "hidden": true
       }
      }
     }
    }
   },
   "source": [
    "#### Define\n",
    "- change timestamp type to datetime"
   ]
  },
  {
   "cell_type": "markdown",
   "metadata": {},
   "source": [
    "#### Code"
   ]
  },
  {
   "cell_type": "code",
   "execution_count": 70,
   "metadata": {},
   "outputs": [],
   "source": [
    "#convert to datetime\n",
    "twitter_archive_clean.timestamp = pd.to_datetime(twitter_archive_clean.timestamp)"
   ]
  },
  {
   "cell_type": "markdown",
   "metadata": {},
   "source": [
    "#### Test"
   ]
  },
  {
   "cell_type": "code",
   "execution_count": 71,
   "metadata": {
    "scrolled": true
   },
   "outputs": [
    {
     "name": "stdout",
     "output_type": "stream",
     "text": [
      "<class 'pandas.core.frame.DataFrame'>\n",
      "Int64Index: 2064 entries, 0 to 2355\n",
      "Data columns (total 9 columns):\n",
      " #   Column              Non-Null Count  Dtype              \n",
      "---  ------              --------------  -----              \n",
      " 0   tweet_id            2064 non-null   int64              \n",
      " 1   timestamp           2064 non-null   datetime64[ns, UTC]\n",
      " 2   source              2064 non-null   object             \n",
      " 3   text                2064 non-null   object             \n",
      " 4   expanded_urls       2061 non-null   object             \n",
      " 5   rating_numerator    2064 non-null   int64              \n",
      " 6   rating_denominator  2064 non-null   int64              \n",
      " 7   name                2064 non-null   object             \n",
      " 8   dog_stages          2064 non-null   object             \n",
      "dtypes: datetime64[ns, UTC](1), int64(3), object(5)\n",
      "memory usage: 225.8+ KB\n"
     ]
    }
   ],
   "source": [
    "#looking at the data summary\n",
    "twitter_archive_clean.info()"
   ]
  },
  {
   "cell_type": "markdown",
   "metadata": {},
   "source": [
    "### Issue #7:`twitter_archive:` 21 tweets have an invalid denominator rating"
   ]
  },
  {
   "cell_type": "markdown",
   "metadata": {
    "collapsed": true,
    "extensions": {
     "jupyter_dashboards": {
      "version": 1,
      "views": {
       "grid_default": {
        "hidden": true
       },
       "report_default": {
        "hidden": true
       }
      }
     }
    }
   },
   "source": [
    "#### Define:\n",
    "- Replace invalid ratings with 10"
   ]
  },
  {
   "cell_type": "markdown",
   "metadata": {},
   "source": [
    "#### Code"
   ]
  },
  {
   "cell_type": "code",
   "execution_count": 72,
   "metadata": {},
   "outputs": [
    {
     "data": {
      "text/html": [
       "<div>\n",
       "<style scoped>\n",
       "    .dataframe tbody tr th:only-of-type {\n",
       "        vertical-align: middle;\n",
       "    }\n",
       "\n",
       "    .dataframe tbody tr th {\n",
       "        vertical-align: top;\n",
       "    }\n",
       "\n",
       "    .dataframe thead th {\n",
       "        text-align: right;\n",
       "    }\n",
       "</style>\n",
       "<table border=\"1\" class=\"dataframe\">\n",
       "  <thead>\n",
       "    <tr style=\"text-align: right;\">\n",
       "      <th></th>\n",
       "      <th>tweet_id</th>\n",
       "      <th>timestamp</th>\n",
       "      <th>source</th>\n",
       "      <th>text</th>\n",
       "      <th>expanded_urls</th>\n",
       "      <th>rating_numerator</th>\n",
       "      <th>rating_denominator</th>\n",
       "      <th>name</th>\n",
       "      <th>dog_stages</th>\n",
       "    </tr>\n",
       "  </thead>\n",
       "  <tbody>\n",
       "    <tr>\n",
       "      <th>0</th>\n",
       "      <td>892420643555336193</td>\n",
       "      <td>2017-08-01 16:23:56+00:00</td>\n",
       "      <td>&lt;a href=\"http://twitter.com/download/iphone\" r...</td>\n",
       "      <td>This is Phineas. He's a mystical boy. Only eve...</td>\n",
       "      <td>https://twitter.com/dog_rates/status/892420643...</td>\n",
       "      <td>13</td>\n",
       "      <td>10</td>\n",
       "      <td>Phineas</td>\n",
       "      <td></td>\n",
       "    </tr>\n",
       "    <tr>\n",
       "      <th>1</th>\n",
       "      <td>892177421306343426</td>\n",
       "      <td>2017-08-01 00:17:27+00:00</td>\n",
       "      <td>&lt;a href=\"http://twitter.com/download/iphone\" r...</td>\n",
       "      <td>This is Tilly. She's just checking pup on you....</td>\n",
       "      <td>https://twitter.com/dog_rates/status/892177421...</td>\n",
       "      <td>13</td>\n",
       "      <td>10</td>\n",
       "      <td>Tilly</td>\n",
       "      <td>puppo</td>\n",
       "    </tr>\n",
       "    <tr>\n",
       "      <th>2</th>\n",
       "      <td>891815181378084864</td>\n",
       "      <td>2017-07-31 00:18:03+00:00</td>\n",
       "      <td>&lt;a href=\"http://twitter.com/download/iphone\" r...</td>\n",
       "      <td>This is Archie. He is a rare Norwegian Pouncin...</td>\n",
       "      <td>https://twitter.com/dog_rates/status/891815181...</td>\n",
       "      <td>12</td>\n",
       "      <td>10</td>\n",
       "      <td>Archie</td>\n",
       "      <td></td>\n",
       "    </tr>\n",
       "    <tr>\n",
       "      <th>3</th>\n",
       "      <td>891689557279858688</td>\n",
       "      <td>2017-07-30 15:58:51+00:00</td>\n",
       "      <td>&lt;a href=\"http://twitter.com/download/iphone\" r...</td>\n",
       "      <td>This is Darla. She commenced a snooze mid meal...</td>\n",
       "      <td>https://twitter.com/dog_rates/status/891689557...</td>\n",
       "      <td>13</td>\n",
       "      <td>10</td>\n",
       "      <td>Darla</td>\n",
       "      <td></td>\n",
       "    </tr>\n",
       "    <tr>\n",
       "      <th>4</th>\n",
       "      <td>891327558926688256</td>\n",
       "      <td>2017-07-29 16:00:24+00:00</td>\n",
       "      <td>&lt;a href=\"http://twitter.com/download/iphone\" r...</td>\n",
       "      <td>This is Franklin. He would like you to stop ca...</td>\n",
       "      <td>https://twitter.com/dog_rates/status/891327558...</td>\n",
       "      <td>12</td>\n",
       "      <td>10</td>\n",
       "      <td>Franklin</td>\n",
       "      <td></td>\n",
       "    </tr>\n",
       "  </tbody>\n",
       "</table>\n",
       "</div>"
      ],
      "text/plain": [
       "             tweet_id                 timestamp  \\\n",
       "0  892420643555336193 2017-08-01 16:23:56+00:00   \n",
       "1  892177421306343426 2017-08-01 00:17:27+00:00   \n",
       "2  891815181378084864 2017-07-31 00:18:03+00:00   \n",
       "3  891689557279858688 2017-07-30 15:58:51+00:00   \n",
       "4  891327558926688256 2017-07-29 16:00:24+00:00   \n",
       "\n",
       "                                              source  \\\n",
       "0  <a href=\"http://twitter.com/download/iphone\" r...   \n",
       "1  <a href=\"http://twitter.com/download/iphone\" r...   \n",
       "2  <a href=\"http://twitter.com/download/iphone\" r...   \n",
       "3  <a href=\"http://twitter.com/download/iphone\" r...   \n",
       "4  <a href=\"http://twitter.com/download/iphone\" r...   \n",
       "\n",
       "                                                text  \\\n",
       "0  This is Phineas. He's a mystical boy. Only eve...   \n",
       "1  This is Tilly. She's just checking pup on you....   \n",
       "2  This is Archie. He is a rare Norwegian Pouncin...   \n",
       "3  This is Darla. She commenced a snooze mid meal...   \n",
       "4  This is Franklin. He would like you to stop ca...   \n",
       "\n",
       "                                       expanded_urls  rating_numerator  \\\n",
       "0  https://twitter.com/dog_rates/status/892420643...                13   \n",
       "1  https://twitter.com/dog_rates/status/892177421...                13   \n",
       "2  https://twitter.com/dog_rates/status/891815181...                12   \n",
       "3  https://twitter.com/dog_rates/status/891689557...                13   \n",
       "4  https://twitter.com/dog_rates/status/891327558...                12   \n",
       "\n",
       "   rating_denominator      name dog_stages  \n",
       "0                  10   Phineas             \n",
       "1                  10     Tilly      puppo  \n",
       "2                  10    Archie             \n",
       "3                  10     Darla             \n",
       "4                  10  Franklin             "
      ]
     },
     "execution_count": 72,
     "metadata": {},
     "output_type": "execute_result"
    }
   ],
   "source": [
    "#default to 10\n",
    "twitter_archive_clean['rating_denominator'] = twitter_archive_clean['rating_denominator'].apply(lambda x: 10 if x > 10 else 10)\n",
    "twitter_archive_clean.head()"
   ]
  },
  {
   "cell_type": "markdown",
   "metadata": {},
   "source": [
    "#### Test"
   ]
  },
  {
   "cell_type": "code",
   "execution_count": 73,
   "metadata": {},
   "outputs": [
    {
     "data": {
      "text/plain": [
       "0"
      ]
     },
     "execution_count": 73,
     "metadata": {},
     "output_type": "execute_result"
    }
   ],
   "source": [
    "#querying for rating denominators that are not 10\n",
    "twitter_archive_clean.query('rating_denominator > 10 or rating_denominator == 0').rating_denominator.value_counts().sum()"
   ]
  },
  {
   "cell_type": "markdown",
   "metadata": {},
   "source": [
    "### Issue #8:`tweet_counts_df:`column names in tweets_counts_df are not meaningful"
   ]
  },
  {
   "cell_type": "markdown",
   "metadata": {
    "collapsed": true,
    "extensions": {
     "jupyter_dashboards": {
      "version": 1,
      "views": {
       "grid_default": {
        "hidden": true
       },
       "report_default": {
        "hidden": true
       }
      }
     }
    }
   },
   "source": [
    "#### Define\n",
    "- Rename columns 0, 1, 2 as tweet_id, favorites and retweets"
   ]
  },
  {
   "cell_type": "code",
   "execution_count": 74,
   "metadata": {},
   "outputs": [],
   "source": [
    "#rename columns for more readability\n",
    "tweet_counts_clean.rename(columns={0: 'tweet_id',1:'favorites',2:'retweets'}, inplace = True)"
   ]
  },
  {
   "cell_type": "markdown",
   "metadata": {},
   "source": [
    "#### Test"
   ]
  },
  {
   "cell_type": "code",
   "execution_count": 75,
   "metadata": {
    "scrolled": true
   },
   "outputs": [
    {
     "data": {
      "text/html": [
       "<div>\n",
       "<style scoped>\n",
       "    .dataframe tbody tr th:only-of-type {\n",
       "        vertical-align: middle;\n",
       "    }\n",
       "\n",
       "    .dataframe tbody tr th {\n",
       "        vertical-align: top;\n",
       "    }\n",
       "\n",
       "    .dataframe thead th {\n",
       "        text-align: right;\n",
       "    }\n",
       "</style>\n",
       "<table border=\"1\" class=\"dataframe\">\n",
       "  <thead>\n",
       "    <tr style=\"text-align: right;\">\n",
       "      <th></th>\n",
       "      <th>tweet_id</th>\n",
       "      <th>favorites</th>\n",
       "      <th>retweets</th>\n",
       "    </tr>\n",
       "  </thead>\n",
       "  <tbody>\n",
       "    <tr>\n",
       "      <th>0</th>\n",
       "      <td>892420643555336193</td>\n",
       "      <td>39467</td>\n",
       "      <td>8853</td>\n",
       "    </tr>\n",
       "    <tr>\n",
       "      <th>1</th>\n",
       "      <td>892177421306343426</td>\n",
       "      <td>33819</td>\n",
       "      <td>6514</td>\n",
       "    </tr>\n",
       "    <tr>\n",
       "      <th>2</th>\n",
       "      <td>891815181378084864</td>\n",
       "      <td>25461</td>\n",
       "      <td>4328</td>\n",
       "    </tr>\n",
       "    <tr>\n",
       "      <th>3</th>\n",
       "      <td>891689557279858688</td>\n",
       "      <td>42908</td>\n",
       "      <td>8964</td>\n",
       "    </tr>\n",
       "    <tr>\n",
       "      <th>4</th>\n",
       "      <td>891327558926688256</td>\n",
       "      <td>41048</td>\n",
       "      <td>9774</td>\n",
       "    </tr>\n",
       "  </tbody>\n",
       "</table>\n",
       "</div>"
      ],
      "text/plain": [
       "             tweet_id  favorites  retweets\n",
       "0  892420643555336193      39467      8853\n",
       "1  892177421306343426      33819      6514\n",
       "2  891815181378084864      25461      4328\n",
       "3  891689557279858688      42908      8964\n",
       "4  891327558926688256      41048      9774"
      ]
     },
     "execution_count": 75,
     "metadata": {},
     "output_type": "execute_result"
    }
   ],
   "source": [
    "#Looking at first 5 rows of the dataset\n",
    "tweet_counts_clean.head()"
   ]
  },
  {
   "cell_type": "markdown",
   "metadata": {},
   "source": [
    "__________"
   ]
  },
  {
   "cell_type": "markdown",
   "metadata": {},
   "source": [
    "### Merge data sets"
   ]
  },
  {
   "cell_type": "code",
   "execution_count": 76,
   "metadata": {},
   "outputs": [],
   "source": [
    "#tweet_counts_clean.info()"
   ]
  },
  {
   "cell_type": "code",
   "execution_count": 77,
   "metadata": {
    "scrolled": true
   },
   "outputs": [
    {
     "name": "stdout",
     "output_type": "stream",
     "text": [
      "<class 'pandas.core.frame.DataFrame'>\n",
      "Int64Index: 2064 entries, 0 to 2063\n",
      "Data columns (total 11 columns):\n",
      " #   Column              Non-Null Count  Dtype              \n",
      "---  ------              --------------  -----              \n",
      " 0   tweet_id            2064 non-null   int64              \n",
      " 1   timestamp           2064 non-null   datetime64[ns, UTC]\n",
      " 2   source              2064 non-null   object             \n",
      " 3   text                2064 non-null   object             \n",
      " 4   expanded_urls       2061 non-null   object             \n",
      " 5   rating_numerator    2064 non-null   int64              \n",
      " 6   rating_denominator  2064 non-null   int64              \n",
      " 7   name                2064 non-null   object             \n",
      " 8   dog_stages          2064 non-null   object             \n",
      " 9   favorites           2064 non-null   int64              \n",
      " 10  retweets            2064 non-null   int64              \n",
      "dtypes: datetime64[ns, UTC](1), int64(5), object(5)\n",
      "memory usage: 193.5+ KB\n"
     ]
    }
   ],
   "source": [
    "#merge twitter archive with favourite and retweet count\n",
    "merged_df = twitter_archive_clean.merge(tweet_counts_clean, \n",
    "                                        how='left', \n",
    "                                        left_on = 'tweet_id', \n",
    "                                        right_on = 'tweet_id', \n",
    "                                        validate = '1:m', \n",
    "                                        suffixes = ('x','y') )\n",
    "merged_df.info()"
   ]
  },
  {
   "cell_type": "code",
   "execution_count": 78,
   "metadata": {},
   "outputs": [],
   "source": [
    "#merged_df.dog_stages.describe()"
   ]
  },
  {
   "cell_type": "code",
   "execution_count": 79,
   "metadata": {},
   "outputs": [
    {
     "data": {
      "text/html": [
       "<div>\n",
       "<style scoped>\n",
       "    .dataframe tbody tr th:only-of-type {\n",
       "        vertical-align: middle;\n",
       "    }\n",
       "\n",
       "    .dataframe tbody tr th {\n",
       "        vertical-align: top;\n",
       "    }\n",
       "\n",
       "    .dataframe thead th {\n",
       "        text-align: right;\n",
       "    }\n",
       "</style>\n",
       "<table border=\"1\" class=\"dataframe\">\n",
       "  <thead>\n",
       "    <tr style=\"text-align: right;\">\n",
       "      <th></th>\n",
       "      <th>tweet_id</th>\n",
       "      <th>timestamp</th>\n",
       "      <th>source</th>\n",
       "      <th>text</th>\n",
       "      <th>expanded_urls</th>\n",
       "      <th>rating_numerator</th>\n",
       "      <th>rating_denominator</th>\n",
       "      <th>name</th>\n",
       "      <th>dog_stages</th>\n",
       "      <th>favorites</th>\n",
       "      <th>retweets</th>\n",
       "      <th>prediction_num</th>\n",
       "      <th>breed_name</th>\n",
       "      <th>is_dog</th>\n",
       "      <th>prediction_confidence</th>\n",
       "    </tr>\n",
       "  </thead>\n",
       "  <tbody>\n",
       "    <tr>\n",
       "      <th>0</th>\n",
       "      <td>892420643555336193</td>\n",
       "      <td>2017-08-01 16:23:56+00:00</td>\n",
       "      <td>&lt;a href=\"http://twitter.com/download/iphone\" r...</td>\n",
       "      <td>This is Phineas. He's a mystical boy. Only eve...</td>\n",
       "      <td>https://twitter.com/dog_rates/status/892420643...</td>\n",
       "      <td>13</td>\n",
       "      <td>10</td>\n",
       "      <td>Phineas</td>\n",
       "      <td></td>\n",
       "      <td>39467</td>\n",
       "      <td>8853</td>\n",
       "      <td>NaN</td>\n",
       "      <td>NaN</td>\n",
       "      <td>NaN</td>\n",
       "      <td>NaN</td>\n",
       "    </tr>\n",
       "    <tr>\n",
       "      <th>1</th>\n",
       "      <td>892177421306343426</td>\n",
       "      <td>2017-08-01 00:17:27+00:00</td>\n",
       "      <td>&lt;a href=\"http://twitter.com/download/iphone\" r...</td>\n",
       "      <td>This is Tilly. She's just checking pup on you....</td>\n",
       "      <td>https://twitter.com/dog_rates/status/892177421...</td>\n",
       "      <td>13</td>\n",
       "      <td>10</td>\n",
       "      <td>Tilly</td>\n",
       "      <td>puppo</td>\n",
       "      <td>33819</td>\n",
       "      <td>6514</td>\n",
       "      <td>1.0</td>\n",
       "      <td>Chihuahua</td>\n",
       "      <td>True</td>\n",
       "      <td>0.323581</td>\n",
       "    </tr>\n",
       "    <tr>\n",
       "      <th>2</th>\n",
       "      <td>892177421306343426</td>\n",
       "      <td>2017-08-01 00:17:27+00:00</td>\n",
       "      <td>&lt;a href=\"http://twitter.com/download/iphone\" r...</td>\n",
       "      <td>This is Tilly. She's just checking pup on you....</td>\n",
       "      <td>https://twitter.com/dog_rates/status/892177421...</td>\n",
       "      <td>13</td>\n",
       "      <td>10</td>\n",
       "      <td>Tilly</td>\n",
       "      <td>puppo</td>\n",
       "      <td>33819</td>\n",
       "      <td>6514</td>\n",
       "      <td>2.0</td>\n",
       "      <td>Pekinese</td>\n",
       "      <td>True</td>\n",
       "      <td>0.090647</td>\n",
       "    </tr>\n",
       "    <tr>\n",
       "      <th>3</th>\n",
       "      <td>892177421306343426</td>\n",
       "      <td>2017-08-01 00:17:27+00:00</td>\n",
       "      <td>&lt;a href=\"http://twitter.com/download/iphone\" r...</td>\n",
       "      <td>This is Tilly. She's just checking pup on you....</td>\n",
       "      <td>https://twitter.com/dog_rates/status/892177421...</td>\n",
       "      <td>13</td>\n",
       "      <td>10</td>\n",
       "      <td>Tilly</td>\n",
       "      <td>puppo</td>\n",
       "      <td>33819</td>\n",
       "      <td>6514</td>\n",
       "      <td>3.0</td>\n",
       "      <td>papillon</td>\n",
       "      <td>True</td>\n",
       "      <td>0.068957</td>\n",
       "    </tr>\n",
       "    <tr>\n",
       "      <th>4</th>\n",
       "      <td>891815181378084864</td>\n",
       "      <td>2017-07-31 00:18:03+00:00</td>\n",
       "      <td>&lt;a href=\"http://twitter.com/download/iphone\" r...</td>\n",
       "      <td>This is Archie. He is a rare Norwegian Pouncin...</td>\n",
       "      <td>https://twitter.com/dog_rates/status/891815181...</td>\n",
       "      <td>12</td>\n",
       "      <td>10</td>\n",
       "      <td>Archie</td>\n",
       "      <td></td>\n",
       "      <td>25461</td>\n",
       "      <td>4328</td>\n",
       "      <td>1.0</td>\n",
       "      <td>Chihuahua</td>\n",
       "      <td>True</td>\n",
       "      <td>0.716012</td>\n",
       "    </tr>\n",
       "  </tbody>\n",
       "</table>\n",
       "</div>"
      ],
      "text/plain": [
       "             tweet_id                 timestamp  \\\n",
       "0  892420643555336193 2017-08-01 16:23:56+00:00   \n",
       "1  892177421306343426 2017-08-01 00:17:27+00:00   \n",
       "2  892177421306343426 2017-08-01 00:17:27+00:00   \n",
       "3  892177421306343426 2017-08-01 00:17:27+00:00   \n",
       "4  891815181378084864 2017-07-31 00:18:03+00:00   \n",
       "\n",
       "                                              source  \\\n",
       "0  <a href=\"http://twitter.com/download/iphone\" r...   \n",
       "1  <a href=\"http://twitter.com/download/iphone\" r...   \n",
       "2  <a href=\"http://twitter.com/download/iphone\" r...   \n",
       "3  <a href=\"http://twitter.com/download/iphone\" r...   \n",
       "4  <a href=\"http://twitter.com/download/iphone\" r...   \n",
       "\n",
       "                                                text  \\\n",
       "0  This is Phineas. He's a mystical boy. Only eve...   \n",
       "1  This is Tilly. She's just checking pup on you....   \n",
       "2  This is Tilly. She's just checking pup on you....   \n",
       "3  This is Tilly. She's just checking pup on you....   \n",
       "4  This is Archie. He is a rare Norwegian Pouncin...   \n",
       "\n",
       "                                       expanded_urls  rating_numerator  \\\n",
       "0  https://twitter.com/dog_rates/status/892420643...                13   \n",
       "1  https://twitter.com/dog_rates/status/892177421...                13   \n",
       "2  https://twitter.com/dog_rates/status/892177421...                13   \n",
       "3  https://twitter.com/dog_rates/status/892177421...                13   \n",
       "4  https://twitter.com/dog_rates/status/891815181...                12   \n",
       "\n",
       "   rating_denominator     name dog_stages  favorites  retweets  \\\n",
       "0                  10  Phineas                 39467      8853   \n",
       "1                  10    Tilly      puppo      33819      6514   \n",
       "2                  10    Tilly      puppo      33819      6514   \n",
       "3                  10    Tilly      puppo      33819      6514   \n",
       "4                  10   Archie                 25461      4328   \n",
       "\n",
       "   prediction_num breed_name is_dog  prediction_confidence  \n",
       "0             NaN        NaN    NaN                    NaN  \n",
       "1             1.0  Chihuahua   True               0.323581  \n",
       "2             2.0   Pekinese   True               0.090647  \n",
       "3             3.0   papillon   True               0.068957  \n",
       "4             1.0  Chihuahua   True               0.716012  "
      ]
     },
     "execution_count": 79,
     "metadata": {},
     "output_type": "execute_result"
    }
   ],
   "source": [
    "#lastly merge with image_predictions\n",
    "twitter_archive_master = merged_df.merge(image_predictions_clean, \n",
    "                                         how='left', \n",
    "                                         left_on = 'tweet_id', \n",
    "                                         right_on = 'tweet_id', \n",
    "                                         validate = '1:m', \n",
    "                                         suffixes = ('x','y') )\n",
    "twitter_archive_master.head()"
   ]
  },
  {
   "cell_type": "code",
   "execution_count": 80,
   "metadata": {},
   "outputs": [
    {
     "data": {
      "text/plain": [
       "(4721, 15)"
      ]
     },
     "execution_count": 80,
     "metadata": {},
     "output_type": "execute_result"
    }
   ],
   "source": [
    "twitter_archive_master.shape"
   ]
  },
  {
   "cell_type": "code",
   "execution_count": 81,
   "metadata": {},
   "outputs": [
    {
     "data": {
      "text/plain": [
       "tweet_id                   0\n",
       "timestamp                  0\n",
       "source                     0\n",
       "text                       0\n",
       "expanded_urls              3\n",
       "rating_numerator           0\n",
       "rating_denominator         0\n",
       "name                       0\n",
       "dog_stages                 0\n",
       "favorites                  0\n",
       "retweets                   0\n",
       "prediction_num           429\n",
       "breed_name               429\n",
       "is_dog                   429\n",
       "prediction_confidence    429\n",
       "dtype: int64"
      ]
     },
     "execution_count": 81,
     "metadata": {},
     "output_type": "execute_result"
    }
   ],
   "source": [
    "twitter_archive_master.isnull().sum()"
   ]
  },
  {
   "cell_type": "markdown",
   "metadata": {},
   "source": [
    "## Storing Data\n",
    "Save gathered, assessed, and cleaned master dataset to a CSV file named \"twitter_archive_master.csv\"."
   ]
  },
  {
   "cell_type": "code",
   "execution_count": 82,
   "metadata": {},
   "outputs": [],
   "source": [
    "# save the final merged dataset to csv\n",
    "twitter_archive_master.to_csv('data/twitter_archive_master.csv')"
   ]
  },
  {
   "cell_type": "markdown",
   "metadata": {},
   "source": [
    "## Analyzing and Visualizing Data\n",
    "In this section, analyze and visualize your wrangled data. You must produce at least **three (3) insights and one (1) visualization.**\n"
   ]
  },
  {
   "cell_type": "code",
   "execution_count": 83,
   "metadata": {},
   "outputs": [
    {
     "data": {
      "text/html": [
       "<div>\n",
       "<style scoped>\n",
       "    .dataframe tbody tr th:only-of-type {\n",
       "        vertical-align: middle;\n",
       "    }\n",
       "\n",
       "    .dataframe tbody tr th {\n",
       "        vertical-align: top;\n",
       "    }\n",
       "\n",
       "    .dataframe thead th {\n",
       "        text-align: right;\n",
       "    }\n",
       "</style>\n",
       "<table border=\"1\" class=\"dataframe\">\n",
       "  <thead>\n",
       "    <tr style=\"text-align: right;\">\n",
       "      <th></th>\n",
       "      <th>tweet_id</th>\n",
       "      <th>rating_numerator</th>\n",
       "      <th>rating_denominator</th>\n",
       "      <th>favorites</th>\n",
       "      <th>retweets</th>\n",
       "      <th>prediction_num</th>\n",
       "      <th>prediction_confidence</th>\n",
       "    </tr>\n",
       "  </thead>\n",
       "  <tbody>\n",
       "    <tr>\n",
       "      <th>count</th>\n",
       "      <td>4.721000e+03</td>\n",
       "      <td>4721.000000</td>\n",
       "      <td>4721.0</td>\n",
       "      <td>4721.000000</td>\n",
       "      <td>4721.000000</td>\n",
       "      <td>4292.000000</td>\n",
       "      <td>4292.000000</td>\n",
       "    </tr>\n",
       "    <tr>\n",
       "      <th>mean</th>\n",
       "      <td>7.388224e+17</td>\n",
       "      <td>11.789875</td>\n",
       "      <td>10.0</td>\n",
       "      <td>9100.000212</td>\n",
       "      <td>2800.482737</td>\n",
       "      <td>1.993010</td>\n",
       "      <td>0.272993</td>\n",
       "    </tr>\n",
       "    <tr>\n",
       "      <th>std</th>\n",
       "      <td>6.785220e+16</td>\n",
       "      <td>27.416474</td>\n",
       "      <td>0.0</td>\n",
       "      <td>12416.908822</td>\n",
       "      <td>4702.447511</td>\n",
       "      <td>0.813512</td>\n",
       "      <td>0.294563</td>\n",
       "    </tr>\n",
       "    <tr>\n",
       "      <th>min</th>\n",
       "      <td>6.660209e+17</td>\n",
       "      <td>0.000000</td>\n",
       "      <td>10.0</td>\n",
       "      <td>81.000000</td>\n",
       "      <td>16.000000</td>\n",
       "      <td>1.000000</td>\n",
       "      <td>0.000001</td>\n",
       "    </tr>\n",
       "    <tr>\n",
       "      <th>25%</th>\n",
       "      <td>6.773010e+17</td>\n",
       "      <td>10.000000</td>\n",
       "      <td>10.0</td>\n",
       "      <td>2098.000000</td>\n",
       "      <td>637.000000</td>\n",
       "      <td>1.000000</td>\n",
       "      <td>0.052549</td>\n",
       "    </tr>\n",
       "    <tr>\n",
       "      <th>50%</th>\n",
       "      <td>7.120974e+17</td>\n",
       "      <td>11.000000</td>\n",
       "      <td>10.0</td>\n",
       "      <td>4290.000000</td>\n",
       "      <td>1415.000000</td>\n",
       "      <td>2.000000</td>\n",
       "      <td>0.146409</td>\n",
       "    </tr>\n",
       "    <tr>\n",
       "      <th>75%</th>\n",
       "      <td>7.931506e+17</td>\n",
       "      <td>12.000000</td>\n",
       "      <td>10.0</td>\n",
       "      <td>11519.000000</td>\n",
       "      <td>3249.000000</td>\n",
       "      <td>3.000000</td>\n",
       "      <td>0.406408</td>\n",
       "    </tr>\n",
       "    <tr>\n",
       "      <th>max</th>\n",
       "      <td>8.924206e+17</td>\n",
       "      <td>1776.000000</td>\n",
       "      <td>10.0</td>\n",
       "      <td>132810.000000</td>\n",
       "      <td>79515.000000</td>\n",
       "      <td>3.000000</td>\n",
       "      <td>0.999956</td>\n",
       "    </tr>\n",
       "  </tbody>\n",
       "</table>\n",
       "</div>"
      ],
      "text/plain": [
       "           tweet_id  rating_numerator  rating_denominator      favorites  \\\n",
       "count  4.721000e+03       4721.000000              4721.0    4721.000000   \n",
       "mean   7.388224e+17         11.789875                10.0    9100.000212   \n",
       "std    6.785220e+16         27.416474                 0.0   12416.908822   \n",
       "min    6.660209e+17          0.000000                10.0      81.000000   \n",
       "25%    6.773010e+17         10.000000                10.0    2098.000000   \n",
       "50%    7.120974e+17         11.000000                10.0    4290.000000   \n",
       "75%    7.931506e+17         12.000000                10.0   11519.000000   \n",
       "max    8.924206e+17       1776.000000                10.0  132810.000000   \n",
       "\n",
       "           retweets  prediction_num  prediction_confidence  \n",
       "count   4721.000000     4292.000000            4292.000000  \n",
       "mean    2800.482737        1.993010               0.272993  \n",
       "std     4702.447511        0.813512               0.294563  \n",
       "min       16.000000        1.000000               0.000001  \n",
       "25%      637.000000        1.000000               0.052549  \n",
       "50%     1415.000000        2.000000               0.146409  \n",
       "75%     3249.000000        3.000000               0.406408  \n",
       "max    79515.000000        3.000000               0.999956  "
      ]
     },
     "execution_count": 83,
     "metadata": {},
     "output_type": "execute_result"
    }
   ],
   "source": [
    "#using summary statistics to detect the mean, min and max values of the entire dataset\n",
    "twitter_archive_master.describe()"
   ]
  },
  {
   "cell_type": "markdown",
   "metadata": {},
   "source": [
    "### Q 1: Which dogs are the most rated? What dog types are they? "
   ]
  },
  {
   "cell_type": "markdown",
   "metadata": {},
   "source": [
    "__Let us first filter tweets by their first image prediction confidence level and plot the distribution of the 100 highest most rated__"
   ]
  },
  {
   "cell_type": "code",
   "execution_count": 84,
   "metadata": {},
   "outputs": [
    {
     "data": {
      "text/plain": [
       "(1435, 15)"
      ]
     },
     "execution_count": 84,
     "metadata": {},
     "output_type": "execute_result"
    }
   ],
   "source": [
    "#filter tweets by their first image predition confidence level.\n",
    "twitter_archive_master = twitter_archive_master.query('prediction_num == 1')\n",
    "twitter_archive_master.shape"
   ]
  },
  {
   "cell_type": "markdown",
   "metadata": {},
   "source": [
    "   ### Filter tweets by the top 20 highest dog ratings"
   ]
  },
  {
   "cell_type": "code",
   "execution_count": 85,
   "metadata": {},
   "outputs": [
    {
     "data": {
      "text/html": [
       "<div>\n",
       "<style scoped>\n",
       "    .dataframe tbody tr th:only-of-type {\n",
       "        vertical-align: middle;\n",
       "    }\n",
       "\n",
       "    .dataframe tbody tr th {\n",
       "        vertical-align: top;\n",
       "    }\n",
       "\n",
       "    .dataframe thead th {\n",
       "        text-align: right;\n",
       "    }\n",
       "</style>\n",
       "<table border=\"1\" class=\"dataframe\">\n",
       "  <thead>\n",
       "    <tr style=\"text-align: right;\">\n",
       "      <th></th>\n",
       "      <th>tweet_id</th>\n",
       "      <th>rating_numerator</th>\n",
       "      <th>rating_denominator</th>\n",
       "      <th>favorites</th>\n",
       "      <th>retweets</th>\n",
       "      <th>prediction_num</th>\n",
       "      <th>prediction_confidence</th>\n",
       "    </tr>\n",
       "  </thead>\n",
       "  <tbody>\n",
       "    <tr>\n",
       "      <th>count</th>\n",
       "      <td>2.000000e+01</td>\n",
       "      <td>20.000000</td>\n",
       "      <td>20.0</td>\n",
       "      <td>20.000000</td>\n",
       "      <td>20.000000</td>\n",
       "      <td>20.0</td>\n",
       "      <td>20.000000</td>\n",
       "    </tr>\n",
       "    <tr>\n",
       "      <th>mean</th>\n",
       "      <td>7.745921e+17</td>\n",
       "      <td>53.600000</td>\n",
       "      <td>10.0</td>\n",
       "      <td>14758.650000</td>\n",
       "      <td>3894.300000</td>\n",
       "      <td>1.0</td>\n",
       "      <td>0.696202</td>\n",
       "    </tr>\n",
       "    <tr>\n",
       "      <th>std</th>\n",
       "      <td>7.866431e+16</td>\n",
       "      <td>42.457905</td>\n",
       "      <td>0.0</td>\n",
       "      <td>15563.531957</td>\n",
       "      <td>4094.525036</td>\n",
       "      <td>0.0</td>\n",
       "      <td>0.242332</td>\n",
       "    </tr>\n",
       "    <tr>\n",
       "      <th>min</th>\n",
       "      <td>6.758531e+17</td>\n",
       "      <td>14.000000</td>\n",
       "      <td>10.0</td>\n",
       "      <td>1879.000000</td>\n",
       "      <td>247.000000</td>\n",
       "      <td>1.0</td>\n",
       "      <td>0.281463</td>\n",
       "    </tr>\n",
       "    <tr>\n",
       "      <th>25%</th>\n",
       "      <td>7.079125e+17</td>\n",
       "      <td>14.000000</td>\n",
       "      <td>10.0</td>\n",
       "      <td>3028.250000</td>\n",
       "      <td>978.250000</td>\n",
       "      <td>1.0</td>\n",
       "      <td>0.460147</td>\n",
       "    </tr>\n",
       "    <tr>\n",
       "      <th>50%</th>\n",
       "      <td>7.682471e+17</td>\n",
       "      <td>44.500000</td>\n",
       "      <td>10.0</td>\n",
       "      <td>5621.500000</td>\n",
       "      <td>1770.000000</td>\n",
       "      <td>1.0</td>\n",
       "      <td>0.815139</td>\n",
       "    </tr>\n",
       "    <tr>\n",
       "      <th>75%</th>\n",
       "      <td>8.546608e+17</td>\n",
       "      <td>81.000000</td>\n",
       "      <td>10.0</td>\n",
       "      <td>27880.000000</td>\n",
       "      <td>6898.000000</td>\n",
       "      <td>1.0</td>\n",
       "      <td>0.873184</td>\n",
       "    </tr>\n",
       "    <tr>\n",
       "      <th>max</th>\n",
       "      <td>8.902403e+17</td>\n",
       "      <td>165.000000</td>\n",
       "      <td>10.0</td>\n",
       "      <td>50199.000000</td>\n",
       "      <td>16570.000000</td>\n",
       "      <td>1.0</td>\n",
       "      <td>0.999885</td>\n",
       "    </tr>\n",
       "  </tbody>\n",
       "</table>\n",
       "</div>"
      ],
      "text/plain": [
       "           tweet_id  rating_numerator  rating_denominator     favorites  \\\n",
       "count  2.000000e+01         20.000000                20.0     20.000000   \n",
       "mean   7.745921e+17         53.600000                10.0  14758.650000   \n",
       "std    7.866431e+16         42.457905                 0.0  15563.531957   \n",
       "min    6.758531e+17         14.000000                10.0   1879.000000   \n",
       "25%    7.079125e+17         14.000000                10.0   3028.250000   \n",
       "50%    7.682471e+17         44.500000                10.0   5621.500000   \n",
       "75%    8.546608e+17         81.000000                10.0  27880.000000   \n",
       "max    8.902403e+17        165.000000                10.0  50199.000000   \n",
       "\n",
       "           retweets  prediction_num  prediction_confidence  \n",
       "count     20.000000            20.0              20.000000  \n",
       "mean    3894.300000             1.0               0.696202  \n",
       "std     4094.525036             0.0               0.242332  \n",
       "min      247.000000             1.0               0.281463  \n",
       "25%      978.250000             1.0               0.460147  \n",
       "50%     1770.000000             1.0               0.815139  \n",
       "75%     6898.000000             1.0               0.873184  \n",
       "max    16570.000000             1.0               0.999885  "
      ]
     },
     "execution_count": 85,
     "metadata": {},
     "output_type": "execute_result"
    }
   ],
   "source": [
    "#20 highest rated by rating denominator\n",
    "highest_rated = twitter_archive_master.nlargest(20,['rating_numerator'])\n",
    "highest_rated.describe()"
   ]
  },
  {
   "cell_type": "code",
   "execution_count": 86,
   "metadata": {},
   "outputs": [
    {
     "data": {
      "text/html": [
       "<div>\n",
       "<style scoped>\n",
       "    .dataframe tbody tr th:only-of-type {\n",
       "        vertical-align: middle;\n",
       "    }\n",
       "\n",
       "    .dataframe tbody tr th {\n",
       "        vertical-align: top;\n",
       "    }\n",
       "\n",
       "    .dataframe thead th {\n",
       "        text-align: right;\n",
       "    }\n",
       "</style>\n",
       "<table border=\"1\" class=\"dataframe\">\n",
       "  <thead>\n",
       "    <tr style=\"text-align: right;\">\n",
       "      <th></th>\n",
       "      <th>tweet_id</th>\n",
       "      <th>rating_numerator</th>\n",
       "      <th>rating_denominator</th>\n",
       "      <th>favorites</th>\n",
       "      <th>retweets</th>\n",
       "      <th>prediction_num</th>\n",
       "      <th>prediction_confidence</th>\n",
       "    </tr>\n",
       "  </thead>\n",
       "  <tbody>\n",
       "    <tr>\n",
       "      <th>count</th>\n",
       "      <td>1.000000e+02</td>\n",
       "      <td>100.000000</td>\n",
       "      <td>100.0</td>\n",
       "      <td>100.000000</td>\n",
       "      <td>100.000000</td>\n",
       "      <td>100.0</td>\n",
       "      <td>100.000000</td>\n",
       "    </tr>\n",
       "    <tr>\n",
       "      <th>mean</th>\n",
       "      <td>8.488950e+17</td>\n",
       "      <td>21.250000</td>\n",
       "      <td>10.0</td>\n",
       "      <td>28046.290000</td>\n",
       "      <td>7336.770000</td>\n",
       "      <td>1.0</td>\n",
       "      <td>0.679244</td>\n",
       "    </tr>\n",
       "    <tr>\n",
       "      <th>std</th>\n",
       "      <td>5.572844e+16</td>\n",
       "      <td>24.705283</td>\n",
       "      <td>0.0</td>\n",
       "      <td>20685.342032</td>\n",
       "      <td>7716.736722</td>\n",
       "      <td>0.0</td>\n",
       "      <td>0.237303</td>\n",
       "    </tr>\n",
       "    <tr>\n",
       "      <th>min</th>\n",
       "      <td>6.758531e+17</td>\n",
       "      <td>13.000000</td>\n",
       "      <td>10.0</td>\n",
       "      <td>1879.000000</td>\n",
       "      <td>247.000000</td>\n",
       "      <td>1.0</td>\n",
       "      <td>0.134081</td>\n",
       "    </tr>\n",
       "    <tr>\n",
       "      <th>25%</th>\n",
       "      <td>8.310962e+17</td>\n",
       "      <td>13.000000</td>\n",
       "      <td>10.0</td>\n",
       "      <td>15108.500000</td>\n",
       "      <td>3397.500000</td>\n",
       "      <td>1.0</td>\n",
       "      <td>0.469150</td>\n",
       "    </tr>\n",
       "    <tr>\n",
       "      <th>50%</th>\n",
       "      <td>8.714562e+17</td>\n",
       "      <td>13.000000</td>\n",
       "      <td>10.0</td>\n",
       "      <td>25712.500000</td>\n",
       "      <td>5128.000000</td>\n",
       "      <td>1.0</td>\n",
       "      <td>0.704762</td>\n",
       "    </tr>\n",
       "    <tr>\n",
       "      <th>75%</th>\n",
       "      <td>8.831785e+17</td>\n",
       "      <td>14.000000</td>\n",
       "      <td>10.0</td>\n",
       "      <td>33988.750000</td>\n",
       "      <td>7730.250000</td>\n",
       "      <td>1.0</td>\n",
       "      <td>0.873566</td>\n",
       "    </tr>\n",
       "    <tr>\n",
       "      <th>max</th>\n",
       "      <td>8.921774e+17</td>\n",
       "      <td>165.000000</td>\n",
       "      <td>10.0</td>\n",
       "      <td>107956.000000</td>\n",
       "      <td>45849.000000</td>\n",
       "      <td>1.0</td>\n",
       "      <td>0.999885</td>\n",
       "    </tr>\n",
       "  </tbody>\n",
       "</table>\n",
       "</div>"
      ],
      "text/plain": [
       "           tweet_id  rating_numerator  rating_denominator      favorites  \\\n",
       "count  1.000000e+02        100.000000               100.0     100.000000   \n",
       "mean   8.488950e+17         21.250000                10.0   28046.290000   \n",
       "std    5.572844e+16         24.705283                 0.0   20685.342032   \n",
       "min    6.758531e+17         13.000000                10.0    1879.000000   \n",
       "25%    8.310962e+17         13.000000                10.0   15108.500000   \n",
       "50%    8.714562e+17         13.000000                10.0   25712.500000   \n",
       "75%    8.831785e+17         14.000000                10.0   33988.750000   \n",
       "max    8.921774e+17        165.000000                10.0  107956.000000   \n",
       "\n",
       "           retweets  prediction_num  prediction_confidence  \n",
       "count    100.000000           100.0             100.000000  \n",
       "mean    7336.770000             1.0               0.679244  \n",
       "std     7716.736722             0.0               0.237303  \n",
       "min      247.000000             1.0               0.134081  \n",
       "25%     3397.500000             1.0               0.469150  \n",
       "50%     5128.000000             1.0               0.704762  \n",
       "75%     7730.250000             1.0               0.873566  \n",
       "max    45849.000000             1.0               0.999885  "
      ]
     },
     "execution_count": 86,
     "metadata": {},
     "output_type": "execute_result"
    }
   ],
   "source": [
    "#100 highest rated by rating denominator\n",
    "highest_rated100 = twitter_archive_master.nlargest(100,['rating_numerator'])\n",
    "highest_rated100.describe()"
   ]
  },
  {
   "cell_type": "code",
   "execution_count": 87,
   "metadata": {},
   "outputs": [
    {
     "data": {
      "image/png": "[encoded data removed]",
      "text/plain": [
       "<Figure size 1296x720 with 1 Axes>"
      ]
     },
     "metadata": {
      "needs_background": "light"
     },
     "output_type": "display_data"
    }
   ],
   "source": [
    "#the distribution of the ratings of the most liked dogs\n",
    "plt.figure(figsize=[18, 10])\n",
    "plt.hist(highest_rated100.rating_numerator, color='blue', bins = 25)\n",
    "plt.title('The Distribution of Dog Ratings out of 10')\n",
    "plt.xlabel('Rating')\n",
    "plt.ylabel('Count')\n",
    "plt.xticks(np.arange(0,165, step=5))\n",
    "#plt.yticks(np.arange(0,, step=1))\n",
    "plt.show();"
   ]
  },
  {
   "cell_type": "markdown",
   "metadata": {},
   "source": [
    "   __I have used matplotlib's hist function to plot the rating_numerator(for dog ratings out of 10) of top 100 most liked dogs since the rating is discrete.__\n",
    "  - The data is highly skewed to the right with a high frequency of rating of 13. \n",
    "  - There is also a spike of dogs with rating 14. \n"
   ]
  },
  {
   "cell_type": "code",
   "execution_count": 88,
   "metadata": {},
   "outputs": [
    {
     "data": {
      "text/html": [
       "<div>\n",
       "<style scoped>\n",
       "    .dataframe tbody tr th:only-of-type {\n",
       "        vertical-align: middle;\n",
       "    }\n",
       "\n",
       "    .dataframe tbody tr th {\n",
       "        vertical-align: top;\n",
       "    }\n",
       "\n",
       "    .dataframe thead th {\n",
       "        text-align: right;\n",
       "    }\n",
       "</style>\n",
       "<table border=\"1\" class=\"dataframe\">\n",
       "  <thead>\n",
       "    <tr style=\"text-align: right;\">\n",
       "      <th></th>\n",
       "      <th>name</th>\n",
       "      <th>rating_numerator</th>\n",
       "      <th>favorites</th>\n",
       "      <th>retweets</th>\n",
       "      <th>breed_name</th>\n",
       "      <th>text</th>\n",
       "      <th>dog_stages</th>\n",
       "    </tr>\n",
       "  </thead>\n",
       "  <tbody>\n",
       "    <tr>\n",
       "      <th>1663</th>\n",
       "      <td>a</td>\n",
       "      <td>165</td>\n",
       "      <td>5316</td>\n",
       "      <td>2539</td>\n",
       "      <td>Labrador_retriever</td>\n",
       "      <td>Why does this never happen at my front door......</td>\n",
       "      <td></td>\n",
       "    </tr>\n",
       "    <tr>\n",
       "      <th>3193</th>\n",
       "      <td>a</td>\n",
       "      <td>121</td>\n",
       "      <td>4225</td>\n",
       "      <td>1563</td>\n",
       "      <td>soft-coated_wheaten_terrier</td>\n",
       "      <td>Someone help the girl is being mugged. Several...</td>\n",
       "      <td>pupper</td>\n",
       "    </tr>\n",
       "    <tr>\n",
       "      <th>2337</th>\n",
       "      <td>a</td>\n",
       "      <td>99</td>\n",
       "      <td>3062</td>\n",
       "      <td>829</td>\n",
       "      <td>golden_retriever</td>\n",
       "      <td>Happy Saturday here's 9 puppers on a bench. 99...</td>\n",
       "      <td>pupper</td>\n",
       "    </tr>\n",
       "    <tr>\n",
       "      <th>3635</th>\n",
       "      <td>a</td>\n",
       "      <td>88</td>\n",
       "      <td>2927</td>\n",
       "      <td>1460</td>\n",
       "      <td>Labrador_retriever</td>\n",
       "      <td>Here we have an entire platoon of puppers. Tot...</td>\n",
       "      <td>pupper</td>\n",
       "    </tr>\n",
       "    <tr>\n",
       "      <th>795</th>\n",
       "      <td>a</td>\n",
       "      <td>84</td>\n",
       "      <td>13518</td>\n",
       "      <td>3716</td>\n",
       "      <td>West_Highland_white_terrier</td>\n",
       "      <td>The floofs have been released I repeat the flo...</td>\n",
       "      <td>floofer</td>\n",
       "    </tr>\n",
       "    <tr>\n",
       "      <th>2390</th>\n",
       "      <td>a</td>\n",
       "      <td>80</td>\n",
       "      <td>2529</td>\n",
       "      <td>636</td>\n",
       "      <td>soft-coated_wheaten_terrier</td>\n",
       "      <td>Here's a brigade of puppers. All look very pre...</td>\n",
       "      <td>pupper</td>\n",
       "    </tr>\n",
       "    <tr>\n",
       "      <th>1263</th>\n",
       "      <td>Logan</td>\n",
       "      <td>75</td>\n",
       "      <td>20296</td>\n",
       "      <td>7069</td>\n",
       "      <td>Pomeranian</td>\n",
       "      <td>This is Logan, the Chow who lived. He solemnly...</td>\n",
       "      <td></td>\n",
       "    </tr>\n",
       "    <tr>\n",
       "      <th>2603</th>\n",
       "      <td>a</td>\n",
       "      <td>60</td>\n",
       "      <td>3201</td>\n",
       "      <td>1028</td>\n",
       "      <td>Great_Pyrenees</td>\n",
       "      <td>Here is a whole flock of puppers.  60/50 I'll ...</td>\n",
       "      <td>pupper</td>\n",
       "    </tr>\n",
       "    <tr>\n",
       "      <th>2277</th>\n",
       "      <td>Bluebert</td>\n",
       "      <td>50</td>\n",
       "      <td>2574</td>\n",
       "      <td>247</td>\n",
       "      <td>Siberian_husky</td>\n",
       "      <td>This is Bluebert. He just saw that both #Final...</td>\n",
       "      <td></td>\n",
       "    </tr>\n",
       "    <tr>\n",
       "      <th>2441</th>\n",
       "      <td>a</td>\n",
       "      <td>45</td>\n",
       "      <td>2634</td>\n",
       "      <td>721</td>\n",
       "      <td>borzoi</td>\n",
       "      <td>From left to right:\\nCletus, Jerome, Alejandro...</td>\n",
       "      <td></td>\n",
       "    </tr>\n",
       "    <tr>\n",
       "      <th>2792</th>\n",
       "      <td>a</td>\n",
       "      <td>44</td>\n",
       "      <td>3748</td>\n",
       "      <td>1552</td>\n",
       "      <td>Labrador_retriever</td>\n",
       "      <td>Happy Wednesday here's a bucket of pups. 44/40...</td>\n",
       "      <td>puppo</td>\n",
       "    </tr>\n",
       "    <tr>\n",
       "      <th>1396</th>\n",
       "      <td>Sophie</td>\n",
       "      <td>27</td>\n",
       "      <td>7320</td>\n",
       "      <td>1885</td>\n",
       "      <td>clumber</td>\n",
       "      <td>This is Sophie. She's a Jubilant Bush Pupper. ...</td>\n",
       "      <td>puppo</td>\n",
       "    </tr>\n",
       "    <tr>\n",
       "      <th>3360</th>\n",
       "      <td>a</td>\n",
       "      <td>26</td>\n",
       "      <td>1879</td>\n",
       "      <td>542</td>\n",
       "      <td>kuvasz</td>\n",
       "      <td>Here we have uncovered an entire battalion of ...</td>\n",
       "      <td>pupper</td>\n",
       "    </tr>\n",
       "    <tr>\n",
       "      <th>959</th>\n",
       "      <td>Sam</td>\n",
       "      <td>24</td>\n",
       "      <td>5927</td>\n",
       "      <td>1655</td>\n",
       "      <td>golden_retriever</td>\n",
       "      <td>Meet Sam. She smiles 24/7 &amp;amp; secretly aspir...</td>\n",
       "      <td></td>\n",
       "    </tr>\n",
       "    <tr>\n",
       "      <th>21</th>\n",
       "      <td>Cassie</td>\n",
       "      <td>14</td>\n",
       "      <td>32467</td>\n",
       "      <td>7711</td>\n",
       "      <td>Pembroke</td>\n",
       "      <td>This is Cassie. She is a college pup. Studying...</td>\n",
       "      <td>puppo</td>\n",
       "    </tr>\n",
       "    <tr>\n",
       "      <th>91</th>\n",
       "      <td>a</td>\n",
       "      <td>14</td>\n",
       "      <td>27478</td>\n",
       "      <td>5856</td>\n",
       "      <td>Pembroke</td>\n",
       "      <td>I present to you, Pup in Hat. Pup in Hat is gr...</td>\n",
       "      <td>puppo</td>\n",
       "    </tr>\n",
       "    <tr>\n",
       "      <th>127</th>\n",
       "      <td>a</td>\n",
       "      <td>14</td>\n",
       "      <td>50199</td>\n",
       "      <td>16570</td>\n",
       "      <td>Samoyed</td>\n",
       "      <td>Here is a pupper approaching maximum borkdrive...</td>\n",
       "      <td>pupper</td>\n",
       "    </tr>\n",
       "    <tr>\n",
       "      <th>159</th>\n",
       "      <td>Emmy</td>\n",
       "      <td>14</td>\n",
       "      <td>42876</td>\n",
       "      <td>7181</td>\n",
       "      <td>French_bulldog</td>\n",
       "      <td>This is Emmy. She was adopted today. Massive r...</td>\n",
       "      <td>puppo</td>\n",
       "    </tr>\n",
       "    <tr>\n",
       "      <th>364</th>\n",
       "      <td>Cermet</td>\n",
       "      <td>14</td>\n",
       "      <td>29086</td>\n",
       "      <td>6841</td>\n",
       "      <td>Chihuahua</td>\n",
       "      <td>This is Cermet, Paesh, and Morple. They are ab...</td>\n",
       "      <td></td>\n",
       "    </tr>\n",
       "    <tr>\n",
       "      <th>384</th>\n",
       "      <td>a</td>\n",
       "      <td>14</td>\n",
       "      <td>33911</td>\n",
       "      <td>8285</td>\n",
       "      <td>black_and_tan_coonhound</td>\n",
       "      <td>Sometimes you guys remind me just how impactfu...</td>\n",
       "      <td>pupper</td>\n",
       "    </tr>\n",
       "  </tbody>\n",
       "</table>\n",
       "</div>"
      ],
      "text/plain": [
       "          name  rating_numerator  favorites  retweets  \\\n",
       "1663         a               165       5316      2539   \n",
       "3193         a               121       4225      1563   \n",
       "2337         a                99       3062       829   \n",
       "3635         a                88       2927      1460   \n",
       "795          a                84      13518      3716   \n",
       "2390         a                80       2529       636   \n",
       "1263     Logan                75      20296      7069   \n",
       "2603         a                60       3201      1028   \n",
       "2277  Bluebert                50       2574       247   \n",
       "2441         a                45       2634       721   \n",
       "2792         a                44       3748      1552   \n",
       "1396    Sophie                27       7320      1885   \n",
       "3360         a                26       1879       542   \n",
       "959        Sam                24       5927      1655   \n",
       "21      Cassie                14      32467      7711   \n",
       "91           a                14      27478      5856   \n",
       "127          a                14      50199     16570   \n",
       "159       Emmy                14      42876      7181   \n",
       "364     Cermet                14      29086      6841   \n",
       "384          a                14      33911      8285   \n",
       "\n",
       "                       breed_name  \\\n",
       "1663           Labrador_retriever   \n",
       "3193  soft-coated_wheaten_terrier   \n",
       "2337             golden_retriever   \n",
       "3635           Labrador_retriever   \n",
       "795   West_Highland_white_terrier   \n",
       "2390  soft-coated_wheaten_terrier   \n",
       "1263                   Pomeranian   \n",
       "2603               Great_Pyrenees   \n",
       "2277               Siberian_husky   \n",
       "2441                       borzoi   \n",
       "2792           Labrador_retriever   \n",
       "1396                      clumber   \n",
       "3360                       kuvasz   \n",
       "959              golden_retriever   \n",
       "21                       Pembroke   \n",
       "91                       Pembroke   \n",
       "127                       Samoyed   \n",
       "159                French_bulldog   \n",
       "364                     Chihuahua   \n",
       "384       black_and_tan_coonhound   \n",
       "\n",
       "                                                   text dog_stages  \n",
       "1663  Why does this never happen at my front door......             \n",
       "3193  Someone help the girl is being mugged. Several...     pupper  \n",
       "2337  Happy Saturday here's 9 puppers on a bench. 99...     pupper  \n",
       "3635  Here we have an entire platoon of puppers. Tot...     pupper  \n",
       "795   The floofs have been released I repeat the flo...    floofer  \n",
       "2390  Here's a brigade of puppers. All look very pre...     pupper  \n",
       "1263  This is Logan, the Chow who lived. He solemnly...             \n",
       "2603  Here is a whole flock of puppers.  60/50 I'll ...     pupper  \n",
       "2277  This is Bluebert. He just saw that both #Final...             \n",
       "2441  From left to right:\\nCletus, Jerome, Alejandro...             \n",
       "2792  Happy Wednesday here's a bucket of pups. 44/40...      puppo  \n",
       "1396  This is Sophie. She's a Jubilant Bush Pupper. ...      puppo  \n",
       "3360  Here we have uncovered an entire battalion of ...     pupper  \n",
       "959   Meet Sam. She smiles 24/7 &amp; secretly aspir...             \n",
       "21    This is Cassie. She is a college pup. Studying...      puppo  \n",
       "91    I present to you, Pup in Hat. Pup in Hat is gr...      puppo  \n",
       "127   Here is a pupper approaching maximum borkdrive...     pupper  \n",
       "159   This is Emmy. She was adopted today. Massive r...      puppo  \n",
       "364   This is Cermet, Paesh, and Morple. They are ab...             \n",
       "384   Sometimes you guys remind me just how impactfu...     pupper  "
      ]
     },
     "execution_count": 88,
     "metadata": {},
     "output_type": "execute_result"
    }
   ],
   "source": [
    "#highest rated by rating numerator\n",
    "highest_rated.filter(['name','rating_numerator','favorites', 'retweets', 'breed_name','text', 'dog_stages'])\n"
   ]
  },
  {
   "cell_type": "markdown",
   "metadata": {},
   "source": [
    "###### From the above query we see that an unnamed dog(s) of type Labrador_retriever is the highest rated with a rating of 165/10"
   ]
  },
  {
   "cell_type": "markdown",
   "metadata": {},
   "source": [
    "##### From the above query we see that Logan, a dog of type Pomeranian is the higest rated with a rating of 75/10"
   ]
  },
  {
   "cell_type": "markdown",
   "metadata": {},
   "source": [
    "### Q 2: Are the most rated dogs also the most popular/most liked?"
   ]
  },
  {
   "cell_type": "markdown",
   "metadata": {},
   "source": [
    "   #### Compare dog ratings and favourites of the 100 most liked dogs."
   ]
  },
  {
   "cell_type": "code",
   "execution_count": 89,
   "metadata": {},
   "outputs": [
    {
     "data": {
      "text/html": [
       "<div>\n",
       "<style scoped>\n",
       "    .dataframe tbody tr th:only-of-type {\n",
       "        vertical-align: middle;\n",
       "    }\n",
       "\n",
       "    .dataframe tbody tr th {\n",
       "        vertical-align: top;\n",
       "    }\n",
       "\n",
       "    .dataframe thead th {\n",
       "        text-align: right;\n",
       "    }\n",
       "</style>\n",
       "<table border=\"1\" class=\"dataframe\">\n",
       "  <thead>\n",
       "    <tr style=\"text-align: right;\">\n",
       "      <th></th>\n",
       "      <th>tweet_id</th>\n",
       "      <th>rating_numerator</th>\n",
       "      <th>rating_denominator</th>\n",
       "      <th>favorites</th>\n",
       "      <th>retweets</th>\n",
       "      <th>prediction_num</th>\n",
       "      <th>prediction_confidence</th>\n",
       "    </tr>\n",
       "  </thead>\n",
       "  <tbody>\n",
       "    <tr>\n",
       "      <th>count</th>\n",
       "      <td>1.000000e+02</td>\n",
       "      <td>100.000000</td>\n",
       "      <td>100.0</td>\n",
       "      <td>100.000000</td>\n",
       "      <td>100.000000</td>\n",
       "      <td>100.0</td>\n",
       "      <td>100.000000</td>\n",
       "    </tr>\n",
       "    <tr>\n",
       "      <th>mean</th>\n",
       "      <td>8.463701e+17</td>\n",
       "      <td>12.660000</td>\n",
       "      <td>10.0</td>\n",
       "      <td>43407.090000</td>\n",
       "      <td>13930.340000</td>\n",
       "      <td>1.0</td>\n",
       "      <td>0.682669</td>\n",
       "    </tr>\n",
       "    <tr>\n",
       "      <th>std</th>\n",
       "      <td>4.814822e+16</td>\n",
       "      <td>1.046591</td>\n",
       "      <td>0.0</td>\n",
       "      <td>21824.943421</td>\n",
       "      <td>12120.894694</td>\n",
       "      <td>0.0</td>\n",
       "      <td>0.250516</td>\n",
       "    </tr>\n",
       "    <tr>\n",
       "      <th>min</th>\n",
       "      <td>6.671522e+17</td>\n",
       "      <td>5.000000</td>\n",
       "      <td>10.0</td>\n",
       "      <td>27640.000000</td>\n",
       "      <td>4429.000000</td>\n",
       "      <td>1.0</td>\n",
       "      <td>0.120298</td>\n",
       "    </tr>\n",
       "    <tr>\n",
       "      <th>25%</th>\n",
       "      <td>8.265204e+17</td>\n",
       "      <td>12.000000</td>\n",
       "      <td>10.0</td>\n",
       "      <td>30216.250000</td>\n",
       "      <td>6922.000000</td>\n",
       "      <td>1.0</td>\n",
       "      <td>0.502656</td>\n",
       "    </tr>\n",
       "    <tr>\n",
       "      <th>50%</th>\n",
       "      <td>8.631472e+17</td>\n",
       "      <td>13.000000</td>\n",
       "      <td>10.0</td>\n",
       "      <td>35132.000000</td>\n",
       "      <td>10535.000000</td>\n",
       "      <td>1.0</td>\n",
       "      <td>0.759879</td>\n",
       "    </tr>\n",
       "    <tr>\n",
       "      <th>75%</th>\n",
       "      <td>8.815687e+17</td>\n",
       "      <td>13.000000</td>\n",
       "      <td>10.0</td>\n",
       "      <td>46125.000000</td>\n",
       "      <td>16471.750000</td>\n",
       "      <td>1.0</td>\n",
       "      <td>0.916435</td>\n",
       "    </tr>\n",
       "    <tr>\n",
       "      <th>max</th>\n",
       "      <td>8.921774e+17</td>\n",
       "      <td>14.000000</td>\n",
       "      <td>10.0</td>\n",
       "      <td>132810.000000</td>\n",
       "      <td>79515.000000</td>\n",
       "      <td>1.0</td>\n",
       "      <td>0.996952</td>\n",
       "    </tr>\n",
       "  </tbody>\n",
       "</table>\n",
       "</div>"
      ],
      "text/plain": [
       "           tweet_id  rating_numerator  rating_denominator      favorites  \\\n",
       "count  1.000000e+02        100.000000               100.0     100.000000   \n",
       "mean   8.463701e+17         12.660000                10.0   43407.090000   \n",
       "std    4.814822e+16          1.046591                 0.0   21824.943421   \n",
       "min    6.671522e+17          5.000000                10.0   27640.000000   \n",
       "25%    8.265204e+17         12.000000                10.0   30216.250000   \n",
       "50%    8.631472e+17         13.000000                10.0   35132.000000   \n",
       "75%    8.815687e+17         13.000000                10.0   46125.000000   \n",
       "max    8.921774e+17         14.000000                10.0  132810.000000   \n",
       "\n",
       "           retweets  prediction_num  prediction_confidence  \n",
       "count    100.000000           100.0             100.000000  \n",
       "mean   13930.340000             1.0               0.682669  \n",
       "std    12120.894694             0.0               0.250516  \n",
       "min     4429.000000             1.0               0.120298  \n",
       "25%     6922.000000             1.0               0.502656  \n",
       "50%    10535.000000             1.0               0.759879  \n",
       "75%    16471.750000             1.0               0.916435  \n",
       "max    79515.000000             1.0               0.996952  "
      ]
     },
     "execution_count": 89,
     "metadata": {},
     "output_type": "execute_result"
    }
   ],
   "source": [
    "#highest liked by tweet favorites\n",
    "highest_liked = twitter_archive_master.nlargest(100,['favorites','retweets'])\n",
    "highest_liked.describe()"
   ]
  },
  {
   "cell_type": "code",
   "execution_count": 90,
   "metadata": {},
   "outputs": [
    {
     "data": {
      "text/html": [
       "<div>\n",
       "<style scoped>\n",
       "    .dataframe tbody tr th:only-of-type {\n",
       "        vertical-align: middle;\n",
       "    }\n",
       "\n",
       "    .dataframe tbody tr th {\n",
       "        vertical-align: top;\n",
       "    }\n",
       "\n",
       "    .dataframe thead th {\n",
       "        text-align: right;\n",
       "    }\n",
       "</style>\n",
       "<table border=\"1\" class=\"dataframe\">\n",
       "  <thead>\n",
       "    <tr style=\"text-align: right;\">\n",
       "      <th></th>\n",
       "      <th>name</th>\n",
       "      <th>rating_numerator</th>\n",
       "      <th>favorites</th>\n",
       "      <th>retweets</th>\n",
       "      <th>breed_name</th>\n",
       "      <th>text</th>\n",
       "      <th>dog_stages</th>\n",
       "    </tr>\n",
       "  </thead>\n",
       "  <tbody>\n",
       "    <tr>\n",
       "      <th>757</th>\n",
       "      <td>a</td>\n",
       "      <td>13</td>\n",
       "      <td>132810</td>\n",
       "      <td>48265</td>\n",
       "      <td>Lakeland_terrier</td>\n",
       "      <td>Here's a super supportive puppo participating ...</td>\n",
       "      <td>puppo</td>\n",
       "    </tr>\n",
       "    <tr>\n",
       "      <th>1930</th>\n",
       "      <td>a</td>\n",
       "      <td>13</td>\n",
       "      <td>131075</td>\n",
       "      <td>79515</td>\n",
       "      <td>Labrador_retriever</td>\n",
       "      <td>Here's a doggo realizing you can stand in a po...</td>\n",
       "      <td>doggo</td>\n",
       "    </tr>\n",
       "    <tr>\n",
       "      <th>143</th>\n",
       "      <td>Duddles</td>\n",
       "      <td>13</td>\n",
       "      <td>107956</td>\n",
       "      <td>45849</td>\n",
       "      <td>English_springer</td>\n",
       "      <td>This is Duddles. He did an attempt. 13/10 some...</td>\n",
       "      <td></td>\n",
       "    </tr>\n",
       "    <tr>\n",
       "      <th>1001</th>\n",
       "      <td>Stephan</td>\n",
       "      <td>13</td>\n",
       "      <td>107015</td>\n",
       "      <td>56625</td>\n",
       "      <td>Chihuahua</td>\n",
       "      <td>This is Stephan. He just wants to help. 13/10 ...</td>\n",
       "      <td></td>\n",
       "    </tr>\n",
       "    <tr>\n",
       "      <th>273</th>\n",
       "      <td>Jamesy</td>\n",
       "      <td>13</td>\n",
       "      <td>106827</td>\n",
       "      <td>32883</td>\n",
       "      <td>French_bulldog</td>\n",
       "      <td>This is Jamesy. He gives a kiss to every other...</td>\n",
       "      <td>pupper</td>\n",
       "    </tr>\n",
       "    <tr>\n",
       "      <th>818</th>\n",
       "      <td>Bo</td>\n",
       "      <td>14</td>\n",
       "      <td>95450</td>\n",
       "      <td>42228</td>\n",
       "      <td>standard_poodle</td>\n",
       "      <td>This is Bo. He was a very good First Doggo. 14...</td>\n",
       "      <td>doggo</td>\n",
       "    </tr>\n",
       "    <tr>\n",
       "      <th>238</th>\n",
       "      <td>Zoey</td>\n",
       "      <td>13</td>\n",
       "      <td>85011</td>\n",
       "      <td>27680</td>\n",
       "      <td>golden_retriever</td>\n",
       "      <td>This is Zoey. She really likes the planet. Wou...</td>\n",
       "      <td></td>\n",
       "    </tr>\n",
       "    <tr>\n",
       "      <th>2009</th>\n",
       "      <td>a</td>\n",
       "      <td>13</td>\n",
       "      <td>75163</td>\n",
       "      <td>52360</td>\n",
       "      <td>Eskimo_dog</td>\n",
       "      <td>Here's a doggo blowing bubbles. It's downright...</td>\n",
       "      <td>doggo</td>\n",
       "    </tr>\n",
       "    <tr>\n",
       "      <th>646</th>\n",
       "      <td>Lilly</td>\n",
       "      <td>13</td>\n",
       "      <td>73397</td>\n",
       "      <td>19297</td>\n",
       "      <td>Labrador_retriever</td>\n",
       "      <td>This is Lilly. She just parallel barked. Kindl...</td>\n",
       "      <td></td>\n",
       "    </tr>\n",
       "    <tr>\n",
       "      <th>162</th>\n",
       "      <td>Aja</td>\n",
       "      <td>13</td>\n",
       "      <td>71144</td>\n",
       "      <td>17300</td>\n",
       "      <td>Chesapeake_Bay_retriever</td>\n",
       "      <td>This is Aja. She was just told she's a good do...</td>\n",
       "      <td></td>\n",
       "    </tr>\n",
       "    <tr>\n",
       "      <th>57</th>\n",
       "      <td>Canela</td>\n",
       "      <td>13</td>\n",
       "      <td>69871</td>\n",
       "      <td>18781</td>\n",
       "      <td>Pembroke</td>\n",
       "      <td>This is Canela. She attempted some fancy porch...</td>\n",
       "      <td></td>\n",
       "    </tr>\n",
       "    <tr>\n",
       "      <th>82</th>\n",
       "      <td>Earl</td>\n",
       "      <td>12</td>\n",
       "      <td>68152</td>\n",
       "      <td>16439</td>\n",
       "      <td>Italian_greyhound</td>\n",
       "      <td>This is Earl. He found a hat. Nervous about wh...</td>\n",
       "      <td></td>\n",
       "    </tr>\n",
       "    <tr>\n",
       "      <th>312</th>\n",
       "      <td>a</td>\n",
       "      <td>13</td>\n",
       "      <td>66437</td>\n",
       "      <td>21840</td>\n",
       "      <td>chow</td>\n",
       "      <td>We only rate dogs. Please don't send perfectly...</td>\n",
       "      <td></td>\n",
       "    </tr>\n",
       "    <tr>\n",
       "      <th>665</th>\n",
       "      <td>Dexter</td>\n",
       "      <td>13</td>\n",
       "      <td>58302</td>\n",
       "      <td>18627</td>\n",
       "      <td>boxer</td>\n",
       "      <td>This is Dexter. He was reunited with his mom y...</td>\n",
       "      <td></td>\n",
       "    </tr>\n",
       "    <tr>\n",
       "      <th>834</th>\n",
       "      <td>Buddy</td>\n",
       "      <td>13</td>\n",
       "      <td>57622</td>\n",
       "      <td>31314</td>\n",
       "      <td>cocker_spaniel</td>\n",
       "      <td>This is Buddy. He ran into a glass door once. ...</td>\n",
       "      <td></td>\n",
       "    </tr>\n",
       "    <tr>\n",
       "      <th>15</th>\n",
       "      <td>a</td>\n",
       "      <td>13</td>\n",
       "      <td>56848</td>\n",
       "      <td>16716</td>\n",
       "      <td>Pomeranian</td>\n",
       "      <td>When you watch your owner call another dog a g...</td>\n",
       "      <td></td>\n",
       "    </tr>\n",
       "    <tr>\n",
       "      <th>727</th>\n",
       "      <td>a</td>\n",
       "      <td>14</td>\n",
       "      <td>56413</td>\n",
       "      <td>19669</td>\n",
       "      <td>Rottweiler</td>\n",
       "      <td>Here's a very loving and accepting puppo. Appe...</td>\n",
       "      <td>puppo</td>\n",
       "    </tr>\n",
       "    <tr>\n",
       "      <th>1131</th>\n",
       "      <td>a</td>\n",
       "      <td>13</td>\n",
       "      <td>55683</td>\n",
       "      <td>27728</td>\n",
       "      <td>golden_retriever</td>\n",
       "      <td>Elder doggo does a splash. Both 13/10 incredib...</td>\n",
       "      <td>doggo</td>\n",
       "    </tr>\n",
       "    <tr>\n",
       "      <th>276</th>\n",
       "      <td>Coco</td>\n",
       "      <td>12</td>\n",
       "      <td>54720</td>\n",
       "      <td>15546</td>\n",
       "      <td>Samoyed</td>\n",
       "      <td>This is Coco. At first I thought she was a clo...</td>\n",
       "      <td></td>\n",
       "    </tr>\n",
       "    <tr>\n",
       "      <th>124</th>\n",
       "      <td>Gary</td>\n",
       "      <td>13</td>\n",
       "      <td>51522</td>\n",
       "      <td>11099</td>\n",
       "      <td>Saluki</td>\n",
       "      <td>This is Gary. He couldn't miss this puppertuni...</td>\n",
       "      <td>pupper</td>\n",
       "    </tr>\n",
       "  </tbody>\n",
       "</table>\n",
       "</div>"
      ],
      "text/plain": [
       "         name  rating_numerator  favorites  retweets  \\\n",
       "757         a                13     132810     48265   \n",
       "1930        a                13     131075     79515   \n",
       "143   Duddles                13     107956     45849   \n",
       "1001  Stephan                13     107015     56625   \n",
       "273    Jamesy                13     106827     32883   \n",
       "818        Bo                14      95450     42228   \n",
       "238      Zoey                13      85011     27680   \n",
       "2009        a                13      75163     52360   \n",
       "646     Lilly                13      73397     19297   \n",
       "162       Aja                13      71144     17300   \n",
       "57     Canela                13      69871     18781   \n",
       "82       Earl                12      68152     16439   \n",
       "312         a                13      66437     21840   \n",
       "665    Dexter                13      58302     18627   \n",
       "834     Buddy                13      57622     31314   \n",
       "15          a                13      56848     16716   \n",
       "727         a                14      56413     19669   \n",
       "1131        a                13      55683     27728   \n",
       "276      Coco                12      54720     15546   \n",
       "124      Gary                13      51522     11099   \n",
       "\n",
       "                    breed_name  \\\n",
       "757           Lakeland_terrier   \n",
       "1930        Labrador_retriever   \n",
       "143           English_springer   \n",
       "1001                 Chihuahua   \n",
       "273             French_bulldog   \n",
       "818            standard_poodle   \n",
       "238           golden_retriever   \n",
       "2009                Eskimo_dog   \n",
       "646         Labrador_retriever   \n",
       "162   Chesapeake_Bay_retriever   \n",
       "57                    Pembroke   \n",
       "82           Italian_greyhound   \n",
       "312                       chow   \n",
       "665                      boxer   \n",
       "834             cocker_spaniel   \n",
       "15                  Pomeranian   \n",
       "727                 Rottweiler   \n",
       "1131          golden_retriever   \n",
       "276                    Samoyed   \n",
       "124                     Saluki   \n",
       "\n",
       "                                                   text dog_stages  \n",
       "757   Here's a super supportive puppo participating ...      puppo  \n",
       "1930  Here's a doggo realizing you can stand in a po...      doggo  \n",
       "143   This is Duddles. He did an attempt. 13/10 some...             \n",
       "1001  This is Stephan. He just wants to help. 13/10 ...             \n",
       "273   This is Jamesy. He gives a kiss to every other...     pupper  \n",
       "818   This is Bo. He was a very good First Doggo. 14...      doggo  \n",
       "238   This is Zoey. She really likes the planet. Wou...             \n",
       "2009  Here's a doggo blowing bubbles. It's downright...      doggo  \n",
       "646   This is Lilly. She just parallel barked. Kindl...             \n",
       "162   This is Aja. She was just told she's a good do...             \n",
       "57    This is Canela. She attempted some fancy porch...             \n",
       "82    This is Earl. He found a hat. Nervous about wh...             \n",
       "312   We only rate dogs. Please don't send perfectly...             \n",
       "665   This is Dexter. He was reunited with his mom y...             \n",
       "834   This is Buddy. He ran into a glass door once. ...             \n",
       "15    When you watch your owner call another dog a g...             \n",
       "727   Here's a very loving and accepting puppo. Appe...      puppo  \n",
       "1131  Elder doggo does a splash. Both 13/10 incredib...      doggo  \n",
       "276   This is Coco. At first I thought she was a clo...             \n",
       "124   This is Gary. He couldn't miss this puppertuni...     pupper  "
      ]
     },
     "execution_count": 90,
     "metadata": {},
     "output_type": "execute_result"
    }
   ],
   "source": [
    "#the top 20 by tweet favorite and retweets\n",
    "highest_liked.filter(['name','rating_numerator','favorites', 'retweets', 'breed_name','text', 'dog_stages']).head(20)"
   ]
  },
  {
   "cell_type": "code",
   "execution_count": 91,
   "metadata": {},
   "outputs": [
    {
     "data": {
      "image/png": "[encoded data removed]",
      "text/plain": [
       "<Figure size 1296x576 with 3 Axes>"
      ]
     },
     "metadata": {
      "needs_background": "light"
     },
     "output_type": "display_data"
    }
   ],
   "source": [
    "#plots for likes and rating of the top 100 most liked dogs\n",
    "\n",
    "plt.figure(figsize=[18, 8])\n",
    "\n",
    "plt.subplot(1, 2, 1)\n",
    "\n",
    "sb.regplot(data = highest_liked, x = 'rating_numerator', y = 'favorites', x_jitter= 0.01,scatter_kws = {'alpha' : 0.45}, fit_reg = False)\n",
    "plt.xlabel('dog rating')\n",
    "plt.ylabel('likes')\n",
    "plt.xticks(np.arange(0,15, step=1))\n",
    "plt.yticks(np.arange(0,135000, step=10000))\n",
    "\n",
    "plt.subplot(1, 2, 2)\n",
    "\n",
    "plt.hist2d(data = highest_liked, x = 'rating_numerator', y = 'favorites', cmin=0.5, cmap='viridis_r')\n",
    "plt.colorbar()\n",
    "plt.xlabel('dog rating')\n",
    "plt.ylabel('likes')\n",
    "plt.xticks(np.arange(0,15, step=1))\n",
    "plt.yticks(np.arange(0,135000, step=10000))\n",
    "\n",
    "plt.show();"
   ]
  },
  {
   "cell_type": "markdown",
   "metadata": {},
   "source": [
    "   __From the scatter plot and heat plot of the top 100 most liked dogs above:__\n",
    "   - Most dogs have a rating of 13 and 30 000 to 40 000 likes(area of high frequency in a dark color). \n",
    "   - The rating and favorites are not related. There is no noticeable upward or downward trend.\n",
    "   - A few dogs with a rating of 10 or less have likes of 40 000 and above.\n",
    "   - There are also a few dogs with an outrageous tweet like(100 000 and above) and a high rating of 13 out of 10"
   ]
  },
  {
   "cell_type": "code",
   "execution_count": 92,
   "metadata": {},
   "outputs": [
    {
     "data": {
      "text/plain": [
       "golden_retriever      15\n",
       "Pembroke               9\n",
       "Labrador_retriever     9\n",
       "Chihuahua              8\n",
       "French_bulldog         6\n",
       "Samoyed                6\n",
       "Cardigan               3\n",
       "pug                    3\n",
       "miniature_pinscher     3\n",
       "Pomeranian             2\n",
       "Name: breed_name, dtype: int64"
      ]
     },
     "execution_count": 92,
     "metadata": {},
     "output_type": "execute_result"
    }
   ],
   "source": [
    "#the top 10 dog breeds by tweet favorite and retweets\n",
    "highest_liked.breed_name.value_counts().head(10)"
   ]
  },
  {
   "cell_type": "markdown",
   "metadata": {},
   "source": [
    "### Q 3: Is there a relationship between dog ratings, favourites and retweets count?"
   ]
  },
  {
   "cell_type": "markdown",
   "metadata": {},
   "source": [
    "   I have two discrete vaiables 'retweets' and 'favorites' which I will use a heatmap and scatterplot to represent."
   ]
  },
  {
   "cell_type": "code",
   "execution_count": 93,
   "metadata": {},
   "outputs": [
    {
     "data": {
      "image/png": "[encoded data removed]",
      "text/plain": [
       "<Figure size 1152x432 with 3 Axes>"
      ]
     },
     "metadata": {
      "needs_background": "light"
     },
     "output_type": "display_data"
    }
   ],
   "source": [
    "#plots for likes and retweets \n",
    "\n",
    "plt.figure(figsize=[16, 6])\n",
    "\n",
    "plt.subplot(1, 2, 1)\n",
    "\n",
    "sb.regplot(data = twitter_archive_master, x = 'retweets', y = 'favorites', x_jitter= 0.01,\n",
    "           scatter_kws = {'alpha' : 0.45}, fit_reg = False)\n",
    "plt.xlabel('retweets')\n",
    "plt.ylabel('likes')\n",
    "\n",
    "\n",
    "plt.subplot(1, 2, 2)\n",
    "\n",
    "plt.hist2d(data = twitter_archive_master, x = 'retweets', y = 'favorites', cmin=0.5, cmap='viridis_r')\n",
    "plt.colorbar()\n",
    "plt.xlabel('retweets')\n",
    "plt.ylabel('likes')\n",
    "\n",
    "plt.show();"
   ]
  },
  {
   "cell_type": "markdown",
   "metadata": {},
   "source": [
    "__From the scatter plot and heat plot above:__ \n",
    "   - Most dogs have 0 to 40 000 likes and 0 to 10 000 retweets(areas of high frequency). \n",
    "   - The tweet retweets and favorites are are positively correlated - as favorites increase so does retweets. \n",
    "   - For most tweets likes are higher then retweets.\n",
    "   - Since favorites and ratings are not related, I conclude that retweets and ratings are not related too"
   ]
  },
  {
   "cell_type": "markdown",
   "metadata": {},
   "source": [
    "_____"
   ]
  },
  {
   "cell_type": "markdown",
   "metadata": {},
   "source": [
    "### Insights:\n",
    "From the above analysis, it can be concluded:\n",
    "1.\tThe highest rated dogs are not necessarily the ones with high twitter interactions.\n",
    "\n",
    "2.\tDogs that that are puppies get the highest interactions.\n",
    "\n",
    "3.\tDogs predicted to be of the following breeds get the 10 highest twitter engagements:\n",
    "    -\tGolden retrievers, \n",
    "    -\tPembroke, \n",
    "    -\tLabrador retrievers\n",
    "    -\tChihuahua\n",
    "    -\tFrench bulldog\n",
    "    -\tSamoyed\n",
    "    -\tCardigan\n",
    "    -\tPug\n",
    "    -\tMiniature Pinscher\n",
    "    -\tPomeranian\n"
   ]
  },
  {
   "cell_type": "markdown",
   "metadata": {},
   "source": [
    "_____"
   ]
  },
  {
   "cell_type": "markdown",
   "metadata": {
    "collapsed": true
   },
   "source": [
    "### Visualization"
   ]
  },
  {
   "cell_type": "code",
   "execution_count": 94,
   "metadata": {},
   "outputs": [],
   "source": [
    "#maybe use hexadecimal color codes instead of string names when plotting visuals???. Reference: Lesson 4.17\n",
    "#analysing visuals: lesson 3.14"
   ]
  },
  {
   "cell_type": "code",
   "execution_count": 95,
   "metadata": {},
   "outputs": [],
   "source": [
    "#highest_rated_merged.describe()"
   ]
  },
  {
   "cell_type": "code",
   "execution_count": 96,
   "metadata": {},
   "outputs": [
    {
     "data": {
      "image/png": "[encoded data removed]",
      "text/plain": [
       "<Figure size 1008x432 with 1 Axes>"
      ]
     },
     "metadata": {
      "needs_background": "light"
     },
     "output_type": "display_data"
    }
   ],
   "source": [
    "#Horizontal bar chart for dog stages.\n",
    "nonull_highest_rated = highest_liked.query('dog_stages == \"doggo\" or dog_stages == \"puppo\" or dog_stages == \"pupper\" or dog_stages == \"floofer\"')\n",
    "type_order = nonull_highest_rated['dog_stages'].value_counts().index\n",
    "plt.figure(figsize=[14, 6])\n",
    "plt.title('Dog Stages in the 100 Most Liked on Twitter')\n",
    "sb.countplot(data=nonull_highest_rated, y='dog_stages', color='#F89F5B', order=type_order);"
   ]
  },
  {
   "cell_type": "code",
   "execution_count": 97,
   "metadata": {
    "scrolled": true
   },
   "outputs": [
    {
     "data": {
      "image/png": "[encoded data removed]",
      "text/plain": [
       "<Figure size 1440x1584 with 1 Axes>"
      ]
     },
     "metadata": {
      "needs_background": "light"
     },
     "output_type": "display_data"
    }
   ],
   "source": [
    "#Horizontal bar chart for most liked dog breeds.\n",
    "#maybe just show the top 20 only.\n",
    "#Limitation: These results are depending on the accuracy of the first image prediction confidence\n",
    "#type_order = highest_rated['breed_name'].value_counts()\n",
    "type_order1 = highest_liked['breed_name'].value_counts().index\n",
    "plt.figure(figsize=[20, 22])\n",
    "sb.countplot(data=highest_liked, y='breed_name', color='#F89F5B', order=type_order1);\n",
    "plt.xticks(np.arange(0,20, step=2), fontsize = 18)\n",
    "plt.yticks(fontsize = 18)\n",
    "plt.title('Dog Breeds in the 100 Most Liked on Twitter', fontsize = 22)\n",
    "plt.ylabel('Dog Breeds', fontsize = 20)\n",
    "plt.xlabel('Count', fontsize = 20);"
   ]
  },
  {
   "cell_type": "code",
   "execution_count": 98,
   "metadata": {
    "scrolled": true
   },
   "outputs": [],
   "source": [
    "breed1 = \" \".join(n for n in type_order1)"
   ]
  },
  {
   "cell_type": "code",
   "execution_count": 99,
   "metadata": {},
   "outputs": [
    {
     "data": {
      "image/png": "[encoded data removed]",
      "text/plain": [
       "<Figure size 1296x1296 with 1 Axes>"
      ]
     },
     "metadata": {
      "needs_background": "light"
     },
     "output_type": "display_data"
    }
   ],
   "source": [
    "plt.figure(figsize=[18, 18])\n",
    "wc = WordCloud(min_font_size=6, background_color = \"white\").generate(breed1)\n",
    "plt.imshow(wc, interpolation='bilinear')\n",
    "plt.axis('off')\n",
    "plt.show()"
   ]
  },
  {
   "cell_type": "code",
   "execution_count": 100,
   "metadata": {},
   "outputs": [
    {
     "data": {
      "text/plain": [
       "<wordcloud.wordcloud.WordCloud at 0x2690cef6608>"
      ]
     },
     "execution_count": 100,
     "metadata": {},
     "output_type": "execute_result"
    }
   ],
   "source": [
    "wc.to_file(\"images/dog_breed.png\")"
   ]
  },
  {
   "cell_type": "code",
   "execution_count": 101,
   "metadata": {},
   "outputs": [],
   "source": [
    "#more data on the dog breed characteristics such as height, weight, hunter/guard/rescuing dog?"
   ]
  },
  {
   "cell_type": "markdown",
   "metadata": {},
   "source": [
    "_____"
   ]
  },
  {
   "cell_type": "code",
   "execution_count": null,
   "metadata": {},
   "outputs": [],
   "source": []
  }
 ],
 "metadata": {
  "extensions": {
   "jupyter_dashboards": {
    "activeView": "report_default",
    "version": 1,
    "views": {
     "grid_default": {
      "cellMargin": 10,
      "defaultCellHeight": 20,
      "maxColumns": 12,
      "name": "grid",
      "type": "grid"
     },
     "report_default": {
      "name": "report",
      "type": "report"
     }
    }
   }
  },
  "kernelspec": {
   "display_name": "Python 3",
   "language": "python",
   "name": "python3"
  },
  "language_info": {
   "codemirror_mode": {
    "name": "ipython",
    "version": 3
   },
   "file_extension": ".py",
   "mimetype": "text/x-python",
   "name": "python",
   "nbconvert_exporter": "python",
   "pygments_lexer": "ipython3",
   "version": "3.7.13"
  }
 },
 "nbformat": 4,
 "nbformat_minor": 2
}
